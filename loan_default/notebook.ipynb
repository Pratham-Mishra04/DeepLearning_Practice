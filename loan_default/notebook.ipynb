{
 "cells": [
  {
   "cell_type": "code",
   "execution_count": 1,
   "id": "7acc1829-bea8-486d-b04d-59d77e3fe313",
   "metadata": {},
   "outputs": [],
   "source": [
    "import pandas as pd\n",
    "import numpy as np\n",
    "import matplotlib.pyplot as plt\n",
    "import seaborn as sns\n",
    "%matplotlib inline"
   ]
  },
  {
   "cell_type": "code",
   "execution_count": 2,
   "id": "c858108e-4afa-4b89-b518-02132bd5ddd8",
   "metadata": {},
   "outputs": [],
   "source": [
    "df = pd.read_csv('dataset.csv')\n",
    "df_info = pd.read_csv('info.csv', index_col='LoanStatNew')"
   ]
  },
  {
   "cell_type": "code",
   "execution_count": 3,
   "id": "a704fadb-8f96-4f54-9f3f-bfe3156cef28",
   "metadata": {},
   "outputs": [
    {
     "data": {
      "text/plain": [
       "LoanStatNew\n",
       "loan_amnt               The listed amount of the loan applied for by t...\n",
       "term                    The number of payments on the loan. Values are...\n",
       "int_rate                                        Interest Rate on the loan\n",
       "installment             The monthly payment owed by the borrower if th...\n",
       "grade                                              LC assigned loan grade\n",
       "sub_grade                                       LC assigned loan subgrade\n",
       "emp_title               The job title supplied by the Borrower when ap...\n",
       "emp_length              Employment length in years. Possible values ar...\n",
       "home_ownership          The home ownership status provided by the borr...\n",
       "annual_inc              The self-reported annual income provided by th...\n",
       "verification_status     Indicates if income was verified by LC, not ve...\n",
       "issue_d                               The month which the loan was funded\n",
       "loan_status                                    Current status of the loan\n",
       "purpose                 A category provided by the borrower for the lo...\n",
       "title                             The loan title provided by the borrower\n",
       "zip_code                The first 3 numbers of the zip code provided b...\n",
       "addr_state              The state provided by the borrower in the loan...\n",
       "dti                     A ratio calculated using the borrower’s total ...\n",
       "earliest_cr_line        The month the borrower's earliest reported cre...\n",
       "open_acc                The number of open credit lines in the borrowe...\n",
       "pub_rec                               Number of derogatory public records\n",
       "revol_bal                                  Total credit revolving balance\n",
       "revol_util              Revolving line utilization rate, or the amount...\n",
       "total_acc               The total number of credit lines currently in ...\n",
       "initial_list_status     The initial listing status of the loan. Possib...\n",
       "application_type        Indicates whether the loan is an individual ap...\n",
       "mort_acc                                     Number of mortgage accounts.\n",
       "pub_rec_bankruptcies                 Number of public record bankruptcies\n",
       "Name: Description, dtype: object"
      ]
     },
     "execution_count": 3,
     "metadata": {},
     "output_type": "execute_result"
    }
   ],
   "source": [
    "df_info['Description']"
   ]
  },
  {
   "cell_type": "code",
   "execution_count": 4,
   "id": "64b3a694-b294-438d-87f1-391a7b119c62",
   "metadata": {},
   "outputs": [],
   "source": [
    "def feat_info(col_name):\n",
    "    print(\"Description: \", df_info.loc[col_name]['Description'])\n",
    "    print(\"Type: \", type(df[col_name][0]))"
   ]
  },
  {
   "cell_type": "code",
   "execution_count": 5,
   "id": "8144a0e6-ac3f-4f24-a0e8-5f6e564252d6",
   "metadata": {},
   "outputs": [
    {
     "name": "stdout",
     "output_type": "stream",
     "text": [
      "Description:  The listed amount of the loan applied for by the borrower. If at some point in time, the credit department reduces the loan amount, then it will be reflected in this value.\n",
      "Type:  <class 'numpy.float64'>\n"
     ]
    }
   ],
   "source": [
    "feat_info('loan_amnt')"
   ]
  },
  {
   "cell_type": "code",
   "execution_count": 6,
   "id": "73322ce1-d74f-4837-a50d-e2344c68aa3d",
   "metadata": {},
   "outputs": [
    {
     "data": {
      "text/html": [
       "<div>\n",
       "<style scoped>\n",
       "    .dataframe tbody tr th:only-of-type {\n",
       "        vertical-align: middle;\n",
       "    }\n",
       "\n",
       "    .dataframe tbody tr th {\n",
       "        vertical-align: top;\n",
       "    }\n",
       "\n",
       "    .dataframe thead th {\n",
       "        text-align: right;\n",
       "    }\n",
       "</style>\n",
       "<table border=\"1\" class=\"dataframe\">\n",
       "  <thead>\n",
       "    <tr style=\"text-align: right;\">\n",
       "      <th></th>\n",
       "      <th>loan_amnt</th>\n",
       "      <th>term</th>\n",
       "      <th>int_rate</th>\n",
       "      <th>installment</th>\n",
       "      <th>grade</th>\n",
       "      <th>sub_grade</th>\n",
       "      <th>emp_title</th>\n",
       "      <th>emp_length</th>\n",
       "      <th>home_ownership</th>\n",
       "      <th>annual_inc</th>\n",
       "      <th>...</th>\n",
       "      <th>open_acc</th>\n",
       "      <th>pub_rec</th>\n",
       "      <th>revol_bal</th>\n",
       "      <th>revol_util</th>\n",
       "      <th>total_acc</th>\n",
       "      <th>initial_list_status</th>\n",
       "      <th>application_type</th>\n",
       "      <th>mort_acc</th>\n",
       "      <th>pub_rec_bankruptcies</th>\n",
       "      <th>address</th>\n",
       "    </tr>\n",
       "  </thead>\n",
       "  <tbody>\n",
       "    <tr>\n",
       "      <th>0</th>\n",
       "      <td>10000.0</td>\n",
       "      <td>36 months</td>\n",
       "      <td>11.44</td>\n",
       "      <td>329.48</td>\n",
       "      <td>B</td>\n",
       "      <td>B4</td>\n",
       "      <td>Marketing</td>\n",
       "      <td>10+ years</td>\n",
       "      <td>RENT</td>\n",
       "      <td>117000.0</td>\n",
       "      <td>...</td>\n",
       "      <td>16.0</td>\n",
       "      <td>0.0</td>\n",
       "      <td>36369.0</td>\n",
       "      <td>41.8</td>\n",
       "      <td>25.0</td>\n",
       "      <td>w</td>\n",
       "      <td>INDIVIDUAL</td>\n",
       "      <td>0.0</td>\n",
       "      <td>0.0</td>\n",
       "      <td>0174 Michelle Gateway\\nMendozaberg, OK 22690</td>\n",
       "    </tr>\n",
       "    <tr>\n",
       "      <th>1</th>\n",
       "      <td>8000.0</td>\n",
       "      <td>36 months</td>\n",
       "      <td>11.99</td>\n",
       "      <td>265.68</td>\n",
       "      <td>B</td>\n",
       "      <td>B5</td>\n",
       "      <td>Credit analyst</td>\n",
       "      <td>4 years</td>\n",
       "      <td>MORTGAGE</td>\n",
       "      <td>65000.0</td>\n",
       "      <td>...</td>\n",
       "      <td>17.0</td>\n",
       "      <td>0.0</td>\n",
       "      <td>20131.0</td>\n",
       "      <td>53.3</td>\n",
       "      <td>27.0</td>\n",
       "      <td>f</td>\n",
       "      <td>INDIVIDUAL</td>\n",
       "      <td>3.0</td>\n",
       "      <td>0.0</td>\n",
       "      <td>1076 Carney Fort Apt. 347\\nLoganmouth, SD 05113</td>\n",
       "    </tr>\n",
       "    <tr>\n",
       "      <th>2</th>\n",
       "      <td>15600.0</td>\n",
       "      <td>36 months</td>\n",
       "      <td>10.49</td>\n",
       "      <td>506.97</td>\n",
       "      <td>B</td>\n",
       "      <td>B3</td>\n",
       "      <td>Statistician</td>\n",
       "      <td>&lt; 1 year</td>\n",
       "      <td>RENT</td>\n",
       "      <td>43057.0</td>\n",
       "      <td>...</td>\n",
       "      <td>13.0</td>\n",
       "      <td>0.0</td>\n",
       "      <td>11987.0</td>\n",
       "      <td>92.2</td>\n",
       "      <td>26.0</td>\n",
       "      <td>f</td>\n",
       "      <td>INDIVIDUAL</td>\n",
       "      <td>0.0</td>\n",
       "      <td>0.0</td>\n",
       "      <td>87025 Mark Dale Apt. 269\\nNew Sabrina, WV 05113</td>\n",
       "    </tr>\n",
       "    <tr>\n",
       "      <th>3</th>\n",
       "      <td>7200.0</td>\n",
       "      <td>36 months</td>\n",
       "      <td>6.49</td>\n",
       "      <td>220.65</td>\n",
       "      <td>A</td>\n",
       "      <td>A2</td>\n",
       "      <td>Client Advocate</td>\n",
       "      <td>6 years</td>\n",
       "      <td>RENT</td>\n",
       "      <td>54000.0</td>\n",
       "      <td>...</td>\n",
       "      <td>6.0</td>\n",
       "      <td>0.0</td>\n",
       "      <td>5472.0</td>\n",
       "      <td>21.5</td>\n",
       "      <td>13.0</td>\n",
       "      <td>f</td>\n",
       "      <td>INDIVIDUAL</td>\n",
       "      <td>0.0</td>\n",
       "      <td>0.0</td>\n",
       "      <td>823 Reid Ford\\nDelacruzside, MA 00813</td>\n",
       "    </tr>\n",
       "    <tr>\n",
       "      <th>4</th>\n",
       "      <td>24375.0</td>\n",
       "      <td>60 months</td>\n",
       "      <td>17.27</td>\n",
       "      <td>609.33</td>\n",
       "      <td>C</td>\n",
       "      <td>C5</td>\n",
       "      <td>Destiny Management Inc.</td>\n",
       "      <td>9 years</td>\n",
       "      <td>MORTGAGE</td>\n",
       "      <td>55000.0</td>\n",
       "      <td>...</td>\n",
       "      <td>13.0</td>\n",
       "      <td>0.0</td>\n",
       "      <td>24584.0</td>\n",
       "      <td>69.8</td>\n",
       "      <td>43.0</td>\n",
       "      <td>f</td>\n",
       "      <td>INDIVIDUAL</td>\n",
       "      <td>1.0</td>\n",
       "      <td>0.0</td>\n",
       "      <td>679 Luna Roads\\nGreggshire, VA 11650</td>\n",
       "    </tr>\n",
       "  </tbody>\n",
       "</table>\n",
       "<p>5 rows × 27 columns</p>\n",
       "</div>"
      ],
      "text/plain": [
       "   loan_amnt        term  int_rate  installment grade sub_grade  \\\n",
       "0    10000.0   36 months     11.44       329.48     B        B4   \n",
       "1     8000.0   36 months     11.99       265.68     B        B5   \n",
       "2    15600.0   36 months     10.49       506.97     B        B3   \n",
       "3     7200.0   36 months      6.49       220.65     A        A2   \n",
       "4    24375.0   60 months     17.27       609.33     C        C5   \n",
       "\n",
       "                 emp_title emp_length home_ownership  annual_inc  ...  \\\n",
       "0                Marketing  10+ years           RENT    117000.0  ...   \n",
       "1          Credit analyst     4 years       MORTGAGE     65000.0  ...   \n",
       "2             Statistician   < 1 year           RENT     43057.0  ...   \n",
       "3          Client Advocate    6 years           RENT     54000.0  ...   \n",
       "4  Destiny Management Inc.    9 years       MORTGAGE     55000.0  ...   \n",
       "\n",
       "  open_acc pub_rec revol_bal revol_util total_acc  initial_list_status  \\\n",
       "0     16.0     0.0   36369.0       41.8      25.0                    w   \n",
       "1     17.0     0.0   20131.0       53.3      27.0                    f   \n",
       "2     13.0     0.0   11987.0       92.2      26.0                    f   \n",
       "3      6.0     0.0    5472.0       21.5      13.0                    f   \n",
       "4     13.0     0.0   24584.0       69.8      43.0                    f   \n",
       "\n",
       "  application_type  mort_acc  pub_rec_bankruptcies  \\\n",
       "0       INDIVIDUAL       0.0                   0.0   \n",
       "1       INDIVIDUAL       3.0                   0.0   \n",
       "2       INDIVIDUAL       0.0                   0.0   \n",
       "3       INDIVIDUAL       0.0                   0.0   \n",
       "4       INDIVIDUAL       1.0                   0.0   \n",
       "\n",
       "                                           address  \n",
       "0     0174 Michelle Gateway\\nMendozaberg, OK 22690  \n",
       "1  1076 Carney Fort Apt. 347\\nLoganmouth, SD 05113  \n",
       "2  87025 Mark Dale Apt. 269\\nNew Sabrina, WV 05113  \n",
       "3            823 Reid Ford\\nDelacruzside, MA 00813  \n",
       "4             679 Luna Roads\\nGreggshire, VA 11650  \n",
       "\n",
       "[5 rows x 27 columns]"
      ]
     },
     "execution_count": 6,
     "metadata": {},
     "output_type": "execute_result"
    }
   ],
   "source": [
    "df.head()"
   ]
  },
  {
   "cell_type": "code",
   "execution_count": 7,
   "id": "4d2a59b9-c41b-43c6-b535-f513567123ae",
   "metadata": {},
   "outputs": [
    {
     "data": {
      "text/html": [
       "<div>\n",
       "<style scoped>\n",
       "    .dataframe tbody tr th:only-of-type {\n",
       "        vertical-align: middle;\n",
       "    }\n",
       "\n",
       "    .dataframe tbody tr th {\n",
       "        vertical-align: top;\n",
       "    }\n",
       "\n",
       "    .dataframe thead th {\n",
       "        text-align: right;\n",
       "    }\n",
       "</style>\n",
       "<table border=\"1\" class=\"dataframe\">\n",
       "  <thead>\n",
       "    <tr style=\"text-align: right;\">\n",
       "      <th></th>\n",
       "      <th>count</th>\n",
       "      <th>mean</th>\n",
       "      <th>std</th>\n",
       "      <th>min</th>\n",
       "      <th>25%</th>\n",
       "      <th>50%</th>\n",
       "      <th>75%</th>\n",
       "      <th>max</th>\n",
       "    </tr>\n",
       "  </thead>\n",
       "  <tbody>\n",
       "    <tr>\n",
       "      <th>loan_amnt</th>\n",
       "      <td>396030.0</td>\n",
       "      <td>14113.888089</td>\n",
       "      <td>8357.441341</td>\n",
       "      <td>500.00</td>\n",
       "      <td>8000.00</td>\n",
       "      <td>12000.00</td>\n",
       "      <td>20000.00</td>\n",
       "      <td>40000.00</td>\n",
       "    </tr>\n",
       "    <tr>\n",
       "      <th>int_rate</th>\n",
       "      <td>396030.0</td>\n",
       "      <td>13.639400</td>\n",
       "      <td>4.472157</td>\n",
       "      <td>5.32</td>\n",
       "      <td>10.49</td>\n",
       "      <td>13.33</td>\n",
       "      <td>16.49</td>\n",
       "      <td>30.99</td>\n",
       "    </tr>\n",
       "    <tr>\n",
       "      <th>installment</th>\n",
       "      <td>396030.0</td>\n",
       "      <td>431.849698</td>\n",
       "      <td>250.727790</td>\n",
       "      <td>16.08</td>\n",
       "      <td>250.33</td>\n",
       "      <td>375.43</td>\n",
       "      <td>567.30</td>\n",
       "      <td>1533.81</td>\n",
       "    </tr>\n",
       "    <tr>\n",
       "      <th>annual_inc</th>\n",
       "      <td>396030.0</td>\n",
       "      <td>74203.175798</td>\n",
       "      <td>61637.621158</td>\n",
       "      <td>0.00</td>\n",
       "      <td>45000.00</td>\n",
       "      <td>64000.00</td>\n",
       "      <td>90000.00</td>\n",
       "      <td>8706582.00</td>\n",
       "    </tr>\n",
       "    <tr>\n",
       "      <th>dti</th>\n",
       "      <td>396030.0</td>\n",
       "      <td>17.379514</td>\n",
       "      <td>18.019092</td>\n",
       "      <td>0.00</td>\n",
       "      <td>11.28</td>\n",
       "      <td>16.91</td>\n",
       "      <td>22.98</td>\n",
       "      <td>9999.00</td>\n",
       "    </tr>\n",
       "    <tr>\n",
       "      <th>open_acc</th>\n",
       "      <td>396030.0</td>\n",
       "      <td>11.311153</td>\n",
       "      <td>5.137649</td>\n",
       "      <td>0.00</td>\n",
       "      <td>8.00</td>\n",
       "      <td>10.00</td>\n",
       "      <td>14.00</td>\n",
       "      <td>90.00</td>\n",
       "    </tr>\n",
       "    <tr>\n",
       "      <th>pub_rec</th>\n",
       "      <td>396030.0</td>\n",
       "      <td>0.178191</td>\n",
       "      <td>0.530671</td>\n",
       "      <td>0.00</td>\n",
       "      <td>0.00</td>\n",
       "      <td>0.00</td>\n",
       "      <td>0.00</td>\n",
       "      <td>86.00</td>\n",
       "    </tr>\n",
       "    <tr>\n",
       "      <th>revol_bal</th>\n",
       "      <td>396030.0</td>\n",
       "      <td>15844.539853</td>\n",
       "      <td>20591.836109</td>\n",
       "      <td>0.00</td>\n",
       "      <td>6025.00</td>\n",
       "      <td>11181.00</td>\n",
       "      <td>19620.00</td>\n",
       "      <td>1743266.00</td>\n",
       "    </tr>\n",
       "    <tr>\n",
       "      <th>revol_util</th>\n",
       "      <td>395754.0</td>\n",
       "      <td>53.791749</td>\n",
       "      <td>24.452193</td>\n",
       "      <td>0.00</td>\n",
       "      <td>35.80</td>\n",
       "      <td>54.80</td>\n",
       "      <td>72.90</td>\n",
       "      <td>892.30</td>\n",
       "    </tr>\n",
       "    <tr>\n",
       "      <th>total_acc</th>\n",
       "      <td>396030.0</td>\n",
       "      <td>25.414744</td>\n",
       "      <td>11.886991</td>\n",
       "      <td>2.00</td>\n",
       "      <td>17.00</td>\n",
       "      <td>24.00</td>\n",
       "      <td>32.00</td>\n",
       "      <td>151.00</td>\n",
       "    </tr>\n",
       "    <tr>\n",
       "      <th>mort_acc</th>\n",
       "      <td>358235.0</td>\n",
       "      <td>1.813991</td>\n",
       "      <td>2.147930</td>\n",
       "      <td>0.00</td>\n",
       "      <td>0.00</td>\n",
       "      <td>1.00</td>\n",
       "      <td>3.00</td>\n",
       "      <td>34.00</td>\n",
       "    </tr>\n",
       "    <tr>\n",
       "      <th>pub_rec_bankruptcies</th>\n",
       "      <td>395495.0</td>\n",
       "      <td>0.121648</td>\n",
       "      <td>0.356174</td>\n",
       "      <td>0.00</td>\n",
       "      <td>0.00</td>\n",
       "      <td>0.00</td>\n",
       "      <td>0.00</td>\n",
       "      <td>8.00</td>\n",
       "    </tr>\n",
       "  </tbody>\n",
       "</table>\n",
       "</div>"
      ],
      "text/plain": [
       "                         count          mean           std     min       25%  \\\n",
       "loan_amnt             396030.0  14113.888089   8357.441341  500.00   8000.00   \n",
       "int_rate              396030.0     13.639400      4.472157    5.32     10.49   \n",
       "installment           396030.0    431.849698    250.727790   16.08    250.33   \n",
       "annual_inc            396030.0  74203.175798  61637.621158    0.00  45000.00   \n",
       "dti                   396030.0     17.379514     18.019092    0.00     11.28   \n",
       "open_acc              396030.0     11.311153      5.137649    0.00      8.00   \n",
       "pub_rec               396030.0      0.178191      0.530671    0.00      0.00   \n",
       "revol_bal             396030.0  15844.539853  20591.836109    0.00   6025.00   \n",
       "revol_util            395754.0     53.791749     24.452193    0.00     35.80   \n",
       "total_acc             396030.0     25.414744     11.886991    2.00     17.00   \n",
       "mort_acc              358235.0      1.813991      2.147930    0.00      0.00   \n",
       "pub_rec_bankruptcies  395495.0      0.121648      0.356174    0.00      0.00   \n",
       "\n",
       "                           50%       75%         max  \n",
       "loan_amnt             12000.00  20000.00    40000.00  \n",
       "int_rate                 13.33     16.49       30.99  \n",
       "installment             375.43    567.30     1533.81  \n",
       "annual_inc            64000.00  90000.00  8706582.00  \n",
       "dti                      16.91     22.98     9999.00  \n",
       "open_acc                 10.00     14.00       90.00  \n",
       "pub_rec                   0.00      0.00       86.00  \n",
       "revol_bal             11181.00  19620.00  1743266.00  \n",
       "revol_util               54.80     72.90      892.30  \n",
       "total_acc                24.00     32.00      151.00  \n",
       "mort_acc                  1.00      3.00       34.00  \n",
       "pub_rec_bankruptcies      0.00      0.00        8.00  "
      ]
     },
     "execution_count": 7,
     "metadata": {},
     "output_type": "execute_result"
    }
   ],
   "source": [
    "df.describe().transpose()"
   ]
  },
  {
   "cell_type": "code",
   "execution_count": 8,
   "id": "db557d0b-0896-45ad-8e0a-d8d147aa9cb8",
   "metadata": {},
   "outputs": [
    {
     "name": "stdout",
     "output_type": "stream",
     "text": [
      "<class 'pandas.core.frame.DataFrame'>\n",
      "RangeIndex: 396030 entries, 0 to 396029\n",
      "Data columns (total 27 columns):\n",
      " #   Column                Non-Null Count   Dtype  \n",
      "---  ------                --------------   -----  \n",
      " 0   loan_amnt             396030 non-null  float64\n",
      " 1   term                  396030 non-null  object \n",
      " 2   int_rate              396030 non-null  float64\n",
      " 3   installment           396030 non-null  float64\n",
      " 4   grade                 396030 non-null  object \n",
      " 5   sub_grade             396030 non-null  object \n",
      " 6   emp_title             373103 non-null  object \n",
      " 7   emp_length            377729 non-null  object \n",
      " 8   home_ownership        396030 non-null  object \n",
      " 9   annual_inc            396030 non-null  float64\n",
      " 10  verification_status   396030 non-null  object \n",
      " 11  issue_d               396030 non-null  object \n",
      " 12  loan_status           396030 non-null  object \n",
      " 13  purpose               396030 non-null  object \n",
      " 14  title                 394274 non-null  object \n",
      " 15  dti                   396030 non-null  float64\n",
      " 16  earliest_cr_line      396030 non-null  object \n",
      " 17  open_acc              396030 non-null  float64\n",
      " 18  pub_rec               396030 non-null  float64\n",
      " 19  revol_bal             396030 non-null  float64\n",
      " 20  revol_util            395754 non-null  float64\n",
      " 21  total_acc             396030 non-null  float64\n",
      " 22  initial_list_status   396030 non-null  object \n",
      " 23  application_type      396030 non-null  object \n",
      " 24  mort_acc              358235 non-null  float64\n",
      " 25  pub_rec_bankruptcies  395495 non-null  float64\n",
      " 26  address               396030 non-null  object \n",
      "dtypes: float64(12), object(15)\n",
      "memory usage: 81.6+ MB\n"
     ]
    }
   ],
   "source": [
    "df.info()"
   ]
  },
  {
   "cell_type": "code",
   "execution_count": 9,
   "id": "9dc0af13-8512-4d7a-9b4e-1547b006a5eb",
   "metadata": {},
   "outputs": [
    {
     "data": {
      "text/plain": [
       "term\n",
       " 36 months    302005\n",
       " 60 months     94025\n",
       "Name: count, dtype: int64"
      ]
     },
     "execution_count": 9,
     "metadata": {},
     "output_type": "execute_result"
    }
   ],
   "source": [
    "df['term'].value_counts()"
   ]
  },
  {
   "cell_type": "code",
   "execution_count": 10,
   "id": "0ec21db5-09c1-45f0-8493-d0ad6dd62831",
   "metadata": {},
   "outputs": [],
   "source": [
    "df['term']=df['term'].apply(lambda x: 36 if x.split(' ')[1]=='36' else 60)"
   ]
  },
  {
   "cell_type": "code",
   "execution_count": 11,
   "id": "28946e2d-d7cc-4675-800e-a81dab800591",
   "metadata": {},
   "outputs": [
    {
     "name": "stdout",
     "output_type": "stream",
     "text": [
      "Description:  LC assigned loan grade\n",
      "Type:  <class 'str'>\n"
     ]
    }
   ],
   "source": [
    "feat_info('grade')"
   ]
  },
  {
   "cell_type": "code",
   "execution_count": 12,
   "id": "b17a1556-9e3d-4277-816f-86853f81277e",
   "metadata": {},
   "outputs": [
    {
     "name": "stdout",
     "output_type": "stream",
     "text": [
      "Description:  LC assigned loan subgrade\n",
      "Type:  <class 'str'>\n"
     ]
    }
   ],
   "source": [
    "feat_info('sub_grade')"
   ]
  },
  {
   "cell_type": "code",
   "execution_count": 13,
   "id": "74c78c27-430d-4868-b3fe-81fc7dc3a85e",
   "metadata": {},
   "outputs": [
    {
     "data": {
      "text/plain": [
       "grade\n",
       "A     64187\n",
       "B    116018\n",
       "C    105987\n",
       "D     63524\n",
       "E     31488\n",
       "F     11772\n",
       "G      3054\n",
       "Name: count, dtype: int64"
      ]
     },
     "execution_count": 13,
     "metadata": {},
     "output_type": "execute_result"
    }
   ],
   "source": [
    "df['grade'].value_counts().sort_index()"
   ]
  },
  {
   "cell_type": "code",
   "execution_count": 14,
   "id": "2a8fd86e-e160-4f77-b063-9c50282edce7",
   "metadata": {},
   "outputs": [
    {
     "data": {
      "text/plain": [
       "sub_grade\n",
       "A1     9729\n",
       "A2     9567\n",
       "A3    10576\n",
       "A4    15789\n",
       "A5    18526\n",
       "B1    19182\n",
       "B2    22495\n",
       "B3    26655\n",
       "B4    25601\n",
       "B5    22085\n",
       "C1    23662\n",
       "C2    22580\n",
       "C3    21221\n",
       "C4    20280\n",
       "C5    18244\n",
       "D1    15993\n",
       "D2    13951\n",
       "D3    12223\n",
       "D4    11657\n",
       "D5     9700\n",
       "E1     7917\n",
       "E2     7431\n",
       "E3     6207\n",
       "E4     5361\n",
       "E5     4572\n",
       "F1     3536\n",
       "F2     2766\n",
       "F3     2286\n",
       "F4     1787\n",
       "F5     1397\n",
       "G1     1058\n",
       "G2      754\n",
       "G3      552\n",
       "G4      374\n",
       "G5      316\n",
       "Name: count, dtype: int64"
      ]
     },
     "execution_count": 14,
     "metadata": {},
     "output_type": "execute_result"
    }
   ],
   "source": [
    "df['sub_grade'].value_counts().sort_index()"
   ]
  },
  {
   "cell_type": "code",
   "execution_count": 15,
   "id": "d091bbb1-bf7f-4a7d-9425-5584269e3749",
   "metadata": {},
   "outputs": [],
   "source": [
    "df.drop('grade', axis=1, inplace=True)"
   ]
  },
  {
   "cell_type": "code",
   "execution_count": 16,
   "id": "4561a73d-8314-4afb-b3df-c8f92222b710",
   "metadata": {},
   "outputs": [],
   "source": [
    "sub_grades=pd.get_dummies(df['sub_grade'], drop_first=True, dtype=int)"
   ]
  },
  {
   "cell_type": "code",
   "execution_count": 17,
   "id": "ec2457b7-fa4e-47ec-88a8-7cfdbce2bcc8",
   "metadata": {},
   "outputs": [],
   "source": [
    "df=pd.concat([df, sub_grades], axis=1)"
   ]
  },
  {
   "cell_type": "code",
   "execution_count": 18,
   "id": "8cc106cf-7a07-4da7-a791-8e5770a17bb5",
   "metadata": {},
   "outputs": [],
   "source": [
    "df.drop('sub_grade', axis=1, inplace=True)"
   ]
  },
  {
   "cell_type": "code",
   "execution_count": 19,
   "id": "935983e7-d5d0-4fe6-b29f-098802da8cbd",
   "metadata": {},
   "outputs": [],
   "source": [
    "df.drop('emp_title', axis=1, inplace=True)"
   ]
  },
  {
   "cell_type": "code",
   "execution_count": 20,
   "id": "b67a3496-a1fc-4e89-85b9-1be119ee99de",
   "metadata": {},
   "outputs": [
    {
     "data": {
      "text/html": [
       "<div>\n",
       "<style scoped>\n",
       "    .dataframe tbody tr th:only-of-type {\n",
       "        vertical-align: middle;\n",
       "    }\n",
       "\n",
       "    .dataframe tbody tr th {\n",
       "        vertical-align: top;\n",
       "    }\n",
       "\n",
       "    .dataframe thead th {\n",
       "        text-align: right;\n",
       "    }\n",
       "</style>\n",
       "<table border=\"1\" class=\"dataframe\">\n",
       "  <thead>\n",
       "    <tr style=\"text-align: right;\">\n",
       "      <th></th>\n",
       "      <th>loan_amnt</th>\n",
       "      <th>term</th>\n",
       "      <th>int_rate</th>\n",
       "      <th>installment</th>\n",
       "      <th>emp_length</th>\n",
       "      <th>home_ownership</th>\n",
       "      <th>annual_inc</th>\n",
       "      <th>verification_status</th>\n",
       "      <th>issue_d</th>\n",
       "      <th>loan_status</th>\n",
       "      <th>...</th>\n",
       "      <th>F1</th>\n",
       "      <th>F2</th>\n",
       "      <th>F3</th>\n",
       "      <th>F4</th>\n",
       "      <th>F5</th>\n",
       "      <th>G1</th>\n",
       "      <th>G2</th>\n",
       "      <th>G3</th>\n",
       "      <th>G4</th>\n",
       "      <th>G5</th>\n",
       "    </tr>\n",
       "  </thead>\n",
       "  <tbody>\n",
       "    <tr>\n",
       "      <th>0</th>\n",
       "      <td>10000.0</td>\n",
       "      <td>36</td>\n",
       "      <td>11.44</td>\n",
       "      <td>329.48</td>\n",
       "      <td>10+ years</td>\n",
       "      <td>RENT</td>\n",
       "      <td>117000.0</td>\n",
       "      <td>Not Verified</td>\n",
       "      <td>Jan-2015</td>\n",
       "      <td>Fully Paid</td>\n",
       "      <td>...</td>\n",
       "      <td>0</td>\n",
       "      <td>0</td>\n",
       "      <td>0</td>\n",
       "      <td>0</td>\n",
       "      <td>0</td>\n",
       "      <td>0</td>\n",
       "      <td>0</td>\n",
       "      <td>0</td>\n",
       "      <td>0</td>\n",
       "      <td>0</td>\n",
       "    </tr>\n",
       "    <tr>\n",
       "      <th>1</th>\n",
       "      <td>8000.0</td>\n",
       "      <td>36</td>\n",
       "      <td>11.99</td>\n",
       "      <td>265.68</td>\n",
       "      <td>4 years</td>\n",
       "      <td>MORTGAGE</td>\n",
       "      <td>65000.0</td>\n",
       "      <td>Not Verified</td>\n",
       "      <td>Jan-2015</td>\n",
       "      <td>Fully Paid</td>\n",
       "      <td>...</td>\n",
       "      <td>0</td>\n",
       "      <td>0</td>\n",
       "      <td>0</td>\n",
       "      <td>0</td>\n",
       "      <td>0</td>\n",
       "      <td>0</td>\n",
       "      <td>0</td>\n",
       "      <td>0</td>\n",
       "      <td>0</td>\n",
       "      <td>0</td>\n",
       "    </tr>\n",
       "    <tr>\n",
       "      <th>2</th>\n",
       "      <td>15600.0</td>\n",
       "      <td>36</td>\n",
       "      <td>10.49</td>\n",
       "      <td>506.97</td>\n",
       "      <td>&lt; 1 year</td>\n",
       "      <td>RENT</td>\n",
       "      <td>43057.0</td>\n",
       "      <td>Source Verified</td>\n",
       "      <td>Jan-2015</td>\n",
       "      <td>Fully Paid</td>\n",
       "      <td>...</td>\n",
       "      <td>0</td>\n",
       "      <td>0</td>\n",
       "      <td>0</td>\n",
       "      <td>0</td>\n",
       "      <td>0</td>\n",
       "      <td>0</td>\n",
       "      <td>0</td>\n",
       "      <td>0</td>\n",
       "      <td>0</td>\n",
       "      <td>0</td>\n",
       "    </tr>\n",
       "    <tr>\n",
       "      <th>3</th>\n",
       "      <td>7200.0</td>\n",
       "      <td>36</td>\n",
       "      <td>6.49</td>\n",
       "      <td>220.65</td>\n",
       "      <td>6 years</td>\n",
       "      <td>RENT</td>\n",
       "      <td>54000.0</td>\n",
       "      <td>Not Verified</td>\n",
       "      <td>Nov-2014</td>\n",
       "      <td>Fully Paid</td>\n",
       "      <td>...</td>\n",
       "      <td>0</td>\n",
       "      <td>0</td>\n",
       "      <td>0</td>\n",
       "      <td>0</td>\n",
       "      <td>0</td>\n",
       "      <td>0</td>\n",
       "      <td>0</td>\n",
       "      <td>0</td>\n",
       "      <td>0</td>\n",
       "      <td>0</td>\n",
       "    </tr>\n",
       "    <tr>\n",
       "      <th>4</th>\n",
       "      <td>24375.0</td>\n",
       "      <td>60</td>\n",
       "      <td>17.27</td>\n",
       "      <td>609.33</td>\n",
       "      <td>9 years</td>\n",
       "      <td>MORTGAGE</td>\n",
       "      <td>55000.0</td>\n",
       "      <td>Verified</td>\n",
       "      <td>Apr-2013</td>\n",
       "      <td>Charged Off</td>\n",
       "      <td>...</td>\n",
       "      <td>0</td>\n",
       "      <td>0</td>\n",
       "      <td>0</td>\n",
       "      <td>0</td>\n",
       "      <td>0</td>\n",
       "      <td>0</td>\n",
       "      <td>0</td>\n",
       "      <td>0</td>\n",
       "      <td>0</td>\n",
       "      <td>0</td>\n",
       "    </tr>\n",
       "  </tbody>\n",
       "</table>\n",
       "<p>5 rows × 58 columns</p>\n",
       "</div>"
      ],
      "text/plain": [
       "   loan_amnt  term  int_rate  installment emp_length home_ownership  \\\n",
       "0    10000.0    36     11.44       329.48  10+ years           RENT   \n",
       "1     8000.0    36     11.99       265.68    4 years       MORTGAGE   \n",
       "2    15600.0    36     10.49       506.97   < 1 year           RENT   \n",
       "3     7200.0    36      6.49       220.65    6 years           RENT   \n",
       "4    24375.0    60     17.27       609.33    9 years       MORTGAGE   \n",
       "\n",
       "   annual_inc verification_status   issue_d  loan_status  ... F1 F2  F3 F4  \\\n",
       "0    117000.0        Not Verified  Jan-2015   Fully Paid  ...  0  0   0  0   \n",
       "1     65000.0        Not Verified  Jan-2015   Fully Paid  ...  0  0   0  0   \n",
       "2     43057.0     Source Verified  Jan-2015   Fully Paid  ...  0  0   0  0   \n",
       "3     54000.0        Not Verified  Nov-2014   Fully Paid  ...  0  0   0  0   \n",
       "4     55000.0            Verified  Apr-2013  Charged Off  ...  0  0   0  0   \n",
       "\n",
       "   F5  G1  G2  G3  G4 G5  \n",
       "0   0   0   0   0   0  0  \n",
       "1   0   0   0   0   0  0  \n",
       "2   0   0   0   0   0  0  \n",
       "3   0   0   0   0   0  0  \n",
       "4   0   0   0   0   0  0  \n",
       "\n",
       "[5 rows x 58 columns]"
      ]
     },
     "execution_count": 20,
     "metadata": {},
     "output_type": "execute_result"
    }
   ],
   "source": [
    "df.head()"
   ]
  },
  {
   "cell_type": "code",
   "execution_count": 21,
   "id": "17e3fa72-e6b1-464e-8008-ba8a3ac98a0b",
   "metadata": {},
   "outputs": [
    {
     "data": {
      "text/plain": [
       "emp_length\n",
       "10+ years    126041\n",
       "2 years       35827\n",
       "< 1 year      31725\n",
       "3 years       31665\n",
       "5 years       26495\n",
       "1 year        25882\n",
       "4 years       23952\n",
       "6 years       20841\n",
       "7 years       20819\n",
       "8 years       19168\n",
       "9 years       15314\n",
       "Name: count, dtype: int64"
      ]
     },
     "execution_count": 21,
     "metadata": {},
     "output_type": "execute_result"
    }
   ],
   "source": [
    "df['emp_length'].value_counts()"
   ]
  },
  {
   "cell_type": "code",
   "execution_count": 22,
   "id": "8afb4781-7064-4807-9cbd-1b4a2ad0174e",
   "metadata": {},
   "outputs": [],
   "source": [
    "import re\n",
    "\n",
    "def get_number(x):\n",
    "    try:\n",
    "        y=re.findall(r'\\d+', x)\n",
    "        return int(y[0])\n",
    "    except:\n",
    "        return x\n",
    "\n",
    "df['emp_length']=df['emp_length'].apply(get_number)"
   ]
  },
  {
   "cell_type": "code",
   "execution_count": 23,
   "id": "2c2ded51-b896-40b6-9518-edc292f5a266",
   "metadata": {},
   "outputs": [
    {
     "data": {
      "text/plain": [
       "home_ownership\n",
       "MORTGAGE    198348\n",
       "RENT        159790\n",
       "OWN          37746\n",
       "OTHER          112\n",
       "NONE            31\n",
       "ANY              3\n",
       "Name: count, dtype: int64"
      ]
     },
     "execution_count": 23,
     "metadata": {},
     "output_type": "execute_result"
    }
   ],
   "source": [
    "df['home_ownership'].value_counts()"
   ]
  },
  {
   "cell_type": "code",
   "execution_count": 24,
   "id": "0bdddc87-67eb-4800-be97-bc97fc6db1f0",
   "metadata": {},
   "outputs": [],
   "source": [
    "def convert_house_ownership(x):\n",
    "    if x=='OTHER' or x == 'ANY' or x=='NONE':\n",
    "        return 'OTHER'\n",
    "    else:\n",
    "        return x\n",
    "\n",
    "df['home_ownership']=df['home_ownership'].apply(convert_house_ownership)"
   ]
  },
  {
   "cell_type": "code",
   "execution_count": 25,
   "id": "4ebe5dcd-0e5e-427e-a42a-da6490504f02",
   "metadata": {},
   "outputs": [],
   "source": [
    "df=pd.concat([df, pd.get_dummies(df['home_ownership'], drop_first=True, dtype=int)], axis=1)"
   ]
  },
  {
   "cell_type": "code",
   "execution_count": 26,
   "id": "90d8fd3d-2d48-4bab-b5ab-18fff3793649",
   "metadata": {},
   "outputs": [],
   "source": [
    "df.drop('home_ownership', axis=1, inplace=True)"
   ]
  },
  {
   "cell_type": "code",
   "execution_count": 27,
   "id": "441e677a-09b5-47f7-8ad4-409ace3267a2",
   "metadata": {},
   "outputs": [
    {
     "name": "stdout",
     "output_type": "stream",
     "text": [
      "<class 'pandas.core.frame.DataFrame'>\n",
      "RangeIndex: 396030 entries, 0 to 396029\n",
      "Data columns (total 60 columns):\n",
      " #   Column                Non-Null Count   Dtype  \n",
      "---  ------                --------------   -----  \n",
      " 0   loan_amnt             396030 non-null  float64\n",
      " 1   term                  396030 non-null  int64  \n",
      " 2   int_rate              396030 non-null  float64\n",
      " 3   installment           396030 non-null  float64\n",
      " 4   emp_length            377729 non-null  float64\n",
      " 5   annual_inc            396030 non-null  float64\n",
      " 6   verification_status   396030 non-null  object \n",
      " 7   issue_d               396030 non-null  object \n",
      " 8   loan_status           396030 non-null  object \n",
      " 9   purpose               396030 non-null  object \n",
      " 10  title                 394274 non-null  object \n",
      " 11  dti                   396030 non-null  float64\n",
      " 12  earliest_cr_line      396030 non-null  object \n",
      " 13  open_acc              396030 non-null  float64\n",
      " 14  pub_rec               396030 non-null  float64\n",
      " 15  revol_bal             396030 non-null  float64\n",
      " 16  revol_util            395754 non-null  float64\n",
      " 17  total_acc             396030 non-null  float64\n",
      " 18  initial_list_status   396030 non-null  object \n",
      " 19  application_type      396030 non-null  object \n",
      " 20  mort_acc              358235 non-null  float64\n",
      " 21  pub_rec_bankruptcies  395495 non-null  float64\n",
      " 22  address               396030 non-null  object \n",
      " 23  A2                    396030 non-null  int64  \n",
      " 24  A3                    396030 non-null  int64  \n",
      " 25  A4                    396030 non-null  int64  \n",
      " 26  A5                    396030 non-null  int64  \n",
      " 27  B1                    396030 non-null  int64  \n",
      " 28  B2                    396030 non-null  int64  \n",
      " 29  B3                    396030 non-null  int64  \n",
      " 30  B4                    396030 non-null  int64  \n",
      " 31  B5                    396030 non-null  int64  \n",
      " 32  C1                    396030 non-null  int64  \n",
      " 33  C2                    396030 non-null  int64  \n",
      " 34  C3                    396030 non-null  int64  \n",
      " 35  C4                    396030 non-null  int64  \n",
      " 36  C5                    396030 non-null  int64  \n",
      " 37  D1                    396030 non-null  int64  \n",
      " 38  D2                    396030 non-null  int64  \n",
      " 39  D3                    396030 non-null  int64  \n",
      " 40  D4                    396030 non-null  int64  \n",
      " 41  D5                    396030 non-null  int64  \n",
      " 42  E1                    396030 non-null  int64  \n",
      " 43  E2                    396030 non-null  int64  \n",
      " 44  E3                    396030 non-null  int64  \n",
      " 45  E4                    396030 non-null  int64  \n",
      " 46  E5                    396030 non-null  int64  \n",
      " 47  F1                    396030 non-null  int64  \n",
      " 48  F2                    396030 non-null  int64  \n",
      " 49  F3                    396030 non-null  int64  \n",
      " 50  F4                    396030 non-null  int64  \n",
      " 51  F5                    396030 non-null  int64  \n",
      " 52  G1                    396030 non-null  int64  \n",
      " 53  G2                    396030 non-null  int64  \n",
      " 54  G3                    396030 non-null  int64  \n",
      " 55  G4                    396030 non-null  int64  \n",
      " 56  G5                    396030 non-null  int64  \n",
      " 57  OTHER                 396030 non-null  int64  \n",
      " 58  OWN                   396030 non-null  int64  \n",
      " 59  RENT                  396030 non-null  int64  \n",
      "dtypes: float64(13), int64(38), object(9)\n",
      "memory usage: 181.3+ MB\n"
     ]
    }
   ],
   "source": [
    "df.info()"
   ]
  },
  {
   "cell_type": "code",
   "execution_count": 28,
   "id": "5269314b-aabf-4d31-9d03-b71937d57283",
   "metadata": {},
   "outputs": [
    {
     "data": {
      "text/plain": [
       "verification_status\n",
       "Verified           139563\n",
       "Source Verified    131385\n",
       "Not Verified       125082\n",
       "Name: count, dtype: int64"
      ]
     },
     "execution_count": 28,
     "metadata": {},
     "output_type": "execute_result"
    }
   ],
   "source": [
    "df['verification_status'].value_counts()"
   ]
  },
  {
   "cell_type": "code",
   "execution_count": 29,
   "id": "4e2a5dd7-c04a-4cd8-bf14-ed83c3ddb94a",
   "metadata": {},
   "outputs": [],
   "source": [
    "df=pd.concat([df, pd.get_dummies(df['verification_status'], drop_first=True, dtype=int)], axis=1)"
   ]
  },
  {
   "cell_type": "code",
   "execution_count": 30,
   "id": "fd59540d-02b3-4423-93af-2ec064604f86",
   "metadata": {},
   "outputs": [],
   "source": [
    "df.drop('verification_status', axis=1, inplace=True)"
   ]
  },
  {
   "cell_type": "code",
   "execution_count": 31,
   "id": "c4eae29a-1e06-484a-85a9-57232b8214f0",
   "metadata": {},
   "outputs": [
    {
     "name": "stdout",
     "output_type": "stream",
     "text": [
      "Description:  The month which the loan was funded\n",
      "Type:  <class 'str'>\n"
     ]
    }
   ],
   "source": [
    "feat_info('issue_d')"
   ]
  },
  {
   "cell_type": "code",
   "execution_count": 32,
   "id": "990997d1-2d17-4058-8915-bdf8f07b43cd",
   "metadata": {},
   "outputs": [],
   "source": [
    "df.drop('issue_d', axis=1, inplace=True)"
   ]
  },
  {
   "cell_type": "code",
   "execution_count": 33,
   "id": "0144d7dc-0944-4ad6-aefc-f3814c1e6500",
   "metadata": {},
   "outputs": [
    {
     "data": {
      "text/plain": [
       "loan_status\n",
       "Fully Paid     318357\n",
       "Charged Off     77673\n",
       "Name: count, dtype: int64"
      ]
     },
     "execution_count": 33,
     "metadata": {},
     "output_type": "execute_result"
    }
   ],
   "source": [
    "df['loan_status'].value_counts()"
   ]
  },
  {
   "cell_type": "code",
   "execution_count": 34,
   "id": "b4c6b9d0-a31e-470e-8ede-58660264ff62",
   "metadata": {},
   "outputs": [],
   "source": [
    "df=pd.concat([df, pd.get_dummies(df['loan_status'], drop_first=True ,dtype=int)], axis=1)"
   ]
  },
  {
   "cell_type": "code",
   "execution_count": 35,
   "id": "2e1c079f-3519-45b9-a2ea-b78a685c89ff",
   "metadata": {},
   "outputs": [],
   "source": [
    "df.drop('loan_status', axis=1, inplace=True)"
   ]
  },
  {
   "cell_type": "code",
   "execution_count": 36,
   "id": "1bc348c2-4a12-4da8-b391-319b9f4923ed",
   "metadata": {},
   "outputs": [
    {
     "data": {
      "text/plain": [
       "purpose\n",
       "debt_consolidation    234507\n",
       "credit_card            83019\n",
       "home_improvement       24030\n",
       "other                  21185\n",
       "major_purchase          8790\n",
       "small_business          5701\n",
       "car                     4697\n",
       "medical                 4196\n",
       "moving                  2854\n",
       "vacation                2452\n",
       "house                   2201\n",
       "wedding                 1812\n",
       "renewable_energy         329\n",
       "educational              257\n",
       "Name: count, dtype: int64"
      ]
     },
     "execution_count": 36,
     "metadata": {},
     "output_type": "execute_result"
    }
   ],
   "source": [
    "df['purpose'].value_counts()"
   ]
  },
  {
   "cell_type": "code",
   "execution_count": 37,
   "id": "963190b2-5338-4e5b-94f8-1252a995dfe3",
   "metadata": {},
   "outputs": [],
   "source": [
    "# has very little correlation with the output\n",
    "df.drop('purpose', axis=1, inplace=True)"
   ]
  },
  {
   "cell_type": "code",
   "execution_count": 38,
   "id": "51356405-f2ce-4b04-8235-b35dca811f7e",
   "metadata": {},
   "outputs": [],
   "source": [
    "df.drop('title', axis=1, inplace=True)"
   ]
  },
  {
   "cell_type": "code",
   "execution_count": 39,
   "id": "8a71d20c-a3c4-4d10-bf78-8ed90d31a06c",
   "metadata": {},
   "outputs": [
    {
     "name": "stdout",
     "output_type": "stream",
     "text": [
      "<class 'pandas.core.frame.DataFrame'>\n",
      "RangeIndex: 396030 entries, 0 to 396029\n",
      "Data columns (total 58 columns):\n",
      " #   Column                Non-Null Count   Dtype  \n",
      "---  ------                --------------   -----  \n",
      " 0   loan_amnt             396030 non-null  float64\n",
      " 1   term                  396030 non-null  int64  \n",
      " 2   int_rate              396030 non-null  float64\n",
      " 3   installment           396030 non-null  float64\n",
      " 4   emp_length            377729 non-null  float64\n",
      " 5   annual_inc            396030 non-null  float64\n",
      " 6   dti                   396030 non-null  float64\n",
      " 7   earliest_cr_line      396030 non-null  object \n",
      " 8   open_acc              396030 non-null  float64\n",
      " 9   pub_rec               396030 non-null  float64\n",
      " 10  revol_bal             396030 non-null  float64\n",
      " 11  revol_util            395754 non-null  float64\n",
      " 12  total_acc             396030 non-null  float64\n",
      " 13  initial_list_status   396030 non-null  object \n",
      " 14  application_type      396030 non-null  object \n",
      " 15  mort_acc              358235 non-null  float64\n",
      " 16  pub_rec_bankruptcies  395495 non-null  float64\n",
      " 17  address               396030 non-null  object \n",
      " 18  A2                    396030 non-null  int64  \n",
      " 19  A3                    396030 non-null  int64  \n",
      " 20  A4                    396030 non-null  int64  \n",
      " 21  A5                    396030 non-null  int64  \n",
      " 22  B1                    396030 non-null  int64  \n",
      " 23  B2                    396030 non-null  int64  \n",
      " 24  B3                    396030 non-null  int64  \n",
      " 25  B4                    396030 non-null  int64  \n",
      " 26  B5                    396030 non-null  int64  \n",
      " 27  C1                    396030 non-null  int64  \n",
      " 28  C2                    396030 non-null  int64  \n",
      " 29  C3                    396030 non-null  int64  \n",
      " 30  C4                    396030 non-null  int64  \n",
      " 31  C5                    396030 non-null  int64  \n",
      " 32  D1                    396030 non-null  int64  \n",
      " 33  D2                    396030 non-null  int64  \n",
      " 34  D3                    396030 non-null  int64  \n",
      " 35  D4                    396030 non-null  int64  \n",
      " 36  D5                    396030 non-null  int64  \n",
      " 37  E1                    396030 non-null  int64  \n",
      " 38  E2                    396030 non-null  int64  \n",
      " 39  E3                    396030 non-null  int64  \n",
      " 40  E4                    396030 non-null  int64  \n",
      " 41  E5                    396030 non-null  int64  \n",
      " 42  F1                    396030 non-null  int64  \n",
      " 43  F2                    396030 non-null  int64  \n",
      " 44  F3                    396030 non-null  int64  \n",
      " 45  F4                    396030 non-null  int64  \n",
      " 46  F5                    396030 non-null  int64  \n",
      " 47  G1                    396030 non-null  int64  \n",
      " 48  G2                    396030 non-null  int64  \n",
      " 49  G3                    396030 non-null  int64  \n",
      " 50  G4                    396030 non-null  int64  \n",
      " 51  G5                    396030 non-null  int64  \n",
      " 52  OTHER                 396030 non-null  int64  \n",
      " 53  OWN                   396030 non-null  int64  \n",
      " 54  RENT                  396030 non-null  int64  \n",
      " 55  Source Verified       396030 non-null  int64  \n",
      " 56  Verified              396030 non-null  int64  \n",
      " 57  Fully Paid            396030 non-null  int64  \n",
      "dtypes: float64(13), int64(41), object(4)\n",
      "memory usage: 175.2+ MB\n"
     ]
    }
   ],
   "source": [
    "df.info()"
   ]
  },
  {
   "cell_type": "code",
   "execution_count": 40,
   "id": "1ddd3f2f-693b-44c5-966c-848b9cc8887c",
   "metadata": {},
   "outputs": [
    {
     "data": {
      "text/plain": [
       "initial_list_status\n",
       "f    238066\n",
       "w    157964\n",
       "Name: count, dtype: int64"
      ]
     },
     "execution_count": 40,
     "metadata": {},
     "output_type": "execute_result"
    }
   ],
   "source": [
    "df['initial_list_status'].value_counts()"
   ]
  },
  {
   "cell_type": "code",
   "execution_count": 41,
   "id": "c6d5e9e0-d2ce-4a95-acb0-16922409a3c2",
   "metadata": {},
   "outputs": [],
   "source": [
    "# has very little correlation with the output\n",
    "df.drop('initial_list_status', axis=1, inplace=True)"
   ]
  },
  {
   "cell_type": "code",
   "execution_count": 42,
   "id": "37b75594-d2e3-486d-84d4-38de536d136f",
   "metadata": {},
   "outputs": [
    {
     "data": {
      "text/plain": [
       "application_type\n",
       "INDIVIDUAL    395319\n",
       "JOINT            425\n",
       "DIRECT_PAY       286\n",
       "Name: count, dtype: int64"
      ]
     },
     "execution_count": 42,
     "metadata": {},
     "output_type": "execute_result"
    }
   ],
   "source": [
    "df['application_type'].value_counts()"
   ]
  },
  {
   "cell_type": "code",
   "execution_count": 43,
   "id": "6933f7d9-293a-4646-9fef-9fa7e2d21451",
   "metadata": {},
   "outputs": [],
   "source": [
    "# has very little correlation with the output\n",
    "df.drop('application_type', axis=1, inplace=True)"
   ]
  },
  {
   "cell_type": "code",
   "execution_count": 44,
   "id": "aeb00927-f1c0-42d7-9e42-1322e260f79b",
   "metadata": {},
   "outputs": [],
   "source": [
    "df.drop('address', axis=1, inplace=True)"
   ]
  },
  {
   "cell_type": "code",
   "execution_count": 45,
   "id": "7846db6a-25d0-4c04-a5c9-888332f5c815",
   "metadata": {},
   "outputs": [],
   "source": [
    "import re\n",
    "\n",
    "def get_numbers(x):\n",
    "    return int(re.findall(r'\\d+', x)[0])\n",
    "\n",
    "df ['earliest_cr_line'] = df ['earliest_cr_line'].apply(get_numbers)"
   ]
  },
  {
   "cell_type": "code",
   "execution_count": 46,
   "id": "76f82032-f1ec-4b27-83cd-1a508dfa86ce",
   "metadata": {},
   "outputs": [
    {
     "name": "stdout",
     "output_type": "stream",
     "text": [
      "<class 'pandas.core.frame.DataFrame'>\n",
      "RangeIndex: 396030 entries, 0 to 396029\n",
      "Data columns (total 55 columns):\n",
      " #   Column                Non-Null Count   Dtype  \n",
      "---  ------                --------------   -----  \n",
      " 0   loan_amnt             396030 non-null  float64\n",
      " 1   term                  396030 non-null  int64  \n",
      " 2   int_rate              396030 non-null  float64\n",
      " 3   installment           396030 non-null  float64\n",
      " 4   emp_length            377729 non-null  float64\n",
      " 5   annual_inc            396030 non-null  float64\n",
      " 6   dti                   396030 non-null  float64\n",
      " 7   earliest_cr_line      396030 non-null  int64  \n",
      " 8   open_acc              396030 non-null  float64\n",
      " 9   pub_rec               396030 non-null  float64\n",
      " 10  revol_bal             396030 non-null  float64\n",
      " 11  revol_util            395754 non-null  float64\n",
      " 12  total_acc             396030 non-null  float64\n",
      " 13  mort_acc              358235 non-null  float64\n",
      " 14  pub_rec_bankruptcies  395495 non-null  float64\n",
      " 15  A2                    396030 non-null  int64  \n",
      " 16  A3                    396030 non-null  int64  \n",
      " 17  A4                    396030 non-null  int64  \n",
      " 18  A5                    396030 non-null  int64  \n",
      " 19  B1                    396030 non-null  int64  \n",
      " 20  B2                    396030 non-null  int64  \n",
      " 21  B3                    396030 non-null  int64  \n",
      " 22  B4                    396030 non-null  int64  \n",
      " 23  B5                    396030 non-null  int64  \n",
      " 24  C1                    396030 non-null  int64  \n",
      " 25  C2                    396030 non-null  int64  \n",
      " 26  C3                    396030 non-null  int64  \n",
      " 27  C4                    396030 non-null  int64  \n",
      " 28  C5                    396030 non-null  int64  \n",
      " 29  D1                    396030 non-null  int64  \n",
      " 30  D2                    396030 non-null  int64  \n",
      " 31  D3                    396030 non-null  int64  \n",
      " 32  D4                    396030 non-null  int64  \n",
      " 33  D5                    396030 non-null  int64  \n",
      " 34  E1                    396030 non-null  int64  \n",
      " 35  E2                    396030 non-null  int64  \n",
      " 36  E3                    396030 non-null  int64  \n",
      " 37  E4                    396030 non-null  int64  \n",
      " 38  E5                    396030 non-null  int64  \n",
      " 39  F1                    396030 non-null  int64  \n",
      " 40  F2                    396030 non-null  int64  \n",
      " 41  F3                    396030 non-null  int64  \n",
      " 42  F4                    396030 non-null  int64  \n",
      " 43  F5                    396030 non-null  int64  \n",
      " 44  G1                    396030 non-null  int64  \n",
      " 45  G2                    396030 non-null  int64  \n",
      " 46  G3                    396030 non-null  int64  \n",
      " 47  G4                    396030 non-null  int64  \n",
      " 48  G5                    396030 non-null  int64  \n",
      " 49  OTHER                 396030 non-null  int64  \n",
      " 50  OWN                   396030 non-null  int64  \n",
      " 51  RENT                  396030 non-null  int64  \n",
      " 52  Source Verified       396030 non-null  int64  \n",
      " 53  Verified              396030 non-null  int64  \n",
      " 54  Fully Paid            396030 non-null  int64  \n",
      "dtypes: float64(13), int64(42)\n",
      "memory usage: 166.2 MB\n"
     ]
    }
   ],
   "source": [
    "df.info()"
   ]
  },
  {
   "cell_type": "code",
   "execution_count": 47,
   "id": "ba4c9672-2446-4fbe-99bf-c45849bf686a",
   "metadata": {},
   "outputs": [],
   "source": [
    "df.dropna(inplace=True)"
   ]
  },
  {
   "cell_type": "code",
   "execution_count": 48,
   "id": "6ac52e8b-1deb-4992-93d7-755048353003",
   "metadata": {},
   "outputs": [
    {
     "data": {
      "text/plain": [
       "Index(['loan_amnt', 'term', 'int_rate', 'installment', 'emp_length',\n",
       "       'annual_inc', 'dti', 'earliest_cr_line', 'open_acc', 'pub_rec',\n",
       "       'revol_bal', 'revol_util', 'total_acc', 'mort_acc',\n",
       "       'pub_rec_bankruptcies', 'A2', 'A3', 'A4', 'A5', 'B1', 'B2', 'B3', 'B4',\n",
       "       'B5', 'C1', 'C2', 'C3', 'C4', 'C5', 'D1', 'D2', 'D3', 'D4', 'D5', 'E1',\n",
       "       'E2', 'E3', 'E4', 'E5', 'F1', 'F2', 'F3', 'F4', 'F5', 'G1', 'G2', 'G3',\n",
       "       'G4', 'G5', 'OTHER', 'OWN', 'RENT', 'Source Verified', 'Verified',\n",
       "       'Fully Paid'],\n",
       "      dtype='object')"
      ]
     },
     "execution_count": 48,
     "metadata": {},
     "output_type": "execute_result"
    }
   ],
   "source": [
    "df.columns"
   ]
  },
  {
   "cell_type": "code",
   "execution_count": 49,
   "id": "1d115593-6a83-4abe-ac78-ca4bf948217e",
   "metadata": {},
   "outputs": [
    {
     "name": "stdout",
     "output_type": "stream",
     "text": [
      "                   index  Fully Paid\n",
      "0             Fully Paid    1.000000\n",
      "1               mort_acc    0.072277\n",
      "2                     A4    0.063263\n",
      "3                     A5    0.062345\n",
      "4                     B1    0.058277\n",
      "5                     A2    0.058122\n",
      "6                     A3    0.058061\n",
      "7                     B2    0.057328\n",
      "8             annual_inc    0.052224\n",
      "9                     B3    0.051872\n",
      "10                    B4    0.041235\n",
      "11                    B5    0.026966\n",
      "12            emp_length    0.019361\n",
      "13             total_acc    0.018718\n",
      "14                    C1    0.016991\n",
      "15             revol_bal    0.011537\n",
      "16                    C2    0.001271\n",
      "17                 OTHER   -0.000416\n",
      "18  pub_rec_bankruptcies   -0.002550\n",
      "19                   OWN   -0.005731\n",
      "20                    C3   -0.012429\n",
      "21               pub_rec   -0.013849\n",
      "22                    G4   -0.020981\n",
      "23                    C4   -0.022650\n",
      "24                    G5   -0.023695\n",
      "25                    C5   -0.026044\n",
      "26                    G3   -0.029317\n",
      "27              open_acc   -0.029662\n",
      "28                    G2   -0.032541\n",
      "29                    D1   -0.033963\n",
      "30                    G1   -0.036051\n",
      "31                    D2   -0.039843\n",
      "32                    D3   -0.040022\n",
      "33       Source Verified   -0.040057\n",
      "34           installment   -0.041893\n",
      "35              Verified   -0.042541\n",
      "36                    F5   -0.043739\n",
      "37                    F1   -0.045589\n",
      "38      earliest_cr_line   -0.045597\n",
      "39                    F4   -0.046279\n",
      "40                    F3   -0.047560\n",
      "41                    D5   -0.049820\n",
      "42                    F2   -0.050533\n",
      "43                    D4   -0.052579\n",
      "44                    E1   -0.055501\n",
      "45                    E5   -0.058076\n",
      "46                    E4   -0.059757\n",
      "47                    E2   -0.061204\n",
      "48                    E3   -0.061739\n",
      "49             loan_amnt   -0.062105\n",
      "50                  RENT   -0.068621\n",
      "51            revol_util   -0.078163\n",
      "52                   dti   -0.132218\n",
      "53                  term   -0.181475\n",
      "54              int_rate   -0.250407\n"
     ]
    }
   ],
   "source": [
    "print(df.corr()['Fully Paid'].sort_values(ascending=False).reset_index().to_string())"
   ]
  },
  {
   "cell_type": "code",
   "execution_count": 50,
   "id": "0232c8da-57c2-4f37-8aed-7203796e5801",
   "metadata": {},
   "outputs": [],
   "source": [
    "from sklearn.model_selection import train_test_split\n",
    "from sklearn.preprocessing import MinMaxScaler\n",
    "\n",
    "X = df.drop('Fully Paid', axis=1)\n",
    "y = df['Fully Paid']\n",
    "\n",
    "scaler = MinMaxScaler()\n",
    "X = scaler.fit_transform(X)\n",
    "\n",
    "X_train, X_test, y_train, y_test = train_test_split(X, y, test_size=0.2, random_state=101, stratify=y)\n",
    "X_train, X_val, y_train, y_val = train_test_split(X_train, y_train, test_size=0.1, random_state=101, stratify=y_train)"
   ]
  },
  {
   "cell_type": "code",
   "execution_count": 51,
   "id": "0960407a-4bf9-472a-9d8a-c603785c23c5",
   "metadata": {},
   "outputs": [
    {
     "data": {
      "text/plain": [
       "0.1973972725568353"
      ]
     },
     "execution_count": 51,
     "metadata": {},
     "output_type": "execute_result"
    }
   ],
   "source": [
    "len(y_train[y_train==0])/len(y_train)"
   ]
  },
  {
   "cell_type": "code",
   "execution_count": 52,
   "id": "351ff104-0ed9-4e9a-8d43-e0aeed256ad3",
   "metadata": {},
   "outputs": [
    {
     "data": {
      "text/plain": [
       "0.19738096984814027"
      ]
     },
     "execution_count": 52,
     "metadata": {},
     "output_type": "execute_result"
    }
   ],
   "source": [
    "len(y_val[y_val==0])/len(y_val)"
   ]
  },
  {
   "cell_type": "code",
   "execution_count": 53,
   "id": "38e9a4c4-a6d4-4003-bce7-428f30e231cc",
   "metadata": {},
   "outputs": [
    {
     "data": {
      "text/plain": [
       "(245358, 54)"
      ]
     },
     "execution_count": 53,
     "metadata": {},
     "output_type": "execute_result"
    }
   ],
   "source": [
    "X_train.shape"
   ]
  },
  {
   "cell_type": "code",
   "execution_count": 54,
   "id": "98f0fd65-2db4-4864-a8ee-5dfab6194813",
   "metadata": {},
   "outputs": [],
   "source": [
    "# Since data is very imbalanced, we can try undersampling\n",
    "\n",
    "from sklearn.utils import resample\n",
    "\n",
    "# Separate majority and minority classes\n",
    "majority_class = df[df['Fully Paid'] == 1]\n",
    "minority_class = df[df['Fully Paid'] == 0]\n",
    "\n",
    "# Perform random undersampling on the majority class\n",
    "undersampled_majority = resample(majority_class, replace=False, n_samples=len(minority_class)+5000, random_state=101)\n",
    "\n",
    "# Combine the minority class and the undersampled majority class\n",
    "undersampled_df = pd.concat([undersampled_majority, minority_class])\n",
    "\n",
    "# Split the data into features and labels\n",
    "X = undersampled_df.drop('Fully Paid', axis=1)\n",
    "y = undersampled_df['Fully Paid']\n",
    "\n",
    "# Apply MinMaxScaler to the features\n",
    "scaler = MinMaxScaler()\n",
    "X = scaler.fit_transform(X)\n",
    "\n",
    "# Split the data into training, validation, and test sets\n",
    "X_train, X_test, y_train, y_test = train_test_split(X, y, test_size=0.2, random_state=101, stratify=y)\n",
    "X_train, X_val, y_train, y_val = train_test_split(X_train, y_train, test_size=0.1, random_state=101, stratify=y_train)"
   ]
  },
  {
   "cell_type": "code",
   "execution_count": 55,
   "id": "1fe67431-cbab-4695-acfe-1aa6689cb36c",
   "metadata": {},
   "outputs": [
    {
     "data": {
      "text/plain": [
       "0.4820882894540387"
      ]
     },
     "execution_count": 55,
     "metadata": {},
     "output_type": "execute_result"
    }
   ],
   "source": [
    "len(y_train[y_train==0])/len(y_train)"
   ]
  },
  {
   "cell_type": "code",
   "execution_count": 56,
   "id": "c07a1db5-1114-457d-9d43-034d2300afc6",
   "metadata": {},
   "outputs": [
    {
     "data": {
      "text/plain": [
       "0.48203887843769594"
      ]
     },
     "execution_count": 56,
     "metadata": {},
     "output_type": "execute_result"
    }
   ],
   "source": [
    "len(y_val[y_val==0])/len(y_val)"
   ]
  },
  {
   "cell_type": "code",
   "execution_count": 57,
   "id": "67e9b4e5-b894-4b3e-aa18-4cca64f3b43c",
   "metadata": {},
   "outputs": [
    {
     "data": {
      "text/plain": [
       "(100465, 54)"
      ]
     },
     "execution_count": 57,
     "metadata": {},
     "output_type": "execute_result"
    }
   ],
   "source": [
    "X_train.shape"
   ]
  },
  {
   "cell_type": "code",
   "execution_count": 58,
   "id": "e5ec81be-95f6-4b2f-b8c1-4bdb3d810f2f",
   "metadata": {},
   "outputs": [
    {
     "name": "stdout",
     "output_type": "stream",
     "text": [
      "Using TensorFlow backend\n"
     ]
    }
   ],
   "source": [
    "import tensorflow\n",
    "from tensorflow import keras\n",
    "from keras import Sequential\n",
    "from keras.layers import Input, Dense, BatchNormalization, Dropout\n",
    "from keras.callbacks import EarlyStopping\n",
    "\n",
    "import keras_tuner as kt"
   ]
  },
  {
   "cell_type": "code",
   "execution_count": 59,
   "id": "8522c0ad-ac34-4807-90a3-7d093d74cbb0",
   "metadata": {},
   "outputs": [],
   "source": [
    "def build_model(hp):\n",
    "    model = Sequential()\n",
    "    model.add(Input(54,))\n",
    "\n",
    "    for i in range(hp.Int('num_layers', min_value=1, max_value=8)):\n",
    "        model.add(\n",
    "            Dense(\n",
    "                hp.Int('units'+str(i), min_value=8, max_value=512, step=8),\n",
    "                activation=hp.Choice('activation'+str(i), values=['relu', 'tanh', 'sigmoid'])\n",
    "            )\n",
    "        )\n",
    "        # model.add(BatchNormalization())\n",
    "        model.add(Dropout(hp.Choice('droupout'+str(i), values=[0.1, 0.2, 0.3, 0.4, 0.5, 0.6, 0.7, 0.8, 0.9])))\n",
    "\n",
    "    model.add(Dense(1, activation='sigmoid'))\n",
    "\n",
    "    model.compile(\n",
    "        optimizer=hp.Choice('optimizer', values=['rmsprop', 'adam', 'sgd', 'nadam', 'adadelta']),\n",
    "        loss='binary_crossentropy',\n",
    "        metrics=['accuracy']\n",
    "    )\n",
    "\n",
    "    return model\n"
   ]
  },
  {
   "cell_type": "code",
   "execution_count": 60,
   "id": "20236dbd-032a-4499-8ea6-721fd33b0d2d",
   "metadata": {},
   "outputs": [],
   "source": [
    "tuner = kt.RandomSearch(\n",
    "    build_model,\n",
    "    objective='val_accuracy',\n",
    "    max_trials=10,\n",
    "    directory='tuners',\n",
    "    project_name='loan_default'\n",
    ")"
   ]
  },
  {
   "cell_type": "code",
   "execution_count": 61,
   "id": "db04a2bb-0fc1-4569-be64-ceb791b9b0b8",
   "metadata": {},
   "outputs": [
    {
     "name": "stdout",
     "output_type": "stream",
     "text": [
      "Trial 10 Complete [00h 00m 27s]\n",
      "val_accuracy: 0.6500644683837891\n",
      "\n",
      "Best val_accuracy So Far: 0.6500644683837891\n",
      "Total elapsed time: 00h 04m 40s\n"
     ]
    }
   ],
   "source": [
    "tuner.search(X_train, y_train, epochs=5, validation_data=(X_test, y_test))"
   ]
  },
  {
   "cell_type": "code",
   "execution_count": 62,
   "id": "7fff7056-dd59-4f12-9d78-6193aae41bdc",
   "metadata": {},
   "outputs": [
    {
     "data": {
      "text/plain": [
       "{'num_layers': 4,\n",
       " 'units0': 416,\n",
       " 'activation0': 'relu',\n",
       " 'droupout0': 0.1,\n",
       " 'optimizer': 'adam',\n",
       " 'units1': 96,\n",
       " 'activation1': 'sigmoid',\n",
       " 'droupout1': 0.2,\n",
       " 'units2': 264,\n",
       " 'activation2': 'relu',\n",
       " 'droupout2': 0.4,\n",
       " 'units3': 440,\n",
       " 'activation3': 'relu',\n",
       " 'droupout3': 0.2,\n",
       " 'units4': 432,\n",
       " 'activation4': 'relu',\n",
       " 'droupout4': 0.3,\n",
       " 'units5': 96,\n",
       " 'activation5': 'tanh',\n",
       " 'droupout5': 0.2,\n",
       " 'units6': 24,\n",
       " 'activation6': 'relu',\n",
       " 'droupout6': 0.5}"
      ]
     },
     "execution_count": 62,
     "metadata": {},
     "output_type": "execute_result"
    }
   ],
   "source": [
    "tuner.get_best_hyperparameters()[0].values"
   ]
  },
  {
   "cell_type": "code",
   "execution_count": 63,
   "id": "5adaaba0-9214-41bf-b829-931b1ef5e499",
   "metadata": {},
   "outputs": [],
   "source": [
    "model = tuner.get_best_models(num_models=1)[0]"
   ]
  },
  {
   "cell_type": "code",
   "execution_count": 64,
   "id": "25b32fd2-b2b8-4dc7-ac9b-26238e05a9bb",
   "metadata": {},
   "outputs": [
    {
     "name": "stdout",
     "output_type": "stream",
     "text": [
      "Model: \"sequential\"\n",
      "_________________________________________________________________\n",
      " Layer (type)                Output Shape              Param #   \n",
      "=================================================================\n",
      " dense (Dense)               (None, 416)               22880     \n",
      "                                                                 \n",
      " dropout (Dropout)           (None, 416)               0         \n",
      "                                                                 \n",
      " dense_1 (Dense)             (None, 96)                40032     \n",
      "                                                                 \n",
      " dropout_1 (Dropout)         (None, 96)                0         \n",
      "                                                                 \n",
      " dense_2 (Dense)             (None, 264)               25608     \n",
      "                                                                 \n",
      " dropout_2 (Dropout)         (None, 264)               0         \n",
      "                                                                 \n",
      " dense_3 (Dense)             (None, 440)               116600    \n",
      "                                                                 \n",
      " dropout_3 (Dropout)         (None, 440)               0         \n",
      "                                                                 \n",
      " dense_4 (Dense)             (None, 1)                 441       \n",
      "                                                                 \n",
      "=================================================================\n",
      "Total params: 205561 (802.97 KB)\n",
      "Trainable params: 205561 (802.97 KB)\n",
      "Non-trainable params: 0 (0.00 Byte)\n",
      "_________________________________________________________________\n"
     ]
    }
   ],
   "source": [
    "model.summary()"
   ]
  },
  {
   "cell_type": "code",
   "execution_count": 65,
   "id": "1bea394a-e36b-4f86-9fdb-7c2e6be4755f",
   "metadata": {},
   "outputs": [],
   "source": [
    "from keras.callbacks import EarlyStopping\n",
    "\n",
    "early_stopping = EarlyStopping(\n",
    "    monitor=\"val_accuracy\",\n",
    "    min_delta=0.01,\n",
    "    patience=10,\n",
    "    verbose=1,\n",
    "    mode=\"max\",\n",
    "    baseline=None,\n",
    "    restore_best_weights=True\n",
    ")"
   ]
  },
  {
   "cell_type": "code",
   "execution_count": 66,
   "id": "f10a6f5e-9301-475f-8a71-b26e2c0165a3",
   "metadata": {},
   "outputs": [
    {
     "name": "stdout",
     "output_type": "stream",
     "text": [
      "WARNING:tensorflow:Detecting that an object or model or tf.train.Checkpoint is being deleted with unrestored values. See the following logs for the specific values in question. To silence these warnings, use `status.expect_partial()`. See https://www.tensorflow.org/api_docs/python/tf/train/Checkpoint#restorefor details about the status object returned by the restore function.\n",
      "WARNING:tensorflow:Value in checkpoint could not be found in the restored object: (root).optimizer.iter\n",
      "WARNING:tensorflow:Value in checkpoint could not be found in the restored object: (root).optimizer.beta_1\n",
      "WARNING:tensorflow:Value in checkpoint could not be found in the restored object: (root).optimizer.beta_2\n",
      "WARNING:tensorflow:Value in checkpoint could not be found in the restored object: (root).optimizer.decay\n",
      "WARNING:tensorflow:Value in checkpoint could not be found in the restored object: (root).optimizer.learning_rate\n"
     ]
    }
   ],
   "source": [
    "from keras.metrics import BinaryAccuracy\n",
    "\n",
    "METRICS = [\n",
    "      BinaryAccuracy(name='accuracy'),\n",
    "]\n",
    "\n",
    "model.compile(optimizer='adam',\n",
    "              loss='binary_crossentropy',\n",
    "              metrics=METRICS)"
   ]
  },
  {
   "cell_type": "code",
   "execution_count": 67,
   "id": "b4524429-2cb2-4abe-952b-6934b34e1532",
   "metadata": {},
   "outputs": [
    {
     "name": "stdout",
     "output_type": "stream",
     "text": [
      "Epoch 6/20\n",
      "6280/6280 [==============================] - 9s 1ms/step - loss: 0.6252 - accuracy: 0.6520 - val_loss: 0.6272 - val_accuracy: 0.6552\n",
      "Epoch 7/20\n",
      "6280/6280 [==============================] - 8s 1ms/step - loss: 0.6244 - accuracy: 0.6541 - val_loss: 0.6251 - val_accuracy: 0.6497\n",
      "Epoch 8/20\n",
      "6280/6280 [==============================] - 8s 1ms/step - loss: 0.6232 - accuracy: 0.6557 - val_loss: 0.6237 - val_accuracy: 0.6533\n",
      "Epoch 9/20\n",
      "6280/6280 [==============================] - 8s 1ms/step - loss: 0.6227 - accuracy: 0.6574 - val_loss: 0.6252 - val_accuracy: 0.6571\n",
      "Epoch 10/20\n",
      "6280/6280 [==============================] - 8s 1ms/step - loss: 0.6226 - accuracy: 0.6550 - val_loss: 0.6239 - val_accuracy: 0.6543\n",
      "Epoch 11/20\n",
      "6280/6280 [==============================] - 8s 1ms/step - loss: 0.6215 - accuracy: 0.6557 - val_loss: 0.6244 - val_accuracy: 0.6505\n",
      "Epoch 12/20\n",
      "6280/6280 [==============================] - 9s 1ms/step - loss: 0.6213 - accuracy: 0.6569 - val_loss: 0.6252 - val_accuracy: 0.6546\n",
      "Epoch 13/20\n",
      "6280/6280 [==============================] - 8s 1ms/step - loss: 0.6208 - accuracy: 0.6559 - val_loss: 0.6266 - val_accuracy: 0.6488\n",
      "Epoch 14/20\n",
      "6280/6280 [==============================] - 9s 1ms/step - loss: 0.6210 - accuracy: 0.6568 - val_loss: 0.6258 - val_accuracy: 0.6526\n",
      "Epoch 15/20\n",
      "6280/6280 [==============================] - 8s 1ms/step - loss: 0.6196 - accuracy: 0.6580 - val_loss: 0.6273 - val_accuracy: 0.6515\n",
      "Epoch 16/20\n",
      "6249/6280 [============================>.] - ETA: 0s - loss: 0.6195 - accuracy: 0.6576Restoring model weights from the end of the best epoch: 6.\n",
      "6280/6280 [==============================] - 8s 1ms/step - loss: 0.6195 - accuracy: 0.6576 - val_loss: 0.6235 - val_accuracy: 0.6542\n",
      "Epoch 16: early stopping\n"
     ]
    }
   ],
   "source": [
    "history = model.fit(X_train, y_train, epochs=20, initial_epoch=5, batch_size=16 ,validation_data=(X_val, y_val), callbacks=[early_stopping])"
   ]
  },
  {
   "cell_type": "code",
   "execution_count": 68,
   "id": "4fcea885-571a-4ca7-af9c-b82b23044e15",
   "metadata": {},
   "outputs": [
    {
     "data": {
      "text/plain": [
       "<matplotlib.legend.Legend at 0x2f9321a90>"
      ]
     },
     "execution_count": 68,
     "metadata": {},
     "output_type": "execute_result"
    },
    {
     "data": {
      "image/png": "[encoded data removed]",
      "text/plain": [
       "<Figure size 640x480 with 1 Axes>"
      ]
     },
     "metadata": {},
     "output_type": "display_data"
    }
   ],
   "source": [
    "import matplotlib.pyplot as plt\n",
    "import seaborn as sns\n",
    "\n",
    "plt.plot(history.history['accuracy'], label='train')\n",
    "plt.plot(history.history['val_accuracy'], label='test')\n",
    "plt.legend()"
   ]
  },
  {
   "cell_type": "code",
   "execution_count": 69,
   "id": "c72cfb31-fc2b-4f90-9578-b40dbf68e571",
   "metadata": {},
   "outputs": [
    {
     "data": {
      "text/plain": [
       "<matplotlib.legend.Legend at 0x298309b50>"
      ]
     },
     "execution_count": 69,
     "metadata": {},
     "output_type": "execute_result"
    },
    {
     "data": {
      "image/png": "[encoded data removed]",
      "text/plain": [
       "<Figure size 640x480 with 1 Axes>"
      ]
     },
     "metadata": {},
     "output_type": "display_data"
    }
   ],
   "source": [
    "plt.plot(history.history['loss'], label='train')\n",
    "plt.plot(history.history['val_loss'], label='test')\n",
    "plt.legend()"
   ]
  },
  {
   "cell_type": "code",
   "execution_count": 70,
   "id": "6c77493b-4fef-4745-a6a3-674cdd6ce83e",
   "metadata": {},
   "outputs": [
    {
     "name": "stdout",
     "output_type": "stream",
     "text": [
      "873/873 [==============================] - 0s 436us/step\n"
     ]
    }
   ],
   "source": [
    "predictions = model.predict(X_test)"
   ]
  },
  {
   "cell_type": "code",
   "execution_count": 71,
   "id": "32f8f684-dda6-4795-893c-91795de98a41",
   "metadata": {},
   "outputs": [],
   "source": [
    "predictions = np.where(predictions > 0.45, 1,0)"
   ]
  },
  {
   "cell_type": "code",
   "execution_count": 72,
   "id": "f698cb23-144c-45aa-ae84-bfbaf87df7bd",
   "metadata": {},
   "outputs": [
    {
     "name": "stdout",
     "output_type": "stream",
     "text": [
      "Classification Report:\n",
      "               precision    recall  f1-score   support\n",
      "\n",
      "           0       0.67      0.52      0.58     13454\n",
      "           1       0.63      0.76      0.69     14454\n",
      "\n",
      "    accuracy                           0.64     27908\n",
      "   macro avg       0.65      0.64      0.64     27908\n",
      "weighted avg       0.65      0.64      0.64     27908\n",
      "\n"
     ]
    },
    {
     "data": {
      "text/plain": [
       "Text(0.5, 1.0, 'Confusion Matrix')"
      ]
     },
     "execution_count": 72,
     "metadata": {},
     "output_type": "execute_result"
    },
    {
     "data": {
      "image/png": "[encoded data removed]",
      "text/plain": [
       "<Figure size 640x480 with 1 Axes>"
      ]
     },
     "metadata": {},
     "output_type": "display_data"
    }
   ],
   "source": [
    "from sklearn.metrics import classification_report, confusion_matrix\n",
    "\n",
    "print(\"Classification Report:\\n\", classification_report(y_test, predictions))\n",
    "\n",
    "conf_matrix = confusion_matrix(y_test, predictions)\n",
    "sns.heatmap(conf_matrix, annot=True, fmt='d', cmap='Blues', cbar=False)\n",
    "plt.xlabel('Predicted Labels')\n",
    "plt.ylabel('True Labels')\n",
    "plt.title('Confusion Matrix')"
   ]
  },
  {
   "cell_type": "code",
   "execution_count": null,
   "id": "578ae0aa-99ea-4a75-886d-a73d500ca091",
   "metadata": {},
   "outputs": [],
   "source": []
  }
 ],
 "metadata": {
  "kernelspec": {
   "display_name": "Python 3 (ipykernel)",
   "language": "python",
   "name": "python3"
  },
  "language_info": {
   "codemirror_mode": {
    "name": "ipython",
    "version": 3
   },
   "file_extension": ".py",
   "mimetype": "text/x-python",
   "name": "python",
   "nbconvert_exporter": "python",
   "pygments_lexer": "ipython3",
   "version": "3.11.5"
  }
 },
 "nbformat": 4,
 "nbformat_minor": 5
}
