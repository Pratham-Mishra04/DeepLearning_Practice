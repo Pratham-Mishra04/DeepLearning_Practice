{
 "cells": [
  {
   "cell_type": "code",
   "execution_count": 1,
   "id": "4b376e86-577b-4c7a-9610-b98c73e8d90c",
   "metadata": {},
   "outputs": [],
   "source": [
    "import numpy as np\n",
    "import pandas as pd\n",
    "from tensorflow.keras.datasets import mnist \n",
    "from tensorflow.keras import Sequential\n",
    "from tensorflow.keras.layers import Conv2D\n",
    "from tensorflow.keras.layers import Dense \n",
    "from tensorflow.keras.layers import Flatten \n",
    "from tensorflow.keras.layers import Dropout \n",
    "from tensorflow.keras.layers import Input\n",
    "from tensorflow.keras.layers import MaxPool2D\n",
    "from tensorflow.keras.utils import plot_model\n",
    "from keras.callbacks import EarlyStopping\n",
    "import matplotlib.pyplot as plt\n",
    "%matplotlib inline"
   ]
  },
  {
   "cell_type": "code",
   "execution_count": 2,
   "id": "d7ae1b0c-16d9-4b98-8741-194490c4ed98",
   "metadata": {},
   "outputs": [],
   "source": [
    "train = pd.read_csv('mnist_train.csv')\n",
    "test = pd.read_csv('mnist_test.csv')"
   ]
  },
  {
   "cell_type": "code",
   "execution_count": 3,
   "id": "9aeab121-63cb-4675-b7c9-2d94885deacb",
   "metadata": {},
   "outputs": [],
   "source": [
    "# taking train and test values as numpy arrays\n",
    "X_train = train.drop('label', axis=1).values\n",
    "y_train = train['label'].values\n",
    "\n",
    "X_test = test.drop('label', axis=1).values\n",
    "y_test = test['label'].values"
   ]
  },
  {
   "cell_type": "code",
   "execution_count": 4,
   "id": "28889d5b-d180-4de1-9be4-fc5be121f1db",
   "metadata": {},
   "outputs": [
    {
     "data": {
      "text/plain": [
       "(10000, 784)"
      ]
     },
     "execution_count": 4,
     "metadata": {},
     "output_type": "execute_result"
    }
   ],
   "source": [
    "X_test.shape"
   ]
  },
  {
   "cell_type": "code",
   "execution_count": 5,
   "id": "836437b8-3a3f-4d75-9021-feff1baa0cb4",
   "metadata": {},
   "outputs": [],
   "source": [
    "# n rows of 2x2 data in 1 sheet each\n",
    "X_train = X_train.reshape((60000, 28, 28, 1))\n",
    "X_test = X_test.reshape((10000, 28, 28, 1))"
   ]
  },
  {
   "cell_type": "code",
   "execution_count": 6,
   "id": "9eeb50ad-9990-4614-a59e-1a326cf83caf",
   "metadata": {},
   "outputs": [],
   "source": [
    "# normalization of data\n",
    "X_train = X_train.astype('float32')/255.0\n",
    "X_test = X_test.astype('float32')/255.0"
   ]
  },
  {
   "cell_type": "code",
   "execution_count": 7,
   "id": "944303df-a92e-43c6-9474-ca3d45818102",
   "metadata": {},
   "outputs": [],
   "source": [
    "model = Sequential()\n",
    "model.add(Input((28,28,1)))\n",
    "model.add(Conv2D(32, (3,3), activation='relu'))\n",
    "model.add(MaxPool2D((2,2)))\n",
    "model.add(Conv2D(48, (3,3), activation='relu'))\n",
    "model.add(MaxPool2D((2,2)))\n",
    "model.add(Dropout(0.4))\n",
    "model.add(Flatten())\n",
    "model.add(Dense(128, activation='relu'))\n",
    "model.add(Dense(16, activation='relu'))\n",
    "model.add(Dense(10, activation='softmax'))"
   ]
  },
  {
   "cell_type": "code",
   "execution_count": 8,
   "id": "079a2ffc-676b-4d0c-9e6f-d3cca936f4a2",
   "metadata": {},
   "outputs": [
    {
     "name": "stdout",
     "output_type": "stream",
     "text": [
      "Model: \"sequential\"\n",
      "_________________________________________________________________\n",
      " Layer (type)                Output Shape              Param #   \n",
      "=================================================================\n",
      " conv2d (Conv2D)             (None, 26, 26, 32)        320       \n",
      "                                                                 \n",
      " max_pooling2d (MaxPooling2  (None, 13, 13, 32)        0         \n",
      " D)                                                              \n",
      "                                                                 \n",
      " conv2d_1 (Conv2D)           (None, 11, 11, 48)        13872     \n",
      "                                                                 \n",
      " max_pooling2d_1 (MaxPoolin  (None, 5, 5, 48)          0         \n",
      " g2D)                                                            \n",
      "                                                                 \n",
      " dropout (Dropout)           (None, 5, 5, 48)          0         \n",
      "                                                                 \n",
      " flatten (Flatten)           (None, 1200)              0         \n",
      "                                                                 \n",
      " dense (Dense)               (None, 128)               153728    \n",
      "                                                                 \n",
      " dense_1 (Dense)             (None, 16)                2064      \n",
      "                                                                 \n",
      " dense_2 (Dense)             (None, 10)                170       \n",
      "                                                                 \n",
      "=================================================================\n",
      "Total params: 170154 (664.66 KB)\n",
      "Trainable params: 170154 (664.66 KB)\n",
      "Non-trainable params: 0 (0.00 Byte)\n",
      "_________________________________________________________________\n"
     ]
    }
   ],
   "source": [
    "model.summary()"
   ]
  },
  {
   "cell_type": "code",
   "execution_count": 9,
   "id": "023f556f-dfd2-4930-bf3e-48f7ea0181dd",
   "metadata": {},
   "outputs": [],
   "source": [
    "model.compile(optimizer='adam', loss = 'sparse_categorical_crossentropy',metrics= ['accuracy'] )"
   ]
  },
  {
   "cell_type": "code",
   "execution_count": 10,
   "id": "e26ab5e9-8bc9-4a14-aaaa-8d574163462e",
   "metadata": {},
   "outputs": [],
   "source": [
    "callback = EarlyStopping(\n",
    "    monitor=\"val_loss\",\n",
    "    min_delta=0.005,\n",
    "    patience=5,\n",
    "    verbose=1,\n",
    "    mode=\"auto\",\n",
    "    baseline=None,\n",
    "    restore_best_weights=True\n",
    ")"
   ]
  },
  {
   "cell_type": "code",
   "execution_count": 11,
   "id": "e9924a56-c301-45ef-9acc-398dcf4f2506",
   "metadata": {},
   "outputs": [
    {
     "name": "stdout",
     "output_type": "stream",
     "text": [
      "Epoch 1/20\n",
      "938/938 [==============================] - 7s 8ms/step - loss: 0.2527 - accuracy: 0.9194 - val_loss: 0.0576 - val_accuracy: 0.9814\n",
      "Epoch 2/20\n",
      "938/938 [==============================] - 7s 8ms/step - loss: 0.0746 - accuracy: 0.9777 - val_loss: 0.0371 - val_accuracy: 0.9875\n",
      "Epoch 3/20\n",
      "938/938 [==============================] - 7s 8ms/step - loss: 0.0554 - accuracy: 0.9829 - val_loss: 0.0326 - val_accuracy: 0.9895\n",
      "Epoch 4/20\n",
      "938/938 [==============================] - 8s 8ms/step - loss: 0.0448 - accuracy: 0.9865 - val_loss: 0.0289 - val_accuracy: 0.9898\n",
      "Epoch 5/20\n",
      "938/938 [==============================] - 8s 8ms/step - loss: 0.0390 - accuracy: 0.9877 - val_loss: 0.0241 - val_accuracy: 0.9918\n",
      "Epoch 6/20\n",
      "938/938 [==============================] - 8s 8ms/step - loss: 0.0325 - accuracy: 0.9896 - val_loss: 0.0252 - val_accuracy: 0.9924\n",
      "Epoch 7/20\n",
      "938/938 [==============================] - 8s 8ms/step - loss: 0.0293 - accuracy: 0.9903 - val_loss: 0.0276 - val_accuracy: 0.9914\n",
      "Epoch 8/20\n",
      "938/938 [==============================] - 8s 8ms/step - loss: 0.0271 - accuracy: 0.9915 - val_loss: 0.0251 - val_accuracy: 0.9918\n",
      "Epoch 9/20\n",
      "932/938 [============================>.] - ETA: 0s - loss: 0.0238 - accuracy: 0.9925Restoring model weights from the end of the best epoch: 4.\n",
      "938/938 [==============================] - 8s 8ms/step - loss: 0.0238 - accuracy: 0.9925 - val_loss: 0.0285 - val_accuracy: 0.9915\n",
      "Epoch 9: early stopping\n"
     ]
    }
   ],
   "source": [
    "history = model.fit(X_train, y_train, epochs=20, batch_size=64 ,validation_data=(X_test, y_test), callbacks=callback)"
   ]
  },
  {
   "cell_type": "code",
   "execution_count": 16,
   "id": "5dbddc9b-a243-4595-9f32-d4dce0bdf4b4",
   "metadata": {},
   "outputs": [
    {
     "data": {
      "text/plain": [
       "<matplotlib.legend.Legend at 0x29bc18950>"
      ]
     },
     "execution_count": 16,
     "metadata": {},
     "output_type": "execute_result"
    },
    {
     "data": {
      "image/png": "[encoded data removed]",
      "text/plain": [
       "<Figure size 640x480 with 1 Axes>"
      ]
     },
     "metadata": {},
     "output_type": "display_data"
    }
   ],
   "source": [
    "plt.plot(history.history['loss'], label='train')\n",
    "plt.plot(history.history['val_loss'], label='test')\n",
    "plt.legend()"
   ]
  },
  {
   "cell_type": "code",
   "execution_count": 17,
   "id": "39edf7bf-f57a-441a-b484-8a2e60fd73bd",
   "metadata": {},
   "outputs": [
    {
     "data": {
      "text/plain": [
       "<matplotlib.legend.Legend at 0x2a0d9fd50>"
      ]
     },
     "execution_count": 17,
     "metadata": {},
     "output_type": "execute_result"
    },
    {
     "data": {
      "image/png": "[encoded data removed]",
      "text/plain": [
       "<Figure size 640x480 with 1 Axes>"
      ]
     },
     "metadata": {},
     "output_type": "display_data"
    }
   ],
   "source": [
    "plt.plot(history.history['accuracy'], label='train')\n",
    "plt.plot(history.history['val_accuracy'], label='test')\n",
    "plt.legend()"
   ]
  },
  {
   "cell_type": "code",
   "execution_count": 18,
   "id": "d86f98a7-a031-4273-8e01-57df365b4980",
   "metadata": {},
   "outputs": [],
   "source": [
    "loss, accuracy = model.evaluate(X_test, y_test, verbose = 0)"
   ]
  },
  {
   "cell_type": "code",
   "execution_count": 19,
   "id": "48cb74ee-04a6-42a1-b3dd-15b70604e82a",
   "metadata": {},
   "outputs": [
    {
     "data": {
      "text/plain": [
       "0.989799976348877"
      ]
     },
     "execution_count": 19,
     "metadata": {},
     "output_type": "execute_result"
    }
   ],
   "source": [
    "accuracy"
   ]
  }
 ],
 "metadata": {
  "kernelspec": {
   "display_name": "Python 3 (ipykernel)",
   "language": "python",
   "name": "python3"
  },
  "language_info": {
   "codemirror_mode": {
    "name": "ipython",
    "version": 3
   },
   "file_extension": ".py",
   "mimetype": "text/x-python",
   "name": "python",
   "nbconvert_exporter": "python",
   "pygments_lexer": "ipython3",
   "version": "3.11.5"
  }
 },
 "nbformat": 4,
 "nbformat_minor": 5
}
