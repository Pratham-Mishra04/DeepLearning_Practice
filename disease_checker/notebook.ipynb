{
 "cells": [
  {
   "cell_type": "markdown",
   "id": "abc33c35-65a5-4f85-a086-66111b0deea6",
   "metadata": {},
   "source": [
    "# Import and Preparing Data"
   ]
  },
  {
   "cell_type": "code",
   "execution_count": 1,
   "id": "d53ac553-f836-4ade-839c-44bdb9977596",
   "metadata": {},
   "outputs": [],
   "source": [
    "import pandas as pd\n",
    "import numpy as np\n",
    "import matplotlib.pyplot as plt\n",
    "%matplotlib inline"
   ]
  },
  {
   "cell_type": "code",
   "execution_count": 2,
   "id": "082b72d0-7002-459a-8bad-8cd1a29f9947",
   "metadata": {},
   "outputs": [],
   "source": [
    "train = pd.read_csv('train.csv')\n",
    "test = pd.read_csv('test.csv')"
   ]
  },
  {
   "cell_type": "code",
   "execution_count": 3,
   "id": "71729a51-d1d4-433d-b969-33a9a1d6cfaf",
   "metadata": {},
   "outputs": [
    {
     "data": {
      "text/html": [
       "<div>\n",
       "<style scoped>\n",
       "    .dataframe tbody tr th:only-of-type {\n",
       "        vertical-align: middle;\n",
       "    }\n",
       "\n",
       "    .dataframe tbody tr th {\n",
       "        vertical-align: top;\n",
       "    }\n",
       "\n",
       "    .dataframe thead th {\n",
       "        text-align: right;\n",
       "    }\n",
       "</style>\n",
       "<table border=\"1\" class=\"dataframe\">\n",
       "  <thead>\n",
       "    <tr style=\"text-align: right;\">\n",
       "      <th></th>\n",
       "      <th>itching</th>\n",
       "      <th>skin_rash</th>\n",
       "      <th>nodal_skin_eruptions</th>\n",
       "      <th>continuous_sneezing</th>\n",
       "      <th>shivering</th>\n",
       "      <th>chills</th>\n",
       "      <th>joint_pain</th>\n",
       "      <th>stomach_pain</th>\n",
       "      <th>acidity</th>\n",
       "      <th>ulcers_on_tongue</th>\n",
       "      <th>...</th>\n",
       "      <th>scurring</th>\n",
       "      <th>skin_peeling</th>\n",
       "      <th>silver_like_dusting</th>\n",
       "      <th>small_dents_in_nails</th>\n",
       "      <th>inflammatory_nails</th>\n",
       "      <th>blister</th>\n",
       "      <th>red_sore_around_nose</th>\n",
       "      <th>yellow_crust_ooze</th>\n",
       "      <th>prognosis</th>\n",
       "      <th>Unnamed: 133</th>\n",
       "    </tr>\n",
       "  </thead>\n",
       "  <tbody>\n",
       "    <tr>\n",
       "      <th>0</th>\n",
       "      <td>1</td>\n",
       "      <td>1</td>\n",
       "      <td>1</td>\n",
       "      <td>0</td>\n",
       "      <td>0</td>\n",
       "      <td>0</td>\n",
       "      <td>0</td>\n",
       "      <td>0</td>\n",
       "      <td>0</td>\n",
       "      <td>0</td>\n",
       "      <td>...</td>\n",
       "      <td>0</td>\n",
       "      <td>0</td>\n",
       "      <td>0</td>\n",
       "      <td>0</td>\n",
       "      <td>0</td>\n",
       "      <td>0</td>\n",
       "      <td>0</td>\n",
       "      <td>0</td>\n",
       "      <td>Fungal infection</td>\n",
       "      <td>NaN</td>\n",
       "    </tr>\n",
       "    <tr>\n",
       "      <th>1</th>\n",
       "      <td>0</td>\n",
       "      <td>1</td>\n",
       "      <td>1</td>\n",
       "      <td>0</td>\n",
       "      <td>0</td>\n",
       "      <td>0</td>\n",
       "      <td>0</td>\n",
       "      <td>0</td>\n",
       "      <td>0</td>\n",
       "      <td>0</td>\n",
       "      <td>...</td>\n",
       "      <td>0</td>\n",
       "      <td>0</td>\n",
       "      <td>0</td>\n",
       "      <td>0</td>\n",
       "      <td>0</td>\n",
       "      <td>0</td>\n",
       "      <td>0</td>\n",
       "      <td>0</td>\n",
       "      <td>Fungal infection</td>\n",
       "      <td>NaN</td>\n",
       "    </tr>\n",
       "    <tr>\n",
       "      <th>2</th>\n",
       "      <td>1</td>\n",
       "      <td>0</td>\n",
       "      <td>1</td>\n",
       "      <td>0</td>\n",
       "      <td>0</td>\n",
       "      <td>0</td>\n",
       "      <td>0</td>\n",
       "      <td>0</td>\n",
       "      <td>0</td>\n",
       "      <td>0</td>\n",
       "      <td>...</td>\n",
       "      <td>0</td>\n",
       "      <td>0</td>\n",
       "      <td>0</td>\n",
       "      <td>0</td>\n",
       "      <td>0</td>\n",
       "      <td>0</td>\n",
       "      <td>0</td>\n",
       "      <td>0</td>\n",
       "      <td>Fungal infection</td>\n",
       "      <td>NaN</td>\n",
       "    </tr>\n",
       "    <tr>\n",
       "      <th>3</th>\n",
       "      <td>1</td>\n",
       "      <td>1</td>\n",
       "      <td>0</td>\n",
       "      <td>0</td>\n",
       "      <td>0</td>\n",
       "      <td>0</td>\n",
       "      <td>0</td>\n",
       "      <td>0</td>\n",
       "      <td>0</td>\n",
       "      <td>0</td>\n",
       "      <td>...</td>\n",
       "      <td>0</td>\n",
       "      <td>0</td>\n",
       "      <td>0</td>\n",
       "      <td>0</td>\n",
       "      <td>0</td>\n",
       "      <td>0</td>\n",
       "      <td>0</td>\n",
       "      <td>0</td>\n",
       "      <td>Fungal infection</td>\n",
       "      <td>NaN</td>\n",
       "    </tr>\n",
       "    <tr>\n",
       "      <th>4</th>\n",
       "      <td>1</td>\n",
       "      <td>1</td>\n",
       "      <td>1</td>\n",
       "      <td>0</td>\n",
       "      <td>0</td>\n",
       "      <td>0</td>\n",
       "      <td>0</td>\n",
       "      <td>0</td>\n",
       "      <td>0</td>\n",
       "      <td>0</td>\n",
       "      <td>...</td>\n",
       "      <td>0</td>\n",
       "      <td>0</td>\n",
       "      <td>0</td>\n",
       "      <td>0</td>\n",
       "      <td>0</td>\n",
       "      <td>0</td>\n",
       "      <td>0</td>\n",
       "      <td>0</td>\n",
       "      <td>Fungal infection</td>\n",
       "      <td>NaN</td>\n",
       "    </tr>\n",
       "    <tr>\n",
       "      <th>...</th>\n",
       "      <td>...</td>\n",
       "      <td>...</td>\n",
       "      <td>...</td>\n",
       "      <td>...</td>\n",
       "      <td>...</td>\n",
       "      <td>...</td>\n",
       "      <td>...</td>\n",
       "      <td>...</td>\n",
       "      <td>...</td>\n",
       "      <td>...</td>\n",
       "      <td>...</td>\n",
       "      <td>...</td>\n",
       "      <td>...</td>\n",
       "      <td>...</td>\n",
       "      <td>...</td>\n",
       "      <td>...</td>\n",
       "      <td>...</td>\n",
       "      <td>...</td>\n",
       "      <td>...</td>\n",
       "      <td>...</td>\n",
       "      <td>...</td>\n",
       "    </tr>\n",
       "    <tr>\n",
       "      <th>4915</th>\n",
       "      <td>0</td>\n",
       "      <td>0</td>\n",
       "      <td>0</td>\n",
       "      <td>0</td>\n",
       "      <td>0</td>\n",
       "      <td>0</td>\n",
       "      <td>0</td>\n",
       "      <td>0</td>\n",
       "      <td>0</td>\n",
       "      <td>0</td>\n",
       "      <td>...</td>\n",
       "      <td>0</td>\n",
       "      <td>0</td>\n",
       "      <td>0</td>\n",
       "      <td>0</td>\n",
       "      <td>0</td>\n",
       "      <td>0</td>\n",
       "      <td>0</td>\n",
       "      <td>0</td>\n",
       "      <td>(vertigo) Paroymsal  Positional Vertigo</td>\n",
       "      <td>NaN</td>\n",
       "    </tr>\n",
       "    <tr>\n",
       "      <th>4916</th>\n",
       "      <td>0</td>\n",
       "      <td>1</td>\n",
       "      <td>0</td>\n",
       "      <td>0</td>\n",
       "      <td>0</td>\n",
       "      <td>0</td>\n",
       "      <td>0</td>\n",
       "      <td>0</td>\n",
       "      <td>0</td>\n",
       "      <td>0</td>\n",
       "      <td>...</td>\n",
       "      <td>1</td>\n",
       "      <td>0</td>\n",
       "      <td>0</td>\n",
       "      <td>0</td>\n",
       "      <td>0</td>\n",
       "      <td>0</td>\n",
       "      <td>0</td>\n",
       "      <td>0</td>\n",
       "      <td>Acne</td>\n",
       "      <td>NaN</td>\n",
       "    </tr>\n",
       "    <tr>\n",
       "      <th>4917</th>\n",
       "      <td>0</td>\n",
       "      <td>0</td>\n",
       "      <td>0</td>\n",
       "      <td>0</td>\n",
       "      <td>0</td>\n",
       "      <td>0</td>\n",
       "      <td>0</td>\n",
       "      <td>0</td>\n",
       "      <td>0</td>\n",
       "      <td>0</td>\n",
       "      <td>...</td>\n",
       "      <td>0</td>\n",
       "      <td>0</td>\n",
       "      <td>0</td>\n",
       "      <td>0</td>\n",
       "      <td>0</td>\n",
       "      <td>0</td>\n",
       "      <td>0</td>\n",
       "      <td>0</td>\n",
       "      <td>Urinary tract infection</td>\n",
       "      <td>NaN</td>\n",
       "    </tr>\n",
       "    <tr>\n",
       "      <th>4918</th>\n",
       "      <td>0</td>\n",
       "      <td>1</td>\n",
       "      <td>0</td>\n",
       "      <td>0</td>\n",
       "      <td>0</td>\n",
       "      <td>0</td>\n",
       "      <td>1</td>\n",
       "      <td>0</td>\n",
       "      <td>0</td>\n",
       "      <td>0</td>\n",
       "      <td>...</td>\n",
       "      <td>0</td>\n",
       "      <td>1</td>\n",
       "      <td>1</td>\n",
       "      <td>1</td>\n",
       "      <td>1</td>\n",
       "      <td>0</td>\n",
       "      <td>0</td>\n",
       "      <td>0</td>\n",
       "      <td>Psoriasis</td>\n",
       "      <td>NaN</td>\n",
       "    </tr>\n",
       "    <tr>\n",
       "      <th>4919</th>\n",
       "      <td>0</td>\n",
       "      <td>1</td>\n",
       "      <td>0</td>\n",
       "      <td>0</td>\n",
       "      <td>0</td>\n",
       "      <td>0</td>\n",
       "      <td>0</td>\n",
       "      <td>0</td>\n",
       "      <td>0</td>\n",
       "      <td>0</td>\n",
       "      <td>...</td>\n",
       "      <td>0</td>\n",
       "      <td>0</td>\n",
       "      <td>0</td>\n",
       "      <td>0</td>\n",
       "      <td>0</td>\n",
       "      <td>1</td>\n",
       "      <td>1</td>\n",
       "      <td>1</td>\n",
       "      <td>Impetigo</td>\n",
       "      <td>NaN</td>\n",
       "    </tr>\n",
       "  </tbody>\n",
       "</table>\n",
       "<p>4920 rows × 134 columns</p>\n",
       "</div>"
      ],
      "text/plain": [
       "      itching  skin_rash  nodal_skin_eruptions  continuous_sneezing  \\\n",
       "0           1          1                     1                    0   \n",
       "1           0          1                     1                    0   \n",
       "2           1          0                     1                    0   \n",
       "3           1          1                     0                    0   \n",
       "4           1          1                     1                    0   \n",
       "...       ...        ...                   ...                  ...   \n",
       "4915        0          0                     0                    0   \n",
       "4916        0          1                     0                    0   \n",
       "4917        0          0                     0                    0   \n",
       "4918        0          1                     0                    0   \n",
       "4919        0          1                     0                    0   \n",
       "\n",
       "      shivering  chills  joint_pain  stomach_pain  acidity  ulcers_on_tongue  \\\n",
       "0             0       0           0             0        0                 0   \n",
       "1             0       0           0             0        0                 0   \n",
       "2             0       0           0             0        0                 0   \n",
       "3             0       0           0             0        0                 0   \n",
       "4             0       0           0             0        0                 0   \n",
       "...         ...     ...         ...           ...      ...               ...   \n",
       "4915          0       0           0             0        0                 0   \n",
       "4916          0       0           0             0        0                 0   \n",
       "4917          0       0           0             0        0                 0   \n",
       "4918          0       0           1             0        0                 0   \n",
       "4919          0       0           0             0        0                 0   \n",
       "\n",
       "      ...  scurring  skin_peeling  silver_like_dusting  small_dents_in_nails  \\\n",
       "0     ...         0             0                    0                     0   \n",
       "1     ...         0             0                    0                     0   \n",
       "2     ...         0             0                    0                     0   \n",
       "3     ...         0             0                    0                     0   \n",
       "4     ...         0             0                    0                     0   \n",
       "...   ...       ...           ...                  ...                   ...   \n",
       "4915  ...         0             0                    0                     0   \n",
       "4916  ...         1             0                    0                     0   \n",
       "4917  ...         0             0                    0                     0   \n",
       "4918  ...         0             1                    1                     1   \n",
       "4919  ...         0             0                    0                     0   \n",
       "\n",
       "      inflammatory_nails  blister  red_sore_around_nose  yellow_crust_ooze  \\\n",
       "0                      0        0                     0                  0   \n",
       "1                      0        0                     0                  0   \n",
       "2                      0        0                     0                  0   \n",
       "3                      0        0                     0                  0   \n",
       "4                      0        0                     0                  0   \n",
       "...                  ...      ...                   ...                ...   \n",
       "4915                   0        0                     0                  0   \n",
       "4916                   0        0                     0                  0   \n",
       "4917                   0        0                     0                  0   \n",
       "4918                   1        0                     0                  0   \n",
       "4919                   0        1                     1                  1   \n",
       "\n",
       "                                    prognosis  Unnamed: 133  \n",
       "0                            Fungal infection           NaN  \n",
       "1                            Fungal infection           NaN  \n",
       "2                            Fungal infection           NaN  \n",
       "3                            Fungal infection           NaN  \n",
       "4                            Fungal infection           NaN  \n",
       "...                                       ...           ...  \n",
       "4915  (vertigo) Paroymsal  Positional Vertigo           NaN  \n",
       "4916                                     Acne           NaN  \n",
       "4917                  Urinary tract infection           NaN  \n",
       "4918                                Psoriasis           NaN  \n",
       "4919                                 Impetigo           NaN  \n",
       "\n",
       "[4920 rows x 134 columns]"
      ]
     },
     "execution_count": 3,
     "metadata": {},
     "output_type": "execute_result"
    }
   ],
   "source": [
    "train"
   ]
  },
  {
   "cell_type": "code",
   "execution_count": 4,
   "id": "ecd937c5-3ce2-4605-86ef-6ce3d1e46b12",
   "metadata": {},
   "outputs": [
    {
     "data": {
      "text/plain": [
       "Index(['itching', 'skin_rash', 'nodal_skin_eruptions', 'continuous_sneezing',\n",
       "       'shivering', 'chills', 'joint_pain', 'stomach_pain', 'acidity',\n",
       "       'ulcers_on_tongue',\n",
       "       ...\n",
       "       'scurring', 'skin_peeling', 'silver_like_dusting',\n",
       "       'small_dents_in_nails', 'inflammatory_nails', 'blister',\n",
       "       'red_sore_around_nose', 'yellow_crust_ooze', 'prognosis',\n",
       "       'Unnamed: 133'],\n",
       "      dtype='object', length=134)"
      ]
     },
     "execution_count": 4,
     "metadata": {},
     "output_type": "execute_result"
    }
   ],
   "source": [
    "train.columns"
   ]
  },
  {
   "cell_type": "code",
   "execution_count": 5,
   "id": "5656b336-5987-456e-b98d-85fa4b8ba60b",
   "metadata": {},
   "outputs": [],
   "source": [
    "train.drop('Unnamed: 133', axis=1, inplace=True)"
   ]
  },
  {
   "cell_type": "code",
   "execution_count": 6,
   "id": "6622a9ba-0c90-48f0-81d8-40d3dc9b52a8",
   "metadata": {},
   "outputs": [
    {
     "data": {
      "text/plain": [
       "prognosis\n",
       "Fungal infection                           120\n",
       "Hepatitis C                                120\n",
       "Hepatitis E                                120\n",
       "Alcoholic hepatitis                        120\n",
       "Tuberculosis                               120\n",
       "Common Cold                                120\n",
       "Pneumonia                                  120\n",
       "Dimorphic hemmorhoids(piles)               120\n",
       "Heart attack                               120\n",
       "Varicose veins                             120\n",
       "Hypothyroidism                             120\n",
       "Hyperthyroidism                            120\n",
       "Hypoglycemia                               120\n",
       "Osteoarthristis                            120\n",
       "Arthritis                                  120\n",
       "(vertigo) Paroymsal  Positional Vertigo    120\n",
       "Acne                                       120\n",
       "Urinary tract infection                    120\n",
       "Psoriasis                                  120\n",
       "Hepatitis D                                120\n",
       "Hepatitis B                                120\n",
       "Allergy                                    120\n",
       "hepatitis A                                120\n",
       "GERD                                       120\n",
       "Chronic cholestasis                        120\n",
       "Drug Reaction                              120\n",
       "Peptic ulcer diseae                        120\n",
       "AIDS                                       120\n",
       "Diabetes                                   120\n",
       "Gastroenteritis                            120\n",
       "Bronchial Asthma                           120\n",
       "Hypertension                               120\n",
       "Migraine                                   120\n",
       "Cervical spondylosis                       120\n",
       "Paralysis (brain hemorrhage)               120\n",
       "Jaundice                                   120\n",
       "Malaria                                    120\n",
       "Chicken pox                                120\n",
       "Dengue                                     120\n",
       "Typhoid                                    120\n",
       "Impetigo                                   120\n",
       "Name: count, dtype: int64"
      ]
     },
     "execution_count": 6,
     "metadata": {},
     "output_type": "execute_result"
    }
   ],
   "source": [
    "train['prognosis'].value_counts()"
   ]
  },
  {
   "cell_type": "code",
   "execution_count": 7,
   "id": "c55ecb4a-0efd-429d-9e0c-1ff1a70b0851",
   "metadata": {},
   "outputs": [],
   "source": [
    "train['prognosis']=train['prognosis'].str.lower()"
   ]
  },
  {
   "cell_type": "code",
   "execution_count": 8,
   "id": "6d84a7b7-0baa-4d76-bec6-2c3ddf7a55c2",
   "metadata": {},
   "outputs": [],
   "source": [
    "from sklearn.model_selection import train_test_split\n",
    "from sklearn.preprocessing import LabelEncoder\n",
    "\n",
    "X = train.drop('prognosis', axis=1)\n",
    "y = train['prognosis']\n",
    "\n",
    "le = LabelEncoder()\n",
    "y=le.fit_transform(y)"
   ]
  },
  {
   "cell_type": "code",
   "execution_count": 9,
   "id": "b772d1dc-839b-4d17-a6d5-22b537127b65",
   "metadata": {},
   "outputs": [],
   "source": [
    "max_len=41\n",
    "\n",
    "y_final = []\n",
    "\n",
    "for val in y:\n",
    "    tensor = np.zeros(max_len)\n",
    "    tensor[val] = 1\n",
    "    y_final.append(tensor)"
   ]
  },
  {
   "cell_type": "code",
   "execution_count": 10,
   "id": "7d4659e5-e131-49d4-b5ac-09868479fa1b",
   "metadata": {},
   "outputs": [],
   "source": [
    "y = np.array(y_final)"
   ]
  },
  {
   "cell_type": "code",
   "execution_count": 11,
   "id": "0c6565a3-1289-4779-86c1-bdaf9428dd93",
   "metadata": {},
   "outputs": [],
   "source": [
    "X_train, X_val, y_train, y_val = train_test_split(X, y, test_size=0.1, random_state=42, stratify=y)"
   ]
  },
  {
   "cell_type": "code",
   "execution_count": 12,
   "id": "cbf45be5-66cd-43c2-96bc-58647c0b9ab4",
   "metadata": {},
   "outputs": [],
   "source": [
    "le_name_mapping = dict(zip(le.classes_, le.transform(le.classes_)))"
   ]
  },
  {
   "cell_type": "code",
   "execution_count": 13,
   "id": "1a076c23-7e62-4f89-9163-b66a604141a8",
   "metadata": {},
   "outputs": [
    {
     "data": {
      "text/plain": [
       "{'(vertigo) paroymsal  positional vertigo': 0,\n",
       " 'acne': 1,\n",
       " 'aids': 2,\n",
       " 'alcoholic hepatitis': 3,\n",
       " 'allergy': 4,\n",
       " 'arthritis': 5,\n",
       " 'bronchial asthma': 6,\n",
       " 'cervical spondylosis': 7,\n",
       " 'chicken pox': 8,\n",
       " 'chronic cholestasis': 9,\n",
       " 'common cold': 10,\n",
       " 'dengue': 11,\n",
       " 'diabetes ': 12,\n",
       " 'dimorphic hemmorhoids(piles)': 13,\n",
       " 'drug reaction': 14,\n",
       " 'fungal infection': 15,\n",
       " 'gastroenteritis': 16,\n",
       " 'gerd': 17,\n",
       " 'heart attack': 18,\n",
       " 'hepatitis a': 19,\n",
       " 'hepatitis b': 20,\n",
       " 'hepatitis c': 21,\n",
       " 'hepatitis d': 22,\n",
       " 'hepatitis e': 23,\n",
       " 'hypertension ': 24,\n",
       " 'hyperthyroidism': 25,\n",
       " 'hypoglycemia': 26,\n",
       " 'hypothyroidism': 27,\n",
       " 'impetigo': 28,\n",
       " 'jaundice': 29,\n",
       " 'malaria': 30,\n",
       " 'migraine': 31,\n",
       " 'osteoarthristis': 32,\n",
       " 'paralysis (brain hemorrhage)': 33,\n",
       " 'peptic ulcer diseae': 34,\n",
       " 'pneumonia': 35,\n",
       " 'psoriasis': 36,\n",
       " 'tuberculosis': 37,\n",
       " 'typhoid': 38,\n",
       " 'urinary tract infection': 39,\n",
       " 'varicose veins': 40}"
      ]
     },
     "execution_count": 13,
     "metadata": {},
     "output_type": "execute_result"
    }
   ],
   "source": [
    "le_name_mapping"
   ]
  },
  {
   "cell_type": "code",
   "execution_count": 14,
   "id": "3bb9f8f6-7532-4096-9fdd-ede6cc86d61f",
   "metadata": {},
   "outputs": [
    {
     "data": {
      "text/plain": [
       "Index(['itching', 'skin_rash', 'nodal_skin_eruptions', 'continuous_sneezing',\n",
       "       'shivering', 'chills', 'joint_pain', 'stomach_pain', 'acidity',\n",
       "       'ulcers_on_tongue',\n",
       "       ...\n",
       "       'pus_filled_pimples', 'blackheads', 'scurring', 'skin_peeling',\n",
       "       'silver_like_dusting', 'small_dents_in_nails', 'inflammatory_nails',\n",
       "       'blister', 'red_sore_around_nose', 'yellow_crust_ooze'],\n",
       "      dtype='object', length=132)"
      ]
     },
     "execution_count": 14,
     "metadata": {},
     "output_type": "execute_result"
    }
   ],
   "source": [
    "X_train.columns"
   ]
  },
  {
   "cell_type": "markdown",
   "id": "7f71eb9b-2718-4582-9d21-1eebfb6ca17d",
   "metadata": {},
   "source": [
    "# Model Building"
   ]
  },
  {
   "cell_type": "code",
   "execution_count": 15,
   "id": "45cbb9f2-2f90-44f9-945f-27b6f7234878",
   "metadata": {},
   "outputs": [],
   "source": [
    "from keras import Sequential\n",
    "from keras.layers import Input, Dense, BatchNormalization, Dropout\n",
    "from keras.callbacks import EarlyStopping"
   ]
  },
  {
   "cell_type": "code",
   "execution_count": 16,
   "id": "9fccd390-00d3-498c-a440-6f4f91581822",
   "metadata": {},
   "outputs": [],
   "source": [
    "model = Sequential()\n",
    "model.add(Input(132,))\n",
    "model.add(Dense(256, activation='relu'))\n",
    "model.add(Dropout(0.4))\n",
    "model.add(Dense(128, activation='relu'))\n",
    "model.add(Dropout(0.2))\n",
    "model.add(Dense(41, activation='softmax'))\n",
    "\n",
    "model.compile(\n",
    "        optimizer='adam',\n",
    "        loss='categorical_crossentropy',\n",
    "        metrics=['accuracy']\n",
    "    )"
   ]
  },
  {
   "cell_type": "code",
   "execution_count": 17,
   "id": "956ed1b1-a04f-42fa-af27-498500134cbd",
   "metadata": {},
   "outputs": [
    {
     "name": "stdout",
     "output_type": "stream",
     "text": [
      "Epoch 1/25\n",
      "139/139 [==============================] - 0s 1ms/step - loss: 1.4724 - accuracy: 0.8132 - val_loss: 0.0485 - val_accuracy: 1.0000\n",
      "Epoch 2/25\n",
      "139/139 [==============================] - 0s 878us/step - loss: 0.0555 - accuracy: 0.9973 - val_loss: 0.0059 - val_accuracy: 1.0000\n",
      "Epoch 3/25\n",
      "139/139 [==============================] - 0s 946us/step - loss: 0.0191 - accuracy: 0.9989 - val_loss: 0.0020 - val_accuracy: 1.0000\n",
      "Epoch 4/25\n",
      "139/139 [==============================] - 0s 965us/step - loss: 0.0096 - accuracy: 0.9995 - val_loss: 9.6366e-04 - val_accuracy: 1.0000\n",
      "Epoch 5/25\n",
      "139/139 [==============================] - 0s 957us/step - loss: 0.0063 - accuracy: 1.0000 - val_loss: 5.5034e-04 - val_accuracy: 1.0000\n",
      "Epoch 6/25\n",
      "139/139 [==============================] - 0s 969us/step - loss: 0.0039 - accuracy: 1.0000 - val_loss: 3.2450e-04 - val_accuracy: 1.0000\n",
      "Epoch 7/25\n",
      "139/139 [==============================] - 0s 952us/step - loss: 0.0042 - accuracy: 0.9998 - val_loss: 2.6635e-04 - val_accuracy: 1.0000\n",
      "Epoch 8/25\n",
      "139/139 [==============================] - 0s 949us/step - loss: 0.0025 - accuracy: 1.0000 - val_loss: 1.5165e-04 - val_accuracy: 1.0000\n",
      "Epoch 9/25\n",
      "139/139 [==============================] - 0s 948us/step - loss: 0.0018 - accuracy: 1.0000 - val_loss: 1.0756e-04 - val_accuracy: 1.0000\n",
      "Epoch 10/25\n",
      "139/139 [==============================] - 0s 927us/step - loss: 0.0018 - accuracy: 1.0000 - val_loss: 8.4064e-05 - val_accuracy: 1.0000\n",
      "Epoch 11/25\n",
      "139/139 [==============================] - 0s 944us/step - loss: 0.0015 - accuracy: 1.0000 - val_loss: 5.5799e-05 - val_accuracy: 1.0000\n",
      "Epoch 12/25\n",
      "139/139 [==============================] - 0s 954us/step - loss: 0.0014 - accuracy: 1.0000 - val_loss: 8.0443e-05 - val_accuracy: 1.0000\n",
      "Epoch 13/25\n",
      "139/139 [==============================] - 0s 926us/step - loss: 0.0013 - accuracy: 0.9998 - val_loss: 4.8762e-05 - val_accuracy: 1.0000\n",
      "Epoch 14/25\n",
      "139/139 [==============================] - 0s 904us/step - loss: 9.5747e-04 - accuracy: 1.0000 - val_loss: 2.9361e-05 - val_accuracy: 1.0000\n",
      "Epoch 15/25\n",
      "139/139 [==============================] - 0s 916us/step - loss: 7.7827e-04 - accuracy: 1.0000 - val_loss: 2.2866e-05 - val_accuracy: 1.0000\n",
      "Epoch 16/25\n",
      "139/139 [==============================] - 0s 944us/step - loss: 7.9889e-04 - accuracy: 1.0000 - val_loss: 2.1386e-05 - val_accuracy: 1.0000\n",
      "Epoch 17/25\n",
      "139/139 [==============================] - 0s 927us/step - loss: 0.0019 - accuracy: 0.9995 - val_loss: 2.6796e-05 - val_accuracy: 1.0000\n",
      "Epoch 18/25\n",
      "139/139 [==============================] - 0s 897us/step - loss: 7.2728e-04 - accuracy: 1.0000 - val_loss: 1.5648e-05 - val_accuracy: 1.0000\n",
      "Epoch 19/25\n",
      "139/139 [==============================] - 0s 963us/step - loss: 4.7366e-04 - accuracy: 1.0000 - val_loss: 1.2390e-05 - val_accuracy: 1.0000\n",
      "Epoch 20/25\n",
      "139/139 [==============================] - 0s 969us/step - loss: 3.3579e-04 - accuracy: 1.0000 - val_loss: 9.0548e-06 - val_accuracy: 1.0000\n",
      "Epoch 21/25\n",
      "139/139 [==============================] - 0s 916us/step - loss: 2.7049e-04 - accuracy: 1.0000 - val_loss: 7.4829e-06 - val_accuracy: 1.0000\n",
      "Epoch 22/25\n",
      "139/139 [==============================] - 0s 925us/step - loss: 3.6372e-04 - accuracy: 1.0000 - val_loss: 1.0871e-05 - val_accuracy: 1.0000\n",
      "Epoch 23/25\n",
      "139/139 [==============================] - 0s 973us/step - loss: 3.1868e-04 - accuracy: 1.0000 - val_loss: 5.8348e-06 - val_accuracy: 1.0000\n",
      "Epoch 24/25\n",
      "139/139 [==============================] - 0s 947us/step - loss: 3.7590e-04 - accuracy: 1.0000 - val_loss: 5.1014e-06 - val_accuracy: 1.0000\n",
      "Epoch 25/25\n",
      "139/139 [==============================] - 0s 960us/step - loss: 5.2110e-04 - accuracy: 1.0000 - val_loss: 1.0611e-05 - val_accuracy: 1.0000\n"
     ]
    }
   ],
   "source": [
    "history = model.fit(X_train, y_train, epochs=25, validation_data=(X_val, y_val))"
   ]
  },
  {
   "cell_type": "code",
   "execution_count": 18,
   "id": "676f23e3-c9ba-4b4a-aaa7-d310374d2f97",
   "metadata": {},
   "outputs": [
    {
     "name": "stdout",
     "output_type": "stream",
     "text": [
      "1/1 [==============================] - 0s 32ms/step\n"
     ]
    }
   ],
   "source": [
    "prediction=model.predict([[1, 1, 1, 0, 0, 0, 0, 0, 0, 0, 0, 0, 0, 0, 0, 0, 0, 0, 0, 0, 0, 0,\n",
    "        0, 0, 0, 0, 0, 0, 0, 0, 0, 0, 0, 0, 0, 0, 0, 0, 0, 0, 0, 0, 0, 0,\n",
    "        0, 0, 0, 0, 0, 0, 0, 0, 0, 0, 0, 0, 0, 0, 0, 0, 0, 0, 0, 0, 0, 0,\n",
    "        0, 0, 0, 0, 0, 0, 0, 0, 0, 0, 0, 0, 0, 0, 0, 0, 0, 0, 0, 0, 0, 0,\n",
    "        0, 0, 0, 0, 0, 0, 0, 0, 0, 0, 0, 0, 0, 0, 1, 0, 0, 0, 0, 0, 0, 0,\n",
    "        0, 0, 0, 0, 0, 0, 0, 0, 0, 0, 0, 0, 0, 0, 0, 0, 0, 0, 0, 0, 0, 0]])[0]"
   ]
  },
  {
   "cell_type": "code",
   "execution_count": 19,
   "id": "b976bda2-03ba-4074-8094-5a0db82c30f0",
   "metadata": {},
   "outputs": [],
   "source": [
    "disease_name=le.inverse_transform([np.argmax(prediction)])[0]"
   ]
  },
  {
   "cell_type": "code",
   "execution_count": 20,
   "id": "96b2b56b-44b9-41f1-bb01-18f9ef9b0065",
   "metadata": {},
   "outputs": [
    {
     "data": {
      "text/plain": [
       "'fungal infection'"
      ]
     },
     "execution_count": 20,
     "metadata": {},
     "output_type": "execute_result"
    }
   ],
   "source": [
    "disease_name"
   ]
  },
  {
   "cell_type": "markdown",
   "id": "3e1ade73-edcf-47af-9627-9c2b5b6dd58c",
   "metadata": {},
   "source": [
    "# Testing"
   ]
  },
  {
   "cell_type": "code",
   "execution_count": 22,
   "id": "e8e5d3cb-818a-4916-8a67-b21bd8c43dbb",
   "metadata": {},
   "outputs": [],
   "source": [
    "test['prognosis']=test['prognosis'].str.lower()"
   ]
  },
  {
   "cell_type": "code",
   "execution_count": 23,
   "id": "d04967dc-bcc1-47a0-939c-05855efe19a8",
   "metadata": {},
   "outputs": [],
   "source": [
    "X_test = test.drop('prognosis', axis=1)\n",
    "y_test = le.transform(test['prognosis'])"
   ]
  },
  {
   "cell_type": "code",
   "execution_count": 24,
   "id": "bc60a3b9-44ca-4f41-a3fe-2ac86a142d92",
   "metadata": {},
   "outputs": [],
   "source": [
    "max_len=41\n",
    "\n",
    "y_final = []\n",
    "\n",
    "for val in y_test:\n",
    "    tensor = np.zeros(max_len)\n",
    "    tensor[val] = 1\n",
    "    y_final.append(tensor)"
   ]
  },
  {
   "cell_type": "code",
   "execution_count": 25,
   "id": "623a59c3-0b71-4842-b142-f8d689b34d6f",
   "metadata": {},
   "outputs": [],
   "source": [
    "y_test = np.array(y_final)"
   ]
  },
  {
   "cell_type": "code",
   "execution_count": 26,
   "id": "13f43c0e-c41a-4327-a55c-7d473d15c05f",
   "metadata": {},
   "outputs": [
    {
     "name": "stdout",
     "output_type": "stream",
     "text": [
      "2/2 [==============================] - 0s 2ms/step - loss: 0.0041 - accuracy: 1.0000\n"
     ]
    },
    {
     "data": {
      "text/plain": [
       "[0.0041177840903401375, 1.0]"
      ]
     },
     "execution_count": 26,
     "metadata": {},
     "output_type": "execute_result"
    }
   ],
   "source": [
    "model.evaluate(X_test, y_test)"
   ]
  },
  {
   "cell_type": "markdown",
   "id": "52d99e60-9408-4deb-8d7b-0ebf979960d6",
   "metadata": {},
   "source": [
    "# Usage"
   ]
  },
  {
   "cell_type": "code",
   "execution_count": 27,
   "id": "f9030680-240e-4ced-b71c-aa750eaff0c2",
   "metadata": {},
   "outputs": [],
   "source": [
    "import spacy\n",
    "from spacy.lang.en.stop_words import STOP_WORDS\n",
    "\n",
    "nlp = spacy.load(\"en_core_web_md\")\n",
    "\n",
    "columns = X.columns.values"
   ]
  },
  {
   "cell_type": "code",
   "execution_count": 36,
   "id": "2049d19e-ec21-42d6-a1b4-7c3996498698",
   "metadata": {},
   "outputs": [],
   "source": [
    "import json\n",
    "\n",
    "f = open('intents.json')\n",
    "intents = json.load(f)"
   ]
  },
  {
   "cell_type": "code",
   "execution_count": 29,
   "id": "a2e4bc2c-86c8-4d8a-b418-5143cbdb131a",
   "metadata": {},
   "outputs": [],
   "source": [
    "from nltk.stem.porter import PorterStemmer\n",
    "\n",
    "ps=PorterStemmer()\n",
    "\n",
    "def stem(x):\n",
    "    L = []\n",
    "\n",
    "    for i in x:\n",
    "        L.append(ps.stem(i.lower()))\n",
    "    return \" \".join(L)"
   ]
  },
  {
   "cell_type": "code",
   "execution_count": 30,
   "id": "12989215-a20c-4bd5-8185-dcd34d5b2666",
   "metadata": {},
   "outputs": [],
   "source": [
    "from sklearn.feature_extraction.text import CountVectorizer\n",
    "from sklearn.metrics.pairwise import cosine_similarity \n",
    "import re\n",
    "\n",
    "def check_confidence(text, word_list):\n",
    "    stemmed_word_list = [stem([x]) for x in word_list]\n",
    "\n",
    "    word_pattern = r'\\b(' + '|'.join(re.escape(word) for word in stemmed_word_list) + r')\\b'\n",
    "    matching_words = re.findall(word_pattern, text, flags=re.IGNORECASE)\n",
    "    if len(matching_words)!=0:\n",
    "        return 1\n",
    "\n",
    "    cv = CountVectorizer(max_features=100, stop_words='english')\n",
    "\n",
    "    l = text.split(' ')\n",
    "    inputs = len(l)\n",
    "    l.extend(np.unique(stemmed_word_list))\n",
    "    comparision_arr = np.array(l)\n",
    "\n",
    "    if len(np.unique(comparision_arr)) < len(comparision_arr):\n",
    "      return 1\n",
    "\n",
    "    vectors = cv.fit_transform(comparision_arr).toarray()\n",
    "    similarities = cosine_similarity(vectors)\n",
    "\n",
    "    distances = similarities[0]\n",
    "\n",
    "    for conf in distances[inputs:]:\n",
    "      if conf>0.8:\n",
    "        return 1\n",
    "\n",
    "    modified_confidences = [len(word_list)/3 if conf > 0.6 else conf for conf in distances[inputs:]]\n",
    "\n",
    "    return np.mean(modified_confidences)"
   ]
  },
  {
   "cell_type": "code",
   "execution_count": 31,
   "id": "daf54eea-3ad7-4803-9138-770b032f8248",
   "metadata": {},
   "outputs": [],
   "source": [
    "def extract_features(text):\n",
    "    extracted_features = []\n",
    "\n",
    "    doc = nlp(text)\n",
    "    tokens = []\n",
    "\n",
    "    for token in doc:\n",
    "        if token.text.lower() not in STOP_WORDS and not token.is_punct:\n",
    "            tokens.append(token.lemma_)\n",
    "\n",
    "    text = stem(tokens)\n",
    "\n",
    "    for key in intents:\n",
    "      confidence = check_confidence(text, intents[key])\n",
    "      if confidence>0.5:\n",
    "        extracted_features.append(key)\n",
    "\n",
    "    return extracted_features"
   ]
  },
  {
   "cell_type": "code",
   "execution_count": 32,
   "id": "90fbb747-0a3d-4ddc-bdf2-1ff4b2ec9804",
   "metadata": {},
   "outputs": [],
   "source": [
    "def preprocess_input(str):\n",
    "    features = extract_features(str)\n",
    "    feature_keys = []\n",
    "    for feature in features:\n",
    "        if feature in columns:\n",
    "            feature_keys.append(np.where(columns==feature)[0][0])\n",
    "\n",
    "    tensor = np.zeros(len(columns))\n",
    "    for i in feature_keys:\n",
    "        tensor[i] = 1\n",
    "\n",
    "    return tensor"
   ]
  },
  {
   "cell_type": "code",
   "execution_count": 33,
   "id": "d999ed37-fa52-4628-a4be-fa28b6ecfb41",
   "metadata": {},
   "outputs": [],
   "source": [
    "def make_predictions(str):\n",
    "    tensor=preprocess_input(str)\n",
    "    if len(np.unique(tensor)) == 1:\n",
    "      return [], []\n",
    "    \n",
    "    tensor=tensor.reshape(1,132)\n",
    "    prediction=model.predict(tensor)[0]\n",
    "\n",
    "    top_indices = np.argsort(prediction)[::-1][:3]\n",
    "    top_3_indices = top_indices[:3]\n",
    "\n",
    "    disease_names=[le.inverse_transform([x])[0] for x in top_3_indices]\n",
    "\n",
    "    confidences = [x*100 for x in prediction[top_3_indices]]\n",
    "\n",
    "    confidence_dict = {}\n",
    "\n",
    "    for i in range (0,3):\n",
    "      confidence_dict[disease_names[i]]=round(confidences[i], 2)\n",
    "\n",
    "    return confidence_dict"
   ]
  },
  {
   "cell_type": "code",
   "execution_count": 41,
   "id": "9564440c-214e-4cec-9a15-5202a2d32a38",
   "metadata": {},
   "outputs": [
    {
     "name": "stdout",
     "output_type": "stream",
     "text": [
      "1/1 [==============================] - 0s 6ms/step\n"
     ]
    },
    {
     "data": {
      "text/plain": [
       "{'cervical spondylosis': 96.55, 'osteoarthristis': 0.8, 'arthritis': 0.35}"
      ]
     },
     "execution_count": 41,
     "metadata": {},
     "output_type": "execute_result"
    }
   ],
   "source": [
    "make_predictions('I have neck pain and dizziness')"
   ]
  }
 ],
 "metadata": {
  "kernelspec": {
   "display_name": "Python 3 (ipykernel)",
   "language": "python",
   "name": "python3"
  },
  "language_info": {
   "codemirror_mode": {
    "name": "ipython",
    "version": 3
   },
   "file_extension": ".py",
   "mimetype": "text/x-python",
   "name": "python",
   "nbconvert_exporter": "python",
   "pygments_lexer": "ipython3",
   "version": "3.11.5"
  }
 },
 "nbformat": 4,
 "nbformat_minor": 5
}
