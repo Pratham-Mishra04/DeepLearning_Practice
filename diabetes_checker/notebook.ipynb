{
 "cells": [
  {
   "cell_type": "code",
   "execution_count": 1,
   "id": "fa282724-74f3-485a-8424-be600b97d5b0",
   "metadata": {},
   "outputs": [],
   "source": [
    "import pandas as pd\n",
    "import numpy as np"
   ]
  },
  {
   "cell_type": "code",
   "execution_count": 2,
   "id": "b398b020-ba25-4c8a-ad35-c20c34aeaf32",
   "metadata": {},
   "outputs": [],
   "source": [
    "df = pd.read_csv(\"diabetes.csv\")"
   ]
  },
  {
   "cell_type": "code",
   "execution_count": 3,
   "id": "c64ff21a-ce61-4989-a12c-9912f6257ffd",
   "metadata": {},
   "outputs": [
    {
     "data": {
      "text/html": [
       "<div>\n",
       "<style scoped>\n",
       "    .dataframe tbody tr th:only-of-type {\n",
       "        vertical-align: middle;\n",
       "    }\n",
       "\n",
       "    .dataframe tbody tr th {\n",
       "        vertical-align: top;\n",
       "    }\n",
       "\n",
       "    .dataframe thead th {\n",
       "        text-align: right;\n",
       "    }\n",
       "</style>\n",
       "<table border=\"1\" class=\"dataframe\">\n",
       "  <thead>\n",
       "    <tr style=\"text-align: right;\">\n",
       "      <th></th>\n",
       "      <th>Pregnancies</th>\n",
       "      <th>Glucose</th>\n",
       "      <th>BloodPressure</th>\n",
       "      <th>SkinThickness</th>\n",
       "      <th>Insulin</th>\n",
       "      <th>BMI</th>\n",
       "      <th>DiabetesPedigreeFunction</th>\n",
       "      <th>Age</th>\n",
       "      <th>Outcome</th>\n",
       "    </tr>\n",
       "  </thead>\n",
       "  <tbody>\n",
       "    <tr>\n",
       "      <th>0</th>\n",
       "      <td>6</td>\n",
       "      <td>148</td>\n",
       "      <td>72</td>\n",
       "      <td>35</td>\n",
       "      <td>0</td>\n",
       "      <td>33.6</td>\n",
       "      <td>0.627</td>\n",
       "      <td>50</td>\n",
       "      <td>1</td>\n",
       "    </tr>\n",
       "    <tr>\n",
       "      <th>1</th>\n",
       "      <td>1</td>\n",
       "      <td>85</td>\n",
       "      <td>66</td>\n",
       "      <td>29</td>\n",
       "      <td>0</td>\n",
       "      <td>26.6</td>\n",
       "      <td>0.351</td>\n",
       "      <td>31</td>\n",
       "      <td>0</td>\n",
       "    </tr>\n",
       "    <tr>\n",
       "      <th>2</th>\n",
       "      <td>8</td>\n",
       "      <td>183</td>\n",
       "      <td>64</td>\n",
       "      <td>0</td>\n",
       "      <td>0</td>\n",
       "      <td>23.3</td>\n",
       "      <td>0.672</td>\n",
       "      <td>32</td>\n",
       "      <td>1</td>\n",
       "    </tr>\n",
       "    <tr>\n",
       "      <th>3</th>\n",
       "      <td>1</td>\n",
       "      <td>89</td>\n",
       "      <td>66</td>\n",
       "      <td>23</td>\n",
       "      <td>94</td>\n",
       "      <td>28.1</td>\n",
       "      <td>0.167</td>\n",
       "      <td>21</td>\n",
       "      <td>0</td>\n",
       "    </tr>\n",
       "    <tr>\n",
       "      <th>4</th>\n",
       "      <td>0</td>\n",
       "      <td>137</td>\n",
       "      <td>40</td>\n",
       "      <td>35</td>\n",
       "      <td>168</td>\n",
       "      <td>43.1</td>\n",
       "      <td>2.288</td>\n",
       "      <td>33</td>\n",
       "      <td>1</td>\n",
       "    </tr>\n",
       "  </tbody>\n",
       "</table>\n",
       "</div>"
      ],
      "text/plain": [
       "   Pregnancies  Glucose  BloodPressure  SkinThickness  Insulin   BMI  \\\n",
       "0            6      148             72             35        0  33.6   \n",
       "1            1       85             66             29        0  26.6   \n",
       "2            8      183             64              0        0  23.3   \n",
       "3            1       89             66             23       94  28.1   \n",
       "4            0      137             40             35      168  43.1   \n",
       "\n",
       "   DiabetesPedigreeFunction  Age  Outcome  \n",
       "0                     0.627   50        1  \n",
       "1                     0.351   31        0  \n",
       "2                     0.672   32        1  \n",
       "3                     0.167   21        0  \n",
       "4                     2.288   33        1  "
      ]
     },
     "execution_count": 3,
     "metadata": {},
     "output_type": "execute_result"
    }
   ],
   "source": [
    "df.head()"
   ]
  },
  {
   "cell_type": "code",
   "execution_count": 4,
   "id": "942131ec-6122-4a62-a6c1-afd6184d7185",
   "metadata": {},
   "outputs": [
    {
     "data": {
      "text/plain": [
       "Pregnancies                 0\n",
       "Glucose                     0\n",
       "BloodPressure               0\n",
       "SkinThickness               0\n",
       "Insulin                     0\n",
       "BMI                         0\n",
       "DiabetesPedigreeFunction    0\n",
       "Age                         0\n",
       "Outcome                     0\n",
       "dtype: int64"
      ]
     },
     "execution_count": 4,
     "metadata": {},
     "output_type": "execute_result"
    }
   ],
   "source": [
    "df.isna().sum()"
   ]
  },
  {
   "cell_type": "code",
   "execution_count": 5,
   "id": "1dd00cbe-dd09-4188-8e6b-721ce4d1337a",
   "metadata": {},
   "outputs": [
    {
     "data": {
      "text/plain": [
       "0"
      ]
     },
     "execution_count": 5,
     "metadata": {},
     "output_type": "execute_result"
    }
   ],
   "source": [
    "df.duplicated().sum()"
   ]
  },
  {
   "cell_type": "code",
   "execution_count": 6,
   "id": "d5fb8b93-9cf6-4959-99bd-01b91b335318",
   "metadata": {},
   "outputs": [
    {
     "name": "stdout",
     "output_type": "stream",
     "text": [
      "<class 'pandas.core.frame.DataFrame'>\n",
      "RangeIndex: 768 entries, 0 to 767\n",
      "Data columns (total 9 columns):\n",
      " #   Column                    Non-Null Count  Dtype  \n",
      "---  ------                    --------------  -----  \n",
      " 0   Pregnancies               768 non-null    int64  \n",
      " 1   Glucose                   768 non-null    int64  \n",
      " 2   BloodPressure             768 non-null    int64  \n",
      " 3   SkinThickness             768 non-null    int64  \n",
      " 4   Insulin                   768 non-null    int64  \n",
      " 5   BMI                       768 non-null    float64\n",
      " 6   DiabetesPedigreeFunction  768 non-null    float64\n",
      " 7   Age                       768 non-null    int64  \n",
      " 8   Outcome                   768 non-null    int64  \n",
      "dtypes: float64(2), int64(7)\n",
      "memory usage: 54.1 KB\n"
     ]
    }
   ],
   "source": [
    "df.info()"
   ]
  },
  {
   "cell_type": "code",
   "execution_count": 7,
   "id": "429f06db-a847-4c03-8c09-eb2427dc0f91",
   "metadata": {},
   "outputs": [
    {
     "data": {
      "text/plain": [
       "<Axes: >"
      ]
     },
     "execution_count": 7,
     "metadata": {},
     "output_type": "execute_result"
    },
    {
     "data": {
      "image/png": "[encoded data removed]",
      "text/plain": [
       "<Figure size 640x480 with 1 Axes>"
      ]
     },
     "metadata": {},
     "output_type": "display_data"
    }
   ],
   "source": [
    "df['Outcome'].hist()"
   ]
  },
  {
   "cell_type": "code",
   "execution_count": 8,
   "id": "ddbfc33c-015f-4168-bf89-744e568fee78",
   "metadata": {},
   "outputs": [
    {
     "data": {
      "text/plain": [
       "Outcome                     1.000000\n",
       "Glucose                     0.466581\n",
       "BMI                         0.292695\n",
       "Age                         0.238356\n",
       "Pregnancies                 0.221898\n",
       "DiabetesPedigreeFunction    0.173844\n",
       "Insulin                     0.130548\n",
       "SkinThickness               0.074752\n",
       "BloodPressure               0.065068\n",
       "Name: Outcome, dtype: float64"
      ]
     },
     "execution_count": 8,
     "metadata": {},
     "output_type": "execute_result"
    }
   ],
   "source": [
    "df.corr()['Outcome'].sort_values(ascending=False)"
   ]
  },
  {
   "cell_type": "code",
   "execution_count": 9,
   "id": "8d663c6a-14fc-428f-bd84-8b4bd3e5d469",
   "metadata": {},
   "outputs": [],
   "source": [
    "df.drop(columns=['SkinThickness', 'BloodPressure'], inplace=True)"
   ]
  },
  {
   "cell_type": "code",
   "execution_count": 10,
   "id": "bb70beb9-2e19-4bbe-b228-7d58fd104cda",
   "metadata": {},
   "outputs": [
    {
     "data": {
      "text/html": [
       "<div>\n",
       "<style scoped>\n",
       "    .dataframe tbody tr th:only-of-type {\n",
       "        vertical-align: middle;\n",
       "    }\n",
       "\n",
       "    .dataframe tbody tr th {\n",
       "        vertical-align: top;\n",
       "    }\n",
       "\n",
       "    .dataframe thead th {\n",
       "        text-align: right;\n",
       "    }\n",
       "</style>\n",
       "<table border=\"1\" class=\"dataframe\">\n",
       "  <thead>\n",
       "    <tr style=\"text-align: right;\">\n",
       "      <th></th>\n",
       "      <th>Pregnancies</th>\n",
       "      <th>Glucose</th>\n",
       "      <th>Insulin</th>\n",
       "      <th>BMI</th>\n",
       "      <th>DiabetesPedigreeFunction</th>\n",
       "      <th>Age</th>\n",
       "      <th>Outcome</th>\n",
       "    </tr>\n",
       "  </thead>\n",
       "  <tbody>\n",
       "    <tr>\n",
       "      <th>count</th>\n",
       "      <td>768.000000</td>\n",
       "      <td>768.000000</td>\n",
       "      <td>768.000000</td>\n",
       "      <td>768.000000</td>\n",
       "      <td>768.000000</td>\n",
       "      <td>768.000000</td>\n",
       "      <td>768.000000</td>\n",
       "    </tr>\n",
       "    <tr>\n",
       "      <th>mean</th>\n",
       "      <td>3.845052</td>\n",
       "      <td>120.894531</td>\n",
       "      <td>79.799479</td>\n",
       "      <td>31.992578</td>\n",
       "      <td>0.471876</td>\n",
       "      <td>33.240885</td>\n",
       "      <td>0.348958</td>\n",
       "    </tr>\n",
       "    <tr>\n",
       "      <th>std</th>\n",
       "      <td>3.369578</td>\n",
       "      <td>31.972618</td>\n",
       "      <td>115.244002</td>\n",
       "      <td>7.884160</td>\n",
       "      <td>0.331329</td>\n",
       "      <td>11.760232</td>\n",
       "      <td>0.476951</td>\n",
       "    </tr>\n",
       "    <tr>\n",
       "      <th>min</th>\n",
       "      <td>0.000000</td>\n",
       "      <td>0.000000</td>\n",
       "      <td>0.000000</td>\n",
       "      <td>0.000000</td>\n",
       "      <td>0.078000</td>\n",
       "      <td>21.000000</td>\n",
       "      <td>0.000000</td>\n",
       "    </tr>\n",
       "    <tr>\n",
       "      <th>25%</th>\n",
       "      <td>1.000000</td>\n",
       "      <td>99.000000</td>\n",
       "      <td>0.000000</td>\n",
       "      <td>27.300000</td>\n",
       "      <td>0.243750</td>\n",
       "      <td>24.000000</td>\n",
       "      <td>0.000000</td>\n",
       "    </tr>\n",
       "    <tr>\n",
       "      <th>50%</th>\n",
       "      <td>3.000000</td>\n",
       "      <td>117.000000</td>\n",
       "      <td>30.500000</td>\n",
       "      <td>32.000000</td>\n",
       "      <td>0.372500</td>\n",
       "      <td>29.000000</td>\n",
       "      <td>0.000000</td>\n",
       "    </tr>\n",
       "    <tr>\n",
       "      <th>75%</th>\n",
       "      <td>6.000000</td>\n",
       "      <td>140.250000</td>\n",
       "      <td>127.250000</td>\n",
       "      <td>36.600000</td>\n",
       "      <td>0.626250</td>\n",
       "      <td>41.000000</td>\n",
       "      <td>1.000000</td>\n",
       "    </tr>\n",
       "    <tr>\n",
       "      <th>max</th>\n",
       "      <td>17.000000</td>\n",
       "      <td>199.000000</td>\n",
       "      <td>846.000000</td>\n",
       "      <td>67.100000</td>\n",
       "      <td>2.420000</td>\n",
       "      <td>81.000000</td>\n",
       "      <td>1.000000</td>\n",
       "    </tr>\n",
       "  </tbody>\n",
       "</table>\n",
       "</div>"
      ],
      "text/plain": [
       "       Pregnancies     Glucose     Insulin         BMI  \\\n",
       "count   768.000000  768.000000  768.000000  768.000000   \n",
       "mean      3.845052  120.894531   79.799479   31.992578   \n",
       "std       3.369578   31.972618  115.244002    7.884160   \n",
       "min       0.000000    0.000000    0.000000    0.000000   \n",
       "25%       1.000000   99.000000    0.000000   27.300000   \n",
       "50%       3.000000  117.000000   30.500000   32.000000   \n",
       "75%       6.000000  140.250000  127.250000   36.600000   \n",
       "max      17.000000  199.000000  846.000000   67.100000   \n",
       "\n",
       "       DiabetesPedigreeFunction         Age     Outcome  \n",
       "count                768.000000  768.000000  768.000000  \n",
       "mean                   0.471876   33.240885    0.348958  \n",
       "std                    0.331329   11.760232    0.476951  \n",
       "min                    0.078000   21.000000    0.000000  \n",
       "25%                    0.243750   24.000000    0.000000  \n",
       "50%                    0.372500   29.000000    0.000000  \n",
       "75%                    0.626250   41.000000    1.000000  \n",
       "max                    2.420000   81.000000    1.000000  "
      ]
     },
     "execution_count": 10,
     "metadata": {},
     "output_type": "execute_result"
    }
   ],
   "source": [
    "df.describe()"
   ]
  },
  {
   "cell_type": "code",
   "execution_count": 11,
   "id": "39be1525-ad67-44a7-a24f-e8929f9b4137",
   "metadata": {},
   "outputs": [],
   "source": [
    "df = df.loc[(df['BMI'] < 50) | (df['Insulin'] < 100)]"
   ]
  },
  {
   "cell_type": "code",
   "execution_count": 12,
   "id": "25be3d86-cdbb-46a4-a7c8-2263e06a6bd4",
   "metadata": {},
   "outputs": [],
   "source": [
    "df=df[df['Insulin'] < 500]"
   ]
  },
  {
   "cell_type": "code",
   "execution_count": 13,
   "id": "28b9bba7-dc6d-41f8-935a-cecf32a05ca0",
   "metadata": {},
   "outputs": [
    {
     "data": {
      "text/html": [
       "<div>\n",
       "<style scoped>\n",
       "    .dataframe tbody tr th:only-of-type {\n",
       "        vertical-align: middle;\n",
       "    }\n",
       "\n",
       "    .dataframe tbody tr th {\n",
       "        vertical-align: top;\n",
       "    }\n",
       "\n",
       "    .dataframe thead th {\n",
       "        text-align: right;\n",
       "    }\n",
       "</style>\n",
       "<table border=\"1\" class=\"dataframe\">\n",
       "  <thead>\n",
       "    <tr style=\"text-align: right;\">\n",
       "      <th></th>\n",
       "      <th>Pregnancies</th>\n",
       "      <th>Glucose</th>\n",
       "      <th>Insulin</th>\n",
       "      <th>BMI</th>\n",
       "      <th>DiabetesPedigreeFunction</th>\n",
       "      <th>Age</th>\n",
       "      <th>Outcome</th>\n",
       "    </tr>\n",
       "  </thead>\n",
       "  <tbody>\n",
       "    <tr>\n",
       "      <th>count</th>\n",
       "      <td>756.000000</td>\n",
       "      <td>756.000000</td>\n",
       "      <td>756.000000</td>\n",
       "      <td>756.000000</td>\n",
       "      <td>756.000000</td>\n",
       "      <td>756.000000</td>\n",
       "      <td>756.000000</td>\n",
       "    </tr>\n",
       "    <tr>\n",
       "      <th>mean</th>\n",
       "      <td>3.871693</td>\n",
       "      <td>120.235450</td>\n",
       "      <td>73.054233</td>\n",
       "      <td>31.813889</td>\n",
       "      <td>0.469128</td>\n",
       "      <td>33.234127</td>\n",
       "      <td>0.343915</td>\n",
       "    </tr>\n",
       "    <tr>\n",
       "      <th>std</th>\n",
       "      <td>3.376301</td>\n",
       "      <td>31.627972</td>\n",
       "      <td>98.918501</td>\n",
       "      <td>7.681789</td>\n",
       "      <td>0.325780</td>\n",
       "      <td>11.746075</td>\n",
       "      <td>0.475328</td>\n",
       "    </tr>\n",
       "    <tr>\n",
       "      <th>min</th>\n",
       "      <td>0.000000</td>\n",
       "      <td>0.000000</td>\n",
       "      <td>0.000000</td>\n",
       "      <td>0.000000</td>\n",
       "      <td>0.078000</td>\n",
       "      <td>21.000000</td>\n",
       "      <td>0.000000</td>\n",
       "    </tr>\n",
       "    <tr>\n",
       "      <th>25%</th>\n",
       "      <td>1.000000</td>\n",
       "      <td>99.000000</td>\n",
       "      <td>0.000000</td>\n",
       "      <td>27.200000</td>\n",
       "      <td>0.243750</td>\n",
       "      <td>24.000000</td>\n",
       "      <td>0.000000</td>\n",
       "    </tr>\n",
       "    <tr>\n",
       "      <th>50%</th>\n",
       "      <td>3.000000</td>\n",
       "      <td>116.000000</td>\n",
       "      <td>18.000000</td>\n",
       "      <td>32.000000</td>\n",
       "      <td>0.370000</td>\n",
       "      <td>29.000000</td>\n",
       "      <td>0.000000</td>\n",
       "    </tr>\n",
       "    <tr>\n",
       "      <th>75%</th>\n",
       "      <td>6.000000</td>\n",
       "      <td>139.000000</td>\n",
       "      <td>122.750000</td>\n",
       "      <td>36.400000</td>\n",
       "      <td>0.617250</td>\n",
       "      <td>41.000000</td>\n",
       "      <td>1.000000</td>\n",
       "    </tr>\n",
       "    <tr>\n",
       "      <th>max</th>\n",
       "      <td>17.000000</td>\n",
       "      <td>199.000000</td>\n",
       "      <td>495.000000</td>\n",
       "      <td>59.400000</td>\n",
       "      <td>2.420000</td>\n",
       "      <td>81.000000</td>\n",
       "      <td>1.000000</td>\n",
       "    </tr>\n",
       "  </tbody>\n",
       "</table>\n",
       "</div>"
      ],
      "text/plain": [
       "       Pregnancies     Glucose     Insulin         BMI  \\\n",
       "count   756.000000  756.000000  756.000000  756.000000   \n",
       "mean      3.871693  120.235450   73.054233   31.813889   \n",
       "std       3.376301   31.627972   98.918501    7.681789   \n",
       "min       0.000000    0.000000    0.000000    0.000000   \n",
       "25%       1.000000   99.000000    0.000000   27.200000   \n",
       "50%       3.000000  116.000000   18.000000   32.000000   \n",
       "75%       6.000000  139.000000  122.750000   36.400000   \n",
       "max      17.000000  199.000000  495.000000   59.400000   \n",
       "\n",
       "       DiabetesPedigreeFunction         Age     Outcome  \n",
       "count                756.000000  756.000000  756.000000  \n",
       "mean                   0.469128   33.234127    0.343915  \n",
       "std                    0.325780   11.746075    0.475328  \n",
       "min                    0.078000   21.000000    0.000000  \n",
       "25%                    0.243750   24.000000    0.000000  \n",
       "50%                    0.370000   29.000000    0.000000  \n",
       "75%                    0.617250   41.000000    1.000000  \n",
       "max                    2.420000   81.000000    1.000000  "
      ]
     },
     "execution_count": 13,
     "metadata": {},
     "output_type": "execute_result"
    }
   ],
   "source": [
    "df.describe()"
   ]
  },
  {
   "cell_type": "code",
   "execution_count": 14,
   "id": "4b73f10b-01c6-486b-8e59-38a05854d024",
   "metadata": {},
   "outputs": [],
   "source": [
    "df=df[df['Pregnancies'] < 14]"
   ]
  },
  {
   "cell_type": "code",
   "execution_count": 15,
   "id": "2c70f4b3-5ce9-410f-b132-101e68b338d4",
   "metadata": {},
   "outputs": [
    {
     "data": {
      "text/html": [
       "<div>\n",
       "<style scoped>\n",
       "    .dataframe tbody tr th:only-of-type {\n",
       "        vertical-align: middle;\n",
       "    }\n",
       "\n",
       "    .dataframe tbody tr th {\n",
       "        vertical-align: top;\n",
       "    }\n",
       "\n",
       "    .dataframe thead th {\n",
       "        text-align: right;\n",
       "    }\n",
       "</style>\n",
       "<table border=\"1\" class=\"dataframe\">\n",
       "  <thead>\n",
       "    <tr style=\"text-align: right;\">\n",
       "      <th></th>\n",
       "      <th>Pregnancies</th>\n",
       "      <th>Glucose</th>\n",
       "      <th>Insulin</th>\n",
       "      <th>BMI</th>\n",
       "      <th>DiabetesPedigreeFunction</th>\n",
       "      <th>Age</th>\n",
       "      <th>Outcome</th>\n",
       "    </tr>\n",
       "  </thead>\n",
       "  <tbody>\n",
       "    <tr>\n",
       "      <th>count</th>\n",
       "      <td>752.000000</td>\n",
       "      <td>752.000000</td>\n",
       "      <td>752.000000</td>\n",
       "      <td>752.000000</td>\n",
       "      <td>752.000000</td>\n",
       "      <td>752.000000</td>\n",
       "      <td>752.000000</td>\n",
       "    </tr>\n",
       "    <tr>\n",
       "      <th>mean</th>\n",
       "      <td>3.812500</td>\n",
       "      <td>120.111702</td>\n",
       "      <td>72.900266</td>\n",
       "      <td>31.786037</td>\n",
       "      <td>0.469504</td>\n",
       "      <td>33.179521</td>\n",
       "      <td>0.340426</td>\n",
       "    </tr>\n",
       "    <tr>\n",
       "      <th>std</th>\n",
       "      <td>3.284666</td>\n",
       "      <td>31.596461</td>\n",
       "      <td>99.042497</td>\n",
       "      <td>7.690353</td>\n",
       "      <td>0.326054</td>\n",
       "      <td>11.750557</td>\n",
       "      <td>0.474168</td>\n",
       "    </tr>\n",
       "    <tr>\n",
       "      <th>min</th>\n",
       "      <td>0.000000</td>\n",
       "      <td>0.000000</td>\n",
       "      <td>0.000000</td>\n",
       "      <td>0.000000</td>\n",
       "      <td>0.078000</td>\n",
       "      <td>21.000000</td>\n",
       "      <td>0.000000</td>\n",
       "    </tr>\n",
       "    <tr>\n",
       "      <th>25%</th>\n",
       "      <td>1.000000</td>\n",
       "      <td>99.000000</td>\n",
       "      <td>0.000000</td>\n",
       "      <td>27.175000</td>\n",
       "      <td>0.244000</td>\n",
       "      <td>24.000000</td>\n",
       "      <td>0.000000</td>\n",
       "    </tr>\n",
       "    <tr>\n",
       "      <th>50%</th>\n",
       "      <td>3.000000</td>\n",
       "      <td>116.000000</td>\n",
       "      <td>17.000000</td>\n",
       "      <td>32.000000</td>\n",
       "      <td>0.370000</td>\n",
       "      <td>29.000000</td>\n",
       "      <td>0.000000</td>\n",
       "    </tr>\n",
       "    <tr>\n",
       "      <th>75%</th>\n",
       "      <td>6.000000</td>\n",
       "      <td>139.000000</td>\n",
       "      <td>122.750000</td>\n",
       "      <td>36.300000</td>\n",
       "      <td>0.617250</td>\n",
       "      <td>40.250000</td>\n",
       "      <td>1.000000</td>\n",
       "    </tr>\n",
       "    <tr>\n",
       "      <th>max</th>\n",
       "      <td>13.000000</td>\n",
       "      <td>199.000000</td>\n",
       "      <td>495.000000</td>\n",
       "      <td>59.400000</td>\n",
       "      <td>2.420000</td>\n",
       "      <td>81.000000</td>\n",
       "      <td>1.000000</td>\n",
       "    </tr>\n",
       "  </tbody>\n",
       "</table>\n",
       "</div>"
      ],
      "text/plain": [
       "       Pregnancies     Glucose     Insulin         BMI  \\\n",
       "count   752.000000  752.000000  752.000000  752.000000   \n",
       "mean      3.812500  120.111702   72.900266   31.786037   \n",
       "std       3.284666   31.596461   99.042497    7.690353   \n",
       "min       0.000000    0.000000    0.000000    0.000000   \n",
       "25%       1.000000   99.000000    0.000000   27.175000   \n",
       "50%       3.000000  116.000000   17.000000   32.000000   \n",
       "75%       6.000000  139.000000  122.750000   36.300000   \n",
       "max      13.000000  199.000000  495.000000   59.400000   \n",
       "\n",
       "       DiabetesPedigreeFunction         Age     Outcome  \n",
       "count                752.000000  752.000000  752.000000  \n",
       "mean                   0.469504   33.179521    0.340426  \n",
       "std                    0.326054   11.750557    0.474168  \n",
       "min                    0.078000   21.000000    0.000000  \n",
       "25%                    0.244000   24.000000    0.000000  \n",
       "50%                    0.370000   29.000000    0.000000  \n",
       "75%                    0.617250   40.250000    1.000000  \n",
       "max                    2.420000   81.000000    1.000000  "
      ]
     },
     "execution_count": 15,
     "metadata": {},
     "output_type": "execute_result"
    }
   ],
   "source": [
    "df.describe()"
   ]
  },
  {
   "cell_type": "code",
   "execution_count": 16,
   "id": "2d3f2a1d-8866-4590-8fb6-a6dfe1eaa9ea",
   "metadata": {},
   "outputs": [],
   "source": [
    "df=df[df['DiabetesPedigreeFunction'] < 1.7]"
   ]
  },
  {
   "cell_type": "code",
   "execution_count": 17,
   "id": "a95e6b39-dcc5-4601-b9b2-04a7117df296",
   "metadata": {},
   "outputs": [],
   "source": [
    "from sklearn.preprocessing import StandardScaler\n",
    "from sklearn.model_selection import StratifiedShuffleSplit\n",
    "\n",
    "scaler = StandardScaler()\n",
    "\n",
    "X = scaler.fit_transform(df.drop('Outcome', axis=1))\n",
    "y = df['Outcome']\n",
    "\n",
    "split = StratifiedShuffleSplit(n_splits=1, test_size=0.3, random_state=101)\n",
    "for train_index, test_index in split.split(X, y):\n",
    "    strat_train_set = X[train_index], y.iloc[train_index]\n",
    "    strat_test_set = X[test_index], y.iloc[test_index]\n",
    "\n",
    "X_train, y_train = strat_train_set\n",
    "X_test, y_test = strat_test_set"
   ]
  },
  {
   "cell_type": "code",
   "execution_count": 18,
   "id": "697e52c9-bf3e-4959-8462-a8764cdd4eae",
   "metadata": {},
   "outputs": [
    {
     "name": "stdout",
     "output_type": "stream",
     "text": [
      "Using TensorFlow backend\n"
     ]
    }
   ],
   "source": [
    "import tensorflow\n",
    "from tensorflow import keras\n",
    "from keras import Sequential\n",
    "from keras.layers import Input, Dense, BatchNormalization, Dropout\n",
    "from keras.callbacks import EarlyStopping\n",
    "\n",
    "import keras_tuner as kt"
   ]
  },
  {
   "cell_type": "code",
   "execution_count": 19,
   "id": "7a3c9dec-040b-461d-bcbb-899b6f3dab9b",
   "metadata": {},
   "outputs": [],
   "source": [
    "def build_model(hp):\n",
    "    model = Sequential()\n",
    "    model.add(Input(6,))\n",
    "\n",
    "    for i in range(hp.Int('num_layers', min_value=1, max_value=8)):\n",
    "        model.add(\n",
    "            Dense(\n",
    "                hp.Int('units'+str(i), min_value=8, max_value=128, step=8),\n",
    "                activation=hp.Choice('activation'+str(i), values=['relu', 'tanh', 'sigmoid'])\n",
    "            )\n",
    "        )\n",
    "        model.add(BatchNormalization())\n",
    "        model.add(Dropout(hp.Choice('droupout'+str(i), values=[0.1, 0.2, 0.3, 0.4, 0.5, 0.6, 0.7, 0.8, 0.9])))\n",
    "\n",
    "    model.add(Dense(1, activation='sigmoid'))\n",
    "\n",
    "    model.compile(\n",
    "        optimizer=hp.Choice('optimizer', values=['rmsprop', 'adam', 'sgd', 'nadam', 'adadelta']),\n",
    "        loss='binary_crossentropy',\n",
    "        metrics=['accuracy']\n",
    "    )\n",
    "\n",
    "    return model\n"
   ]
  },
  {
   "cell_type": "code",
   "execution_count": 20,
   "id": "df3f581d-c28e-497f-a276-48c751393ab2",
   "metadata": {},
   "outputs": [
    {
     "name": "stdout",
     "output_type": "stream",
     "text": [
      "Reloading Tuner from tuners/diabetes/tuner0.json\n"
     ]
    }
   ],
   "source": [
    "tuner = kt.RandomSearch(\n",
    "    build_model,\n",
    "    objective='val_accuracy',\n",
    "    max_trials=5,\n",
    "    directory='tuners',\n",
    "    project_name='diabetes'\n",
    ")"
   ]
  },
  {
   "cell_type": "code",
   "execution_count": 21,
   "id": "84539ca2-567d-4a5f-a740-b0a5b20ab92d",
   "metadata": {},
   "outputs": [],
   "source": [
    "tuner.search(X_train, y_train, epochs=5, validation_data=(X_test, y_test))"
   ]
  },
  {
   "cell_type": "code",
   "execution_count": 22,
   "id": "ae251ad3-2da8-4376-923f-be8c673c9729",
   "metadata": {},
   "outputs": [
    {
     "data": {
      "text/plain": [
       "{'num_layers': 1,\n",
       " 'units0': 16,\n",
       " 'activation0': 'tanh',\n",
       " 'droupout0': 0.7,\n",
       " 'optimizer': 'sgd'}"
      ]
     },
     "execution_count": 22,
     "metadata": {},
     "output_type": "execute_result"
    }
   ],
   "source": [
    "tuner.get_best_hyperparameters()[0].values"
   ]
  },
  {
   "cell_type": "code",
   "execution_count": 23,
   "id": "d8d40a34-5123-448d-b9cf-ba673e8920f9",
   "metadata": {},
   "outputs": [],
   "source": [
    "model = tuner.get_best_models(num_models=1)[0]"
   ]
  },
  {
   "cell_type": "code",
   "execution_count": 24,
   "id": "e6f0c2f2-0406-42b0-815f-db9743ba411f",
   "metadata": {},
   "outputs": [],
   "source": [
    "callback = EarlyStopping(\n",
    "    monitor=\"val_accuracy\",\n",
    "    min_delta=0.00001,\n",
    "    patience=50,\n",
    "    verbose=1,\n",
    "    mode=\"auto\",\n",
    "    baseline=None,\n",
    "    restore_best_weights=True\n",
    ")"
   ]
  },
  {
   "cell_type": "code",
   "execution_count": 25,
   "id": "0c665996-1abc-4873-bdbe-4f5f7e9793cd",
   "metadata": {},
   "outputs": [
    {
     "name": "stdout",
     "output_type": "stream",
     "text": [
      "Epoch 6/200\n",
      "17/17 [==============================] - 0s 4ms/step - loss: 0.7687 - accuracy: 0.5977 - val_loss: 0.5825 - val_accuracy: 0.7188\n",
      "Epoch 7/200\n",
      "17/17 [==============================] - 0s 1ms/step - loss: 0.7715 - accuracy: 0.5996 - val_loss: 0.5657 - val_accuracy: 0.7277\n",
      "Epoch 8/200\n",
      "17/17 [==============================] - 0s 1ms/step - loss: 0.6458 - accuracy: 0.6801 - val_loss: 0.5535 - val_accuracy: 0.7411\n",
      "Epoch 9/200\n",
      "17/17 [==============================] - 0s 1ms/step - loss: 0.6847 - accuracy: 0.6628 - val_loss: 0.5459 - val_accuracy: 0.7411\n",
      "Epoch 10/200\n",
      "17/17 [==============================] - 0s 1ms/step - loss: 0.6219 - accuracy: 0.6877 - val_loss: 0.5382 - val_accuracy: 0.7589\n",
      "Epoch 11/200\n",
      "17/17 [==============================] - 0s 1ms/step - loss: 0.6520 - accuracy: 0.6533 - val_loss: 0.5323 - val_accuracy: 0.7500\n",
      "Epoch 12/200\n",
      "17/17 [==============================] - 0s 1ms/step - loss: 0.6082 - accuracy: 0.6858 - val_loss: 0.5279 - val_accuracy: 0.7589\n",
      "Epoch 13/200\n",
      "17/17 [==============================] - 0s 977us/step - loss: 0.6140 - accuracy: 0.6973 - val_loss: 0.5228 - val_accuracy: 0.7589\n",
      "Epoch 14/200\n",
      "17/17 [==============================] - 0s 1ms/step - loss: 0.6062 - accuracy: 0.6858 - val_loss: 0.5202 - val_accuracy: 0.7634\n",
      "Epoch 15/200\n",
      "17/17 [==============================] - 0s 993us/step - loss: 0.5952 - accuracy: 0.6897 - val_loss: 0.5169 - val_accuracy: 0.7500\n",
      "Epoch 16/200\n",
      "17/17 [==============================] - 0s 1ms/step - loss: 0.5645 - accuracy: 0.7241 - val_loss: 0.5155 - val_accuracy: 0.7455\n",
      "Epoch 17/200\n",
      "17/17 [==============================] - 0s 981us/step - loss: 0.5966 - accuracy: 0.6935 - val_loss: 0.5132 - val_accuracy: 0.7455\n",
      "Epoch 18/200\n",
      "17/17 [==============================] - 0s 1ms/step - loss: 0.5950 - accuracy: 0.6973 - val_loss: 0.5111 - val_accuracy: 0.7500\n",
      "Epoch 19/200\n",
      "17/17 [==============================] - 0s 953us/step - loss: 0.5676 - accuracy: 0.7011 - val_loss: 0.5083 - val_accuracy: 0.7500\n",
      "Epoch 20/200\n",
      "17/17 [==============================] - 0s 966us/step - loss: 0.5659 - accuracy: 0.7222 - val_loss: 0.5068 - val_accuracy: 0.7500\n",
      "Epoch 21/200\n",
      "17/17 [==============================] - 0s 947us/step - loss: 0.5697 - accuracy: 0.7050 - val_loss: 0.5060 - val_accuracy: 0.7366\n",
      "Epoch 22/200\n",
      "17/17 [==============================] - 0s 983us/step - loss: 0.5423 - accuracy: 0.7471 - val_loss: 0.5067 - val_accuracy: 0.7321\n",
      "Epoch 23/200\n",
      "17/17 [==============================] - 0s 975us/step - loss: 0.5851 - accuracy: 0.7241 - val_loss: 0.5072 - val_accuracy: 0.7321\n",
      "Epoch 24/200\n",
      "17/17 [==============================] - 0s 955us/step - loss: 0.5591 - accuracy: 0.7318 - val_loss: 0.5066 - val_accuracy: 0.7321\n",
      "Epoch 25/200\n",
      "17/17 [==============================] - 0s 945us/step - loss: 0.5462 - accuracy: 0.7299 - val_loss: 0.5065 - val_accuracy: 0.7366\n",
      "Epoch 26/200\n",
      "17/17 [==============================] - 0s 1ms/step - loss: 0.5379 - accuracy: 0.7452 - val_loss: 0.5051 - val_accuracy: 0.7366\n",
      "Epoch 27/200\n",
      "17/17 [==============================] - 0s 1ms/step - loss: 0.5423 - accuracy: 0.7414 - val_loss: 0.5045 - val_accuracy: 0.7366\n",
      "Epoch 28/200\n",
      "17/17 [==============================] - 0s 1ms/step - loss: 0.5476 - accuracy: 0.7203 - val_loss: 0.5051 - val_accuracy: 0.7366\n",
      "Epoch 29/200\n",
      "17/17 [==============================] - 0s 1ms/step - loss: 0.5461 - accuracy: 0.7529 - val_loss: 0.5036 - val_accuracy: 0.7411\n",
      "Epoch 30/200\n",
      "17/17 [==============================] - 0s 1ms/step - loss: 0.5108 - accuracy: 0.7586 - val_loss: 0.5025 - val_accuracy: 0.7411\n",
      "Epoch 31/200\n",
      "17/17 [==============================] - 0s 1ms/step - loss: 0.5271 - accuracy: 0.7529 - val_loss: 0.5020 - val_accuracy: 0.7411\n",
      "Epoch 32/200\n",
      "17/17 [==============================] - 0s 988us/step - loss: 0.5248 - accuracy: 0.7356 - val_loss: 0.5009 - val_accuracy: 0.7411\n",
      "Epoch 33/200\n",
      "17/17 [==============================] - 0s 980us/step - loss: 0.5263 - accuracy: 0.7548 - val_loss: 0.5008 - val_accuracy: 0.7366\n",
      "Epoch 34/200\n",
      "17/17 [==============================] - 0s 958us/step - loss: 0.5503 - accuracy: 0.7452 - val_loss: 0.5004 - val_accuracy: 0.7411\n",
      "Epoch 35/200\n",
      "17/17 [==============================] - 0s 965us/step - loss: 0.5172 - accuracy: 0.7471 - val_loss: 0.4995 - val_accuracy: 0.7455\n",
      "Epoch 36/200\n",
      "17/17 [==============================] - 0s 949us/step - loss: 0.5118 - accuracy: 0.7586 - val_loss: 0.4981 - val_accuracy: 0.7455\n",
      "Epoch 37/200\n",
      "17/17 [==============================] - 0s 968us/step - loss: 0.5429 - accuracy: 0.7261 - val_loss: 0.4998 - val_accuracy: 0.7411\n",
      "Epoch 38/200\n",
      "17/17 [==============================] - 0s 949us/step - loss: 0.5421 - accuracy: 0.7337 - val_loss: 0.4993 - val_accuracy: 0.7411\n",
      "Epoch 39/200\n",
      "17/17 [==============================] - 0s 992us/step - loss: 0.5178 - accuracy: 0.7682 - val_loss: 0.4973 - val_accuracy: 0.7545\n",
      "Epoch 40/200\n",
      "17/17 [==============================] - 0s 965us/step - loss: 0.5224 - accuracy: 0.7510 - val_loss: 0.4970 - val_accuracy: 0.7500\n",
      "Epoch 41/200\n",
      "17/17 [==============================] - 0s 1ms/step - loss: 0.5207 - accuracy: 0.7375 - val_loss: 0.4971 - val_accuracy: 0.7500\n",
      "Epoch 42/200\n",
      "17/17 [==============================] - 0s 981us/step - loss: 0.5362 - accuracy: 0.7280 - val_loss: 0.4977 - val_accuracy: 0.7411\n",
      "Epoch 43/200\n",
      "17/17 [==============================] - 0s 1ms/step - loss: 0.5265 - accuracy: 0.7701 - val_loss: 0.4978 - val_accuracy: 0.7411\n",
      "Epoch 44/200\n",
      "17/17 [==============================] - 0s 1ms/step - loss: 0.5238 - accuracy: 0.7452 - val_loss: 0.4981 - val_accuracy: 0.7366\n",
      "Epoch 45/200\n",
      "17/17 [==============================] - 0s 965us/step - loss: 0.5545 - accuracy: 0.7395 - val_loss: 0.5000 - val_accuracy: 0.7321\n",
      "Epoch 46/200\n",
      "17/17 [==============================] - 0s 1ms/step - loss: 0.5434 - accuracy: 0.7510 - val_loss: 0.5006 - val_accuracy: 0.7277\n",
      "Epoch 47/200\n",
      "17/17 [==============================] - 0s 1ms/step - loss: 0.5240 - accuracy: 0.7471 - val_loss: 0.5004 - val_accuracy: 0.7277\n",
      "Epoch 48/200\n",
      "17/17 [==============================] - 0s 1ms/step - loss: 0.5191 - accuracy: 0.7375 - val_loss: 0.4988 - val_accuracy: 0.7321\n",
      "Epoch 49/200\n",
      "17/17 [==============================] - 0s 1ms/step - loss: 0.4998 - accuracy: 0.7586 - val_loss: 0.4975 - val_accuracy: 0.7277\n",
      "Epoch 50/200\n",
      "17/17 [==============================] - 0s 1ms/step - loss: 0.5226 - accuracy: 0.7395 - val_loss: 0.4967 - val_accuracy: 0.7366\n",
      "Epoch 51/200\n",
      "17/17 [==============================] - 0s 1ms/step - loss: 0.5166 - accuracy: 0.7433 - val_loss: 0.4975 - val_accuracy: 0.7321\n",
      "Epoch 52/200\n",
      "17/17 [==============================] - 0s 1ms/step - loss: 0.4936 - accuracy: 0.7605 - val_loss: 0.4968 - val_accuracy: 0.7321\n",
      "Epoch 53/200\n",
      "17/17 [==============================] - 0s 987us/step - loss: 0.5369 - accuracy: 0.7490 - val_loss: 0.4955 - val_accuracy: 0.7366\n",
      "Epoch 54/200\n",
      "17/17 [==============================] - 0s 982us/step - loss: 0.5224 - accuracy: 0.7471 - val_loss: 0.4955 - val_accuracy: 0.7411\n",
      "Epoch 55/200\n",
      "17/17 [==============================] - 0s 987us/step - loss: 0.4991 - accuracy: 0.7701 - val_loss: 0.4945 - val_accuracy: 0.7411\n",
      "Epoch 56/200\n",
      "17/17 [==============================] - 0s 957us/step - loss: 0.5232 - accuracy: 0.7471 - val_loss: 0.4945 - val_accuracy: 0.7455\n",
      "Epoch 57/200\n",
      "17/17 [==============================] - 0s 956us/step - loss: 0.5009 - accuracy: 0.7663 - val_loss: 0.4941 - val_accuracy: 0.7455\n",
      "Epoch 58/200\n",
      "17/17 [==============================] - 0s 945us/step - loss: 0.4911 - accuracy: 0.7586 - val_loss: 0.4940 - val_accuracy: 0.7411\n",
      "Epoch 59/200\n",
      "17/17 [==============================] - 0s 947us/step - loss: 0.5066 - accuracy: 0.7739 - val_loss: 0.4938 - val_accuracy: 0.7366\n",
      "Epoch 60/200\n",
      "17/17 [==============================] - 0s 998us/step - loss: 0.5202 - accuracy: 0.7529 - val_loss: 0.4942 - val_accuracy: 0.7321\n",
      "Epoch 61/200\n",
      "17/17 [==============================] - 0s 932us/step - loss: 0.5279 - accuracy: 0.7586 - val_loss: 0.4945 - val_accuracy: 0.7366\n",
      "Epoch 62/200\n",
      "17/17 [==============================] - 0s 928us/step - loss: 0.5054 - accuracy: 0.7720 - val_loss: 0.4939 - val_accuracy: 0.7455\n",
      "Epoch 63/200\n",
      "17/17 [==============================] - 0s 1ms/step - loss: 0.5274 - accuracy: 0.7529 - val_loss: 0.4931 - val_accuracy: 0.7411\n",
      "Epoch 64/200\n",
      " 1/17 [>.............................] - ETA: 0s - loss: 0.4072 - accuracy: 0.8125Restoring model weights from the end of the best epoch: 14.\n",
      "17/17 [==============================] - 0s 1ms/step - loss: 0.5269 - accuracy: 0.7414 - val_loss: 0.4944 - val_accuracy: 0.7411\n",
      "Epoch 64: early stopping\n"
     ]
    }
   ],
   "source": [
    "history = model.fit(X_train, y_train, epochs=200, initial_epoch=5 ,validation_data=(X_test, y_test), callbacks=callback)"
   ]
  },
  {
   "cell_type": "code",
   "execution_count": 26,
   "id": "396ef906-481a-4dd3-a78f-244228b3ce02",
   "metadata": {},
   "outputs": [
    {
     "data": {
      "text/plain": [
       "<matplotlib.legend.Legend at 0x2a97337d0>"
      ]
     },
     "execution_count": 26,
     "metadata": {},
     "output_type": "execute_result"
    },
    {
     "data": {
      "image/png": "[encoded data removed]",
      "text/plain": [
       "<Figure size 640x480 with 1 Axes>"
      ]
     },
     "metadata": {},
     "output_type": "display_data"
    }
   ],
   "source": [
    "import matplotlib.pyplot as plt\n",
    "import seaborn as sns\n",
    "\n",
    "plt.plot(history.history['accuracy'], label='train')\n",
    "plt.plot(history.history['val_accuracy'], label='test')\n",
    "plt.legend()"
   ]
  },
  {
   "cell_type": "code",
   "execution_count": 27,
   "id": "76a1f482-613a-4b8d-82b7-0aacaf0d3fbd",
   "metadata": {},
   "outputs": [
    {
     "data": {
      "text/plain": [
       "<matplotlib.legend.Legend at 0x2a97a7cd0>"
      ]
     },
     "execution_count": 27,
     "metadata": {},
     "output_type": "execute_result"
    },
    {
     "data": {
      "image/png": "[encoded data removed]",
      "text/plain": [
       "<Figure size 640x480 with 1 Axes>"
      ]
     },
     "metadata": {},
     "output_type": "display_data"
    }
   ],
   "source": [
    "plt.plot(history.history['loss'], label='train')\n",
    "plt.plot(history.history['val_loss'], label='test')\n",
    "plt.legend()"
   ]
  },
  {
   "cell_type": "code",
   "execution_count": 28,
   "id": "5dbcb3cf-e186-4a3e-a921-5c5ef373be60",
   "metadata": {},
   "outputs": [
    {
     "name": "stdout",
     "output_type": "stream",
     "text": [
      "7/7 [==============================] - 0s 507us/step\n"
     ]
    }
   ],
   "source": [
    "predictions = model.predict(X_test)"
   ]
  },
  {
   "cell_type": "code",
   "execution_count": 29,
   "id": "af90d8cf-009b-4c05-ad85-0ed5c214dd1a",
   "metadata": {},
   "outputs": [],
   "source": [
    "# cut-off will be 0.45 because it is more important for people how have diabetes to be diagnosed\n",
    "predictions = np.where(predictions > 0.45, 1,0)"
   ]
  },
  {
   "cell_type": "code",
   "execution_count": 30,
   "id": "5d35144d-f034-4fbb-9675-6731770a4943",
   "metadata": {},
   "outputs": [
    {
     "name": "stdout",
     "output_type": "stream",
     "text": [
      "Classification Report:\n",
      "               precision    recall  f1-score   support\n",
      "\n",
      "           0       0.81      0.77      0.79       148\n",
      "           1       0.60      0.66      0.62        76\n",
      "\n",
      "    accuracy                           0.73       224\n",
      "   macro avg       0.70      0.71      0.71       224\n",
      "weighted avg       0.74      0.73      0.74       224\n",
      "\n"
     ]
    },
    {
     "data": {
      "text/plain": [
       "Text(0.5, 1.0, 'Confusion Matrix')"
      ]
     },
     "execution_count": 30,
     "metadata": {},
     "output_type": "execute_result"
    },
    {
     "data": {
      "image/png": "[encoded data removed]",
      "text/plain": [
       "<Figure size 640x480 with 1 Axes>"
      ]
     },
     "metadata": {},
     "output_type": "display_data"
    }
   ],
   "source": [
    "from sklearn.metrics import classification_report, confusion_matrix\n",
    "\n",
    "print(\"Classification Report:\\n\", classification_report(y_test, predictions))\n",
    "\n",
    "conf_matrix = confusion_matrix(y_test, predictions)\n",
    "sns.heatmap(conf_matrix, annot=True, fmt='d', cmap='Blues', cbar=False)\n",
    "plt.xlabel('Predicted Labels')\n",
    "plt.ylabel('True Labels')\n",
    "plt.title('Confusion Matrix')"
   ]
  },
  {
   "cell_type": "code",
   "execution_count": 31,
   "id": "c25ac24e-a2ce-47ae-a404-b47f8e49254c",
   "metadata": {},
   "outputs": [
    {
     "data": {
      "text/plain": [
       "['scaler.joblib']"
      ]
     },
     "execution_count": 31,
     "metadata": {},
     "output_type": "execute_result"
    }
   ],
   "source": [
    "from joblib import dump, load\n",
    "dump(model, 'model.joblib') \n",
    "dump(scaler, 'scaler.joblib') "
   ]
  }
 ],
 "metadata": {
  "kernelspec": {
   "display_name": "Python 3 (ipykernel)",
   "language": "python",
   "name": "python3"
  },
  "language_info": {
   "codemirror_mode": {
    "name": "ipython",
    "version": 3
   },
   "file_extension": ".py",
   "mimetype": "text/x-python",
   "name": "python",
   "nbconvert_exporter": "python",
   "pygments_lexer": "ipython3",
   "version": "3.11.5"
  }
 },
 "nbformat": 4,
 "nbformat_minor": 5
}
