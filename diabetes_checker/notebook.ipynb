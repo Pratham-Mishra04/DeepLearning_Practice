{
 "cells": [
  {
   "cell_type": "code",
   "execution_count": 1,
   "id": "fa282724-74f3-485a-8424-be600b97d5b0",
   "metadata": {},
   "outputs": [],
   "source": [
    "import pandas as pd\n",
    "import numpy as np"
   ]
  },
  {
   "cell_type": "code",
   "execution_count": 2,
   "id": "b398b020-ba25-4c8a-ad35-c20c34aeaf32",
   "metadata": {},
   "outputs": [],
   "source": [
    "df = pd.read_csv(\"dataset.csv\")"
   ]
  },
  {
   "cell_type": "code",
   "execution_count": 3,
   "id": "c64ff21a-ce61-4989-a12c-9912f6257ffd",
   "metadata": {},
   "outputs": [
    {
     "data": {
      "text/html": [
       "<div>\n",
       "<style scoped>\n",
       "    .dataframe tbody tr th:only-of-type {\n",
       "        vertical-align: middle;\n",
       "    }\n",
       "\n",
       "    .dataframe tbody tr th {\n",
       "        vertical-align: top;\n",
       "    }\n",
       "\n",
       "    .dataframe thead th {\n",
       "        text-align: right;\n",
       "    }\n",
       "</style>\n",
       "<table border=\"1\" class=\"dataframe\">\n",
       "  <thead>\n",
       "    <tr style=\"text-align: right;\">\n",
       "      <th></th>\n",
       "      <th>Pregnancies</th>\n",
       "      <th>Glucose</th>\n",
       "      <th>BloodPressure</th>\n",
       "      <th>SkinThickness</th>\n",
       "      <th>Insulin</th>\n",
       "      <th>BMI</th>\n",
       "      <th>DiabetesPedigreeFunction</th>\n",
       "      <th>Age</th>\n",
       "      <th>Outcome</th>\n",
       "    </tr>\n",
       "  </thead>\n",
       "  <tbody>\n",
       "    <tr>\n",
       "      <th>0</th>\n",
       "      <td>6</td>\n",
       "      <td>148</td>\n",
       "      <td>72</td>\n",
       "      <td>35</td>\n",
       "      <td>0</td>\n",
       "      <td>33.6</td>\n",
       "      <td>0.627</td>\n",
       "      <td>50</td>\n",
       "      <td>1</td>\n",
       "    </tr>\n",
       "    <tr>\n",
       "      <th>1</th>\n",
       "      <td>1</td>\n",
       "      <td>85</td>\n",
       "      <td>66</td>\n",
       "      <td>29</td>\n",
       "      <td>0</td>\n",
       "      <td>26.6</td>\n",
       "      <td>0.351</td>\n",
       "      <td>31</td>\n",
       "      <td>0</td>\n",
       "    </tr>\n",
       "    <tr>\n",
       "      <th>2</th>\n",
       "      <td>8</td>\n",
       "      <td>183</td>\n",
       "      <td>64</td>\n",
       "      <td>0</td>\n",
       "      <td>0</td>\n",
       "      <td>23.3</td>\n",
       "      <td>0.672</td>\n",
       "      <td>32</td>\n",
       "      <td>1</td>\n",
       "    </tr>\n",
       "    <tr>\n",
       "      <th>3</th>\n",
       "      <td>1</td>\n",
       "      <td>89</td>\n",
       "      <td>66</td>\n",
       "      <td>23</td>\n",
       "      <td>94</td>\n",
       "      <td>28.1</td>\n",
       "      <td>0.167</td>\n",
       "      <td>21</td>\n",
       "      <td>0</td>\n",
       "    </tr>\n",
       "    <tr>\n",
       "      <th>4</th>\n",
       "      <td>0</td>\n",
       "      <td>137</td>\n",
       "      <td>40</td>\n",
       "      <td>35</td>\n",
       "      <td>168</td>\n",
       "      <td>43.1</td>\n",
       "      <td>2.288</td>\n",
       "      <td>33</td>\n",
       "      <td>1</td>\n",
       "    </tr>\n",
       "  </tbody>\n",
       "</table>\n",
       "</div>"
      ],
      "text/plain": [
       "   Pregnancies  Glucose  BloodPressure  SkinThickness  Insulin   BMI  \\\n",
       "0            6      148             72             35        0  33.6   \n",
       "1            1       85             66             29        0  26.6   \n",
       "2            8      183             64              0        0  23.3   \n",
       "3            1       89             66             23       94  28.1   \n",
       "4            0      137             40             35      168  43.1   \n",
       "\n",
       "   DiabetesPedigreeFunction  Age  Outcome  \n",
       "0                     0.627   50        1  \n",
       "1                     0.351   31        0  \n",
       "2                     0.672   32        1  \n",
       "3                     0.167   21        0  \n",
       "4                     2.288   33        1  "
      ]
     },
     "execution_count": 3,
     "metadata": {},
     "output_type": "execute_result"
    }
   ],
   "source": [
    "df.head()"
   ]
  },
  {
   "cell_type": "code",
   "execution_count": 4,
   "id": "942131ec-6122-4a62-a6c1-afd6184d7185",
   "metadata": {},
   "outputs": [
    {
     "data": {
      "text/plain": [
       "Pregnancies                 0\n",
       "Glucose                     0\n",
       "BloodPressure               0\n",
       "SkinThickness               0\n",
       "Insulin                     0\n",
       "BMI                         0\n",
       "DiabetesPedigreeFunction    0\n",
       "Age                         0\n",
       "Outcome                     0\n",
       "dtype: int64"
      ]
     },
     "execution_count": 4,
     "metadata": {},
     "output_type": "execute_result"
    }
   ],
   "source": [
    "df.isna().sum()"
   ]
  },
  {
   "cell_type": "code",
   "execution_count": 5,
   "id": "1dd00cbe-dd09-4188-8e6b-721ce4d1337a",
   "metadata": {},
   "outputs": [
    {
     "data": {
      "text/plain": [
       "0"
      ]
     },
     "execution_count": 5,
     "metadata": {},
     "output_type": "execute_result"
    }
   ],
   "source": [
    "df.duplicated().sum()"
   ]
  },
  {
   "cell_type": "code",
   "execution_count": 6,
   "id": "d5fb8b93-9cf6-4959-99bd-01b91b335318",
   "metadata": {},
   "outputs": [
    {
     "name": "stdout",
     "output_type": "stream",
     "text": [
      "<class 'pandas.core.frame.DataFrame'>\n",
      "RangeIndex: 768 entries, 0 to 767\n",
      "Data columns (total 9 columns):\n",
      " #   Column                    Non-Null Count  Dtype  \n",
      "---  ------                    --------------  -----  \n",
      " 0   Pregnancies               768 non-null    int64  \n",
      " 1   Glucose                   768 non-null    int64  \n",
      " 2   BloodPressure             768 non-null    int64  \n",
      " 3   SkinThickness             768 non-null    int64  \n",
      " 4   Insulin                   768 non-null    int64  \n",
      " 5   BMI                       768 non-null    float64\n",
      " 6   DiabetesPedigreeFunction  768 non-null    float64\n",
      " 7   Age                       768 non-null    int64  \n",
      " 8   Outcome                   768 non-null    int64  \n",
      "dtypes: float64(2), int64(7)\n",
      "memory usage: 54.1 KB\n"
     ]
    }
   ],
   "source": [
    "df.info()"
   ]
  },
  {
   "cell_type": "code",
   "execution_count": 7,
   "id": "429f06db-a847-4c03-8c09-eb2427dc0f91",
   "metadata": {},
   "outputs": [
    {
     "data": {
      "text/plain": [
       "<Axes: >"
      ]
     },
     "execution_count": 7,
     "metadata": {},
     "output_type": "execute_result"
    },
    {
     "data": {
      "image/png": "[encoded data removed]",
      "text/plain": [
       "<Figure size 640x480 with 1 Axes>"
      ]
     },
     "metadata": {},
     "output_type": "display_data"
    }
   ],
   "source": [
    "df['Outcome'].hist()"
   ]
  },
  {
   "cell_type": "code",
   "execution_count": 8,
   "id": "ddbfc33c-015f-4168-bf89-744e568fee78",
   "metadata": {},
   "outputs": [
    {
     "data": {
      "text/plain": [
       "Outcome                     1.000000\n",
       "Glucose                     0.466581\n",
       "BMI                         0.292695\n",
       "Age                         0.238356\n",
       "Pregnancies                 0.221898\n",
       "DiabetesPedigreeFunction    0.173844\n",
       "Insulin                     0.130548\n",
       "SkinThickness               0.074752\n",
       "BloodPressure               0.065068\n",
       "Name: Outcome, dtype: float64"
      ]
     },
     "execution_count": 8,
     "metadata": {},
     "output_type": "execute_result"
    }
   ],
   "source": [
    "df.corr()['Outcome'].sort_values(ascending=False)"
   ]
  },
  {
   "cell_type": "code",
   "execution_count": 9,
   "id": "8d663c6a-14fc-428f-bd84-8b4bd3e5d469",
   "metadata": {},
   "outputs": [],
   "source": [
    "df.drop(columns=['SkinThickness', 'BloodPressure'], inplace=True)"
   ]
  },
  {
   "cell_type": "code",
   "execution_count": 10,
   "id": "bb70beb9-2e19-4bbe-b228-7d58fd104cda",
   "metadata": {},
   "outputs": [
    {
     "data": {
      "text/html": [
       "<div>\n",
       "<style scoped>\n",
       "    .dataframe tbody tr th:only-of-type {\n",
       "        vertical-align: middle;\n",
       "    }\n",
       "\n",
       "    .dataframe tbody tr th {\n",
       "        vertical-align: top;\n",
       "    }\n",
       "\n",
       "    .dataframe thead th {\n",
       "        text-align: right;\n",
       "    }\n",
       "</style>\n",
       "<table border=\"1\" class=\"dataframe\">\n",
       "  <thead>\n",
       "    <tr style=\"text-align: right;\">\n",
       "      <th></th>\n",
       "      <th>Pregnancies</th>\n",
       "      <th>Glucose</th>\n",
       "      <th>Insulin</th>\n",
       "      <th>BMI</th>\n",
       "      <th>DiabetesPedigreeFunction</th>\n",
       "      <th>Age</th>\n",
       "      <th>Outcome</th>\n",
       "    </tr>\n",
       "  </thead>\n",
       "  <tbody>\n",
       "    <tr>\n",
       "      <th>count</th>\n",
       "      <td>768.000000</td>\n",
       "      <td>768.000000</td>\n",
       "      <td>768.000000</td>\n",
       "      <td>768.000000</td>\n",
       "      <td>768.000000</td>\n",
       "      <td>768.000000</td>\n",
       "      <td>768.000000</td>\n",
       "    </tr>\n",
       "    <tr>\n",
       "      <th>mean</th>\n",
       "      <td>3.845052</td>\n",
       "      <td>120.894531</td>\n",
       "      <td>79.799479</td>\n",
       "      <td>31.992578</td>\n",
       "      <td>0.471876</td>\n",
       "      <td>33.240885</td>\n",
       "      <td>0.348958</td>\n",
       "    </tr>\n",
       "    <tr>\n",
       "      <th>std</th>\n",
       "      <td>3.369578</td>\n",
       "      <td>31.972618</td>\n",
       "      <td>115.244002</td>\n",
       "      <td>7.884160</td>\n",
       "      <td>0.331329</td>\n",
       "      <td>11.760232</td>\n",
       "      <td>0.476951</td>\n",
       "    </tr>\n",
       "    <tr>\n",
       "      <th>min</th>\n",
       "      <td>0.000000</td>\n",
       "      <td>0.000000</td>\n",
       "      <td>0.000000</td>\n",
       "      <td>0.000000</td>\n",
       "      <td>0.078000</td>\n",
       "      <td>21.000000</td>\n",
       "      <td>0.000000</td>\n",
       "    </tr>\n",
       "    <tr>\n",
       "      <th>25%</th>\n",
       "      <td>1.000000</td>\n",
       "      <td>99.000000</td>\n",
       "      <td>0.000000</td>\n",
       "      <td>27.300000</td>\n",
       "      <td>0.243750</td>\n",
       "      <td>24.000000</td>\n",
       "      <td>0.000000</td>\n",
       "    </tr>\n",
       "    <tr>\n",
       "      <th>50%</th>\n",
       "      <td>3.000000</td>\n",
       "      <td>117.000000</td>\n",
       "      <td>30.500000</td>\n",
       "      <td>32.000000</td>\n",
       "      <td>0.372500</td>\n",
       "      <td>29.000000</td>\n",
       "      <td>0.000000</td>\n",
       "    </tr>\n",
       "    <tr>\n",
       "      <th>75%</th>\n",
       "      <td>6.000000</td>\n",
       "      <td>140.250000</td>\n",
       "      <td>127.250000</td>\n",
       "      <td>36.600000</td>\n",
       "      <td>0.626250</td>\n",
       "      <td>41.000000</td>\n",
       "      <td>1.000000</td>\n",
       "    </tr>\n",
       "    <tr>\n",
       "      <th>max</th>\n",
       "      <td>17.000000</td>\n",
       "      <td>199.000000</td>\n",
       "      <td>846.000000</td>\n",
       "      <td>67.100000</td>\n",
       "      <td>2.420000</td>\n",
       "      <td>81.000000</td>\n",
       "      <td>1.000000</td>\n",
       "    </tr>\n",
       "  </tbody>\n",
       "</table>\n",
       "</div>"
      ],
      "text/plain": [
       "       Pregnancies     Glucose     Insulin         BMI  \\\n",
       "count   768.000000  768.000000  768.000000  768.000000   \n",
       "mean      3.845052  120.894531   79.799479   31.992578   \n",
       "std       3.369578   31.972618  115.244002    7.884160   \n",
       "min       0.000000    0.000000    0.000000    0.000000   \n",
       "25%       1.000000   99.000000    0.000000   27.300000   \n",
       "50%       3.000000  117.000000   30.500000   32.000000   \n",
       "75%       6.000000  140.250000  127.250000   36.600000   \n",
       "max      17.000000  199.000000  846.000000   67.100000   \n",
       "\n",
       "       DiabetesPedigreeFunction         Age     Outcome  \n",
       "count                768.000000  768.000000  768.000000  \n",
       "mean                   0.471876   33.240885    0.348958  \n",
       "std                    0.331329   11.760232    0.476951  \n",
       "min                    0.078000   21.000000    0.000000  \n",
       "25%                    0.243750   24.000000    0.000000  \n",
       "50%                    0.372500   29.000000    0.000000  \n",
       "75%                    0.626250   41.000000    1.000000  \n",
       "max                    2.420000   81.000000    1.000000  "
      ]
     },
     "execution_count": 10,
     "metadata": {},
     "output_type": "execute_result"
    }
   ],
   "source": [
    "df.describe()"
   ]
  },
  {
   "cell_type": "code",
   "execution_count": 11,
   "id": "39be1525-ad67-44a7-a24f-e8929f9b4137",
   "metadata": {},
   "outputs": [],
   "source": [
    "df = df.loc[(df['BMI'] < 50) | (df['Insulin'] < 100)]"
   ]
  },
  {
   "cell_type": "code",
   "execution_count": 12,
   "id": "25be3d86-cdbb-46a4-a7c8-2263e06a6bd4",
   "metadata": {},
   "outputs": [],
   "source": [
    "df=df[df['Insulin'] < 500]"
   ]
  },
  {
   "cell_type": "code",
   "execution_count": 13,
   "id": "28b9bba7-dc6d-41f8-935a-cecf32a05ca0",
   "metadata": {},
   "outputs": [
    {
     "data": {
      "text/html": [
       "<div>\n",
       "<style scoped>\n",
       "    .dataframe tbody tr th:only-of-type {\n",
       "        vertical-align: middle;\n",
       "    }\n",
       "\n",
       "    .dataframe tbody tr th {\n",
       "        vertical-align: top;\n",
       "    }\n",
       "\n",
       "    .dataframe thead th {\n",
       "        text-align: right;\n",
       "    }\n",
       "</style>\n",
       "<table border=\"1\" class=\"dataframe\">\n",
       "  <thead>\n",
       "    <tr style=\"text-align: right;\">\n",
       "      <th></th>\n",
       "      <th>Pregnancies</th>\n",
       "      <th>Glucose</th>\n",
       "      <th>Insulin</th>\n",
       "      <th>BMI</th>\n",
       "      <th>DiabetesPedigreeFunction</th>\n",
       "      <th>Age</th>\n",
       "      <th>Outcome</th>\n",
       "    </tr>\n",
       "  </thead>\n",
       "  <tbody>\n",
       "    <tr>\n",
       "      <th>count</th>\n",
       "      <td>756.000000</td>\n",
       "      <td>756.000000</td>\n",
       "      <td>756.000000</td>\n",
       "      <td>756.000000</td>\n",
       "      <td>756.000000</td>\n",
       "      <td>756.000000</td>\n",
       "      <td>756.000000</td>\n",
       "    </tr>\n",
       "    <tr>\n",
       "      <th>mean</th>\n",
       "      <td>3.871693</td>\n",
       "      <td>120.235450</td>\n",
       "      <td>73.054233</td>\n",
       "      <td>31.813889</td>\n",
       "      <td>0.469128</td>\n",
       "      <td>33.234127</td>\n",
       "      <td>0.343915</td>\n",
       "    </tr>\n",
       "    <tr>\n",
       "      <th>std</th>\n",
       "      <td>3.376301</td>\n",
       "      <td>31.627972</td>\n",
       "      <td>98.918501</td>\n",
       "      <td>7.681789</td>\n",
       "      <td>0.325780</td>\n",
       "      <td>11.746075</td>\n",
       "      <td>0.475328</td>\n",
       "    </tr>\n",
       "    <tr>\n",
       "      <th>min</th>\n",
       "      <td>0.000000</td>\n",
       "      <td>0.000000</td>\n",
       "      <td>0.000000</td>\n",
       "      <td>0.000000</td>\n",
       "      <td>0.078000</td>\n",
       "      <td>21.000000</td>\n",
       "      <td>0.000000</td>\n",
       "    </tr>\n",
       "    <tr>\n",
       "      <th>25%</th>\n",
       "      <td>1.000000</td>\n",
       "      <td>99.000000</td>\n",
       "      <td>0.000000</td>\n",
       "      <td>27.200000</td>\n",
       "      <td>0.243750</td>\n",
       "      <td>24.000000</td>\n",
       "      <td>0.000000</td>\n",
       "    </tr>\n",
       "    <tr>\n",
       "      <th>50%</th>\n",
       "      <td>3.000000</td>\n",
       "      <td>116.000000</td>\n",
       "      <td>18.000000</td>\n",
       "      <td>32.000000</td>\n",
       "      <td>0.370000</td>\n",
       "      <td>29.000000</td>\n",
       "      <td>0.000000</td>\n",
       "    </tr>\n",
       "    <tr>\n",
       "      <th>75%</th>\n",
       "      <td>6.000000</td>\n",
       "      <td>139.000000</td>\n",
       "      <td>122.750000</td>\n",
       "      <td>36.400000</td>\n",
       "      <td>0.617250</td>\n",
       "      <td>41.000000</td>\n",
       "      <td>1.000000</td>\n",
       "    </tr>\n",
       "    <tr>\n",
       "      <th>max</th>\n",
       "      <td>17.000000</td>\n",
       "      <td>199.000000</td>\n",
       "      <td>495.000000</td>\n",
       "      <td>59.400000</td>\n",
       "      <td>2.420000</td>\n",
       "      <td>81.000000</td>\n",
       "      <td>1.000000</td>\n",
       "    </tr>\n",
       "  </tbody>\n",
       "</table>\n",
       "</div>"
      ],
      "text/plain": [
       "       Pregnancies     Glucose     Insulin         BMI  \\\n",
       "count   756.000000  756.000000  756.000000  756.000000   \n",
       "mean      3.871693  120.235450   73.054233   31.813889   \n",
       "std       3.376301   31.627972   98.918501    7.681789   \n",
       "min       0.000000    0.000000    0.000000    0.000000   \n",
       "25%       1.000000   99.000000    0.000000   27.200000   \n",
       "50%       3.000000  116.000000   18.000000   32.000000   \n",
       "75%       6.000000  139.000000  122.750000   36.400000   \n",
       "max      17.000000  199.000000  495.000000   59.400000   \n",
       "\n",
       "       DiabetesPedigreeFunction         Age     Outcome  \n",
       "count                756.000000  756.000000  756.000000  \n",
       "mean                   0.469128   33.234127    0.343915  \n",
       "std                    0.325780   11.746075    0.475328  \n",
       "min                    0.078000   21.000000    0.000000  \n",
       "25%                    0.243750   24.000000    0.000000  \n",
       "50%                    0.370000   29.000000    0.000000  \n",
       "75%                    0.617250   41.000000    1.000000  \n",
       "max                    2.420000   81.000000    1.000000  "
      ]
     },
     "execution_count": 13,
     "metadata": {},
     "output_type": "execute_result"
    }
   ],
   "source": [
    "df.describe()"
   ]
  },
  {
   "cell_type": "code",
   "execution_count": 14,
   "id": "4b73f10b-01c6-486b-8e59-38a05854d024",
   "metadata": {},
   "outputs": [],
   "source": [
    "df=df[df['Pregnancies'] < 14]"
   ]
  },
  {
   "cell_type": "code",
   "execution_count": 15,
   "id": "2c70f4b3-5ce9-410f-b132-101e68b338d4",
   "metadata": {},
   "outputs": [
    {
     "data": {
      "text/html": [
       "<div>\n",
       "<style scoped>\n",
       "    .dataframe tbody tr th:only-of-type {\n",
       "        vertical-align: middle;\n",
       "    }\n",
       "\n",
       "    .dataframe tbody tr th {\n",
       "        vertical-align: top;\n",
       "    }\n",
       "\n",
       "    .dataframe thead th {\n",
       "        text-align: right;\n",
       "    }\n",
       "</style>\n",
       "<table border=\"1\" class=\"dataframe\">\n",
       "  <thead>\n",
       "    <tr style=\"text-align: right;\">\n",
       "      <th></th>\n",
       "      <th>Pregnancies</th>\n",
       "      <th>Glucose</th>\n",
       "      <th>Insulin</th>\n",
       "      <th>BMI</th>\n",
       "      <th>DiabetesPedigreeFunction</th>\n",
       "      <th>Age</th>\n",
       "      <th>Outcome</th>\n",
       "    </tr>\n",
       "  </thead>\n",
       "  <tbody>\n",
       "    <tr>\n",
       "      <th>count</th>\n",
       "      <td>752.000000</td>\n",
       "      <td>752.000000</td>\n",
       "      <td>752.000000</td>\n",
       "      <td>752.000000</td>\n",
       "      <td>752.000000</td>\n",
       "      <td>752.000000</td>\n",
       "      <td>752.000000</td>\n",
       "    </tr>\n",
       "    <tr>\n",
       "      <th>mean</th>\n",
       "      <td>3.812500</td>\n",
       "      <td>120.111702</td>\n",
       "      <td>72.900266</td>\n",
       "      <td>31.786037</td>\n",
       "      <td>0.469504</td>\n",
       "      <td>33.179521</td>\n",
       "      <td>0.340426</td>\n",
       "    </tr>\n",
       "    <tr>\n",
       "      <th>std</th>\n",
       "      <td>3.284666</td>\n",
       "      <td>31.596461</td>\n",
       "      <td>99.042497</td>\n",
       "      <td>7.690353</td>\n",
       "      <td>0.326054</td>\n",
       "      <td>11.750557</td>\n",
       "      <td>0.474168</td>\n",
       "    </tr>\n",
       "    <tr>\n",
       "      <th>min</th>\n",
       "      <td>0.000000</td>\n",
       "      <td>0.000000</td>\n",
       "      <td>0.000000</td>\n",
       "      <td>0.000000</td>\n",
       "      <td>0.078000</td>\n",
       "      <td>21.000000</td>\n",
       "      <td>0.000000</td>\n",
       "    </tr>\n",
       "    <tr>\n",
       "      <th>25%</th>\n",
       "      <td>1.000000</td>\n",
       "      <td>99.000000</td>\n",
       "      <td>0.000000</td>\n",
       "      <td>27.175000</td>\n",
       "      <td>0.244000</td>\n",
       "      <td>24.000000</td>\n",
       "      <td>0.000000</td>\n",
       "    </tr>\n",
       "    <tr>\n",
       "      <th>50%</th>\n",
       "      <td>3.000000</td>\n",
       "      <td>116.000000</td>\n",
       "      <td>17.000000</td>\n",
       "      <td>32.000000</td>\n",
       "      <td>0.370000</td>\n",
       "      <td>29.000000</td>\n",
       "      <td>0.000000</td>\n",
       "    </tr>\n",
       "    <tr>\n",
       "      <th>75%</th>\n",
       "      <td>6.000000</td>\n",
       "      <td>139.000000</td>\n",
       "      <td>122.750000</td>\n",
       "      <td>36.300000</td>\n",
       "      <td>0.617250</td>\n",
       "      <td>40.250000</td>\n",
       "      <td>1.000000</td>\n",
       "    </tr>\n",
       "    <tr>\n",
       "      <th>max</th>\n",
       "      <td>13.000000</td>\n",
       "      <td>199.000000</td>\n",
       "      <td>495.000000</td>\n",
       "      <td>59.400000</td>\n",
       "      <td>2.420000</td>\n",
       "      <td>81.000000</td>\n",
       "      <td>1.000000</td>\n",
       "    </tr>\n",
       "  </tbody>\n",
       "</table>\n",
       "</div>"
      ],
      "text/plain": [
       "       Pregnancies     Glucose     Insulin         BMI  \\\n",
       "count   752.000000  752.000000  752.000000  752.000000   \n",
       "mean      3.812500  120.111702   72.900266   31.786037   \n",
       "std       3.284666   31.596461   99.042497    7.690353   \n",
       "min       0.000000    0.000000    0.000000    0.000000   \n",
       "25%       1.000000   99.000000    0.000000   27.175000   \n",
       "50%       3.000000  116.000000   17.000000   32.000000   \n",
       "75%       6.000000  139.000000  122.750000   36.300000   \n",
       "max      13.000000  199.000000  495.000000   59.400000   \n",
       "\n",
       "       DiabetesPedigreeFunction         Age     Outcome  \n",
       "count                752.000000  752.000000  752.000000  \n",
       "mean                   0.469504   33.179521    0.340426  \n",
       "std                    0.326054   11.750557    0.474168  \n",
       "min                    0.078000   21.000000    0.000000  \n",
       "25%                    0.244000   24.000000    0.000000  \n",
       "50%                    0.370000   29.000000    0.000000  \n",
       "75%                    0.617250   40.250000    1.000000  \n",
       "max                    2.420000   81.000000    1.000000  "
      ]
     },
     "execution_count": 15,
     "metadata": {},
     "output_type": "execute_result"
    }
   ],
   "source": [
    "df.describe()"
   ]
  },
  {
   "cell_type": "code",
   "execution_count": 16,
   "id": "2d3f2a1d-8866-4590-8fb6-a6dfe1eaa9ea",
   "metadata": {},
   "outputs": [],
   "source": [
    "df=df[df['DiabetesPedigreeFunction'] < 1.7]"
   ]
  },
  {
   "cell_type": "code",
   "execution_count": 17,
   "id": "a95e6b39-dcc5-4601-b9b2-04a7117df296",
   "metadata": {},
   "outputs": [],
   "source": [
    "from sklearn.preprocessing import StandardScaler\n",
    "from sklearn.model_selection import StratifiedShuffleSplit\n",
    "\n",
    "scaler = StandardScaler()\n",
    "\n",
    "X = scaler.fit_transform(df.drop('Outcome', axis=1))\n",
    "y = df['Outcome']\n",
    "\n",
    "split = StratifiedShuffleSplit(n_splits=1, test_size=0.3, random_state=101)\n",
    "for train_index, test_index in split.split(X, y):\n",
    "    strat_train_set = X[train_index], y.iloc[train_index]\n",
    "    strat_test_set = X[test_index], y.iloc[test_index]\n",
    "\n",
    "X_train, y_train = strat_train_set\n",
    "X_test, y_test = strat_test_set"
   ]
  },
  {
   "cell_type": "code",
   "execution_count": 18,
   "id": "697e52c9-bf3e-4959-8462-a8764cdd4eae",
   "metadata": {},
   "outputs": [
    {
     "name": "stdout",
     "output_type": "stream",
     "text": [
      "Using TensorFlow backend\n"
     ]
    }
   ],
   "source": [
    "import tensorflow\n",
    "from tensorflow import keras\n",
    "from keras import Sequential\n",
    "from keras.layers import Input, Dense, BatchNormalization, Dropout\n",
    "from keras.callbacks import EarlyStopping\n",
    "\n",
    "import keras_tuner as kt"
   ]
  },
  {
   "cell_type": "code",
   "execution_count": 19,
   "id": "7a3c9dec-040b-461d-bcbb-899b6f3dab9b",
   "metadata": {},
   "outputs": [],
   "source": [
    "def build_model(hp):\n",
    "    model = Sequential()\n",
    "    model.add(Input(6,))\n",
    "\n",
    "    for i in range(hp.Int('num_layers', min_value=1, max_value=8)):\n",
    "        model.add(\n",
    "            Dense(\n",
    "                hp.Int('units'+str(i), min_value=8, max_value=128, step=8),\n",
    "                activation=hp.Choice('activation'+str(i), values=['relu', 'tanh', 'sigmoid'])\n",
    "            )\n",
    "        )\n",
    "        model.add(BatchNormalization())\n",
    "        model.add(Dropout(hp.Choice('droupout'+str(i), values=[0.1, 0.2, 0.3, 0.4, 0.5, 0.6, 0.7, 0.8, 0.9])))\n",
    "\n",
    "    model.add(Dense(1, activation='sigmoid'))\n",
    "\n",
    "    model.compile(\n",
    "        optimizer=hp.Choice('optimizer', values=['rmsprop', 'adam', 'sgd', 'nadam', 'adadelta']),\n",
    "        loss='binary_crossentropy',\n",
    "        metrics=['accuracy']\n",
    "    )\n",
    "\n",
    "    return model\n"
   ]
  },
  {
   "cell_type": "code",
   "execution_count": 20,
   "id": "df3f581d-c28e-497f-a276-48c751393ab2",
   "metadata": {},
   "outputs": [],
   "source": [
    "tuner = kt.RandomSearch(\n",
    "    build_model,\n",
    "    objective='val_accuracy',\n",
    "    max_trials=5,\n",
    "    directory='tuners',\n",
    "    project_name='diabetes'\n",
    ")"
   ]
  },
  {
   "cell_type": "code",
   "execution_count": 21,
   "id": "84539ca2-567d-4a5f-a740-b0a5b20ab92d",
   "metadata": {},
   "outputs": [
    {
     "name": "stdout",
     "output_type": "stream",
     "text": [
      "Trial 5 Complete [00h 00m 01s]\n",
      "val_accuracy: 0.7410714030265808\n",
      "\n",
      "Best val_accuracy So Far: 0.7589285969734192\n",
      "Total elapsed time: 00h 00m 04s\n"
     ]
    }
   ],
   "source": [
    "tuner.search(X_train, y_train, epochs=5, validation_data=(X_test, y_test))"
   ]
  },
  {
   "cell_type": "code",
   "execution_count": 22,
   "id": "ae251ad3-2da8-4376-923f-be8c673c9729",
   "metadata": {},
   "outputs": [
    {
     "data": {
      "text/plain": [
       "{'num_layers': 2,\n",
       " 'units0': 48,\n",
       " 'activation0': 'relu',\n",
       " 'droupout0': 0.7,\n",
       " 'optimizer': 'nadam',\n",
       " 'units1': 24,\n",
       " 'activation1': 'relu',\n",
       " 'droupout1': 0.4,\n",
       " 'units2': 56,\n",
       " 'activation2': 'tanh',\n",
       " 'droupout2': 0.4}"
      ]
     },
     "execution_count": 22,
     "metadata": {},
     "output_type": "execute_result"
    }
   ],
   "source": [
    "tuner.get_best_hyperparameters()[0].values"
   ]
  },
  {
   "cell_type": "code",
   "execution_count": 23,
   "id": "d8d40a34-5123-448d-b9cf-ba673e8920f9",
   "metadata": {},
   "outputs": [],
   "source": [
    "model = tuner.get_best_models(num_models=1)[0]"
   ]
  },
  {
   "cell_type": "code",
   "execution_count": 35,
   "id": "e6f0c2f2-0406-42b0-815f-db9743ba411f",
   "metadata": {},
   "outputs": [],
   "source": [
    "callback = EarlyStopping(\n",
    "    monitor=\"val_loss\",\n",
    "    min_delta=0.00001,\n",
    "    patience=50,\n",
    "    verbose=1,\n",
    "    mode=\"auto\",\n",
    "    baseline=None,\n",
    "    restore_best_weights=True\n",
    ")"
   ]
  },
  {
   "cell_type": "code",
   "execution_count": 25,
   "id": "0c665996-1abc-4873-bdbe-4f5f7e9793cd",
   "metadata": {},
   "outputs": [
    {
     "name": "stdout",
     "output_type": "stream",
     "text": [
      "Epoch 6/200\n",
      "9/9 [==============================] - 0s 8ms/step - loss: 0.6788 - accuracy: 0.6533 - val_loss: 0.5793 - val_accuracy: 0.7545\n",
      "Epoch 7/200\n",
      "9/9 [==============================] - 0s 2ms/step - loss: 0.7008 - accuracy: 0.6648 - val_loss: 0.5723 - val_accuracy: 0.7500\n",
      "Epoch 8/200\n",
      "9/9 [==============================] - 0s 2ms/step - loss: 0.6791 - accuracy: 0.6801 - val_loss: 0.5652 - val_accuracy: 0.7455\n",
      "Epoch 9/200\n",
      "9/9 [==============================] - 0s 2ms/step - loss: 0.6964 - accuracy: 0.6341 - val_loss: 0.5588 - val_accuracy: 0.7411\n",
      "Epoch 10/200\n",
      "9/9 [==============================] - 0s 2ms/step - loss: 0.7010 - accuracy: 0.6648 - val_loss: 0.5541 - val_accuracy: 0.7411\n",
      "Epoch 11/200\n",
      "9/9 [==============================] - 0s 2ms/step - loss: 0.6203 - accuracy: 0.7107 - val_loss: 0.5492 - val_accuracy: 0.7411\n",
      "Epoch 12/200\n",
      "9/9 [==============================] - 0s 2ms/step - loss: 0.6181 - accuracy: 0.7031 - val_loss: 0.5455 - val_accuracy: 0.7411\n",
      "Epoch 13/200\n",
      "9/9 [==============================] - 0s 2ms/step - loss: 0.6316 - accuracy: 0.7069 - val_loss: 0.5407 - val_accuracy: 0.7455\n",
      "Epoch 14/200\n",
      "9/9 [==============================] - 0s 2ms/step - loss: 0.6430 - accuracy: 0.7050 - val_loss: 0.5374 - val_accuracy: 0.7455\n",
      "Epoch 15/200\n",
      "9/9 [==============================] - 0s 2ms/step - loss: 0.6312 - accuracy: 0.7146 - val_loss: 0.5332 - val_accuracy: 0.7411\n",
      "Epoch 16/200\n",
      "9/9 [==============================] - 0s 2ms/step - loss: 0.6511 - accuracy: 0.6935 - val_loss: 0.5308 - val_accuracy: 0.7411\n",
      "Epoch 17/200\n",
      "9/9 [==============================] - 0s 2ms/step - loss: 0.6308 - accuracy: 0.7069 - val_loss: 0.5273 - val_accuracy: 0.7366\n",
      "Epoch 18/200\n",
      "9/9 [==============================] - 0s 2ms/step - loss: 0.6097 - accuracy: 0.6992 - val_loss: 0.5233 - val_accuracy: 0.7411\n",
      "Epoch 19/200\n",
      "9/9 [==============================] - 0s 2ms/step - loss: 0.6392 - accuracy: 0.6667 - val_loss: 0.5201 - val_accuracy: 0.7411\n",
      "Epoch 20/200\n",
      "9/9 [==============================] - 0s 2ms/step - loss: 0.6537 - accuracy: 0.6686 - val_loss: 0.5174 - val_accuracy: 0.7455\n",
      "Epoch 21/200\n",
      "9/9 [==============================] - 0s 2ms/step - loss: 0.5885 - accuracy: 0.7165 - val_loss: 0.5146 - val_accuracy: 0.7455\n",
      "Epoch 22/200\n",
      "9/9 [==============================] - 0s 2ms/step - loss: 0.5660 - accuracy: 0.7299 - val_loss: 0.5115 - val_accuracy: 0.7411\n",
      "Epoch 23/200\n",
      "9/9 [==============================] - 0s 2ms/step - loss: 0.5932 - accuracy: 0.7031 - val_loss: 0.5099 - val_accuracy: 0.7500\n",
      "Epoch 24/200\n",
      "9/9 [==============================] - 0s 2ms/step - loss: 0.5811 - accuracy: 0.7165 - val_loss: 0.5077 - val_accuracy: 0.7500\n",
      "Epoch 25/200\n",
      "9/9 [==============================] - 0s 2ms/step - loss: 0.5680 - accuracy: 0.7184 - val_loss: 0.5058 - val_accuracy: 0.7500\n",
      "Epoch 26/200\n",
      "9/9 [==============================] - 0s 2ms/step - loss: 0.5593 - accuracy: 0.7299 - val_loss: 0.5033 - val_accuracy: 0.7545\n",
      "Epoch 27/200\n",
      "9/9 [==============================] - 0s 2ms/step - loss: 0.5795 - accuracy: 0.7414 - val_loss: 0.5016 - val_accuracy: 0.7545\n",
      "Epoch 28/200\n",
      "9/9 [==============================] - 0s 2ms/step - loss: 0.5592 - accuracy: 0.7452 - val_loss: 0.5004 - val_accuracy: 0.7545\n",
      "Epoch 29/200\n",
      "9/9 [==============================] - 0s 2ms/step - loss: 0.5344 - accuracy: 0.7452 - val_loss: 0.4991 - val_accuracy: 0.7545\n",
      "Epoch 30/200\n",
      "9/9 [==============================] - 0s 2ms/step - loss: 0.5512 - accuracy: 0.7414 - val_loss: 0.4977 - val_accuracy: 0.7545\n",
      "Epoch 31/200\n",
      "9/9 [==============================] - 0s 2ms/step - loss: 0.5552 - accuracy: 0.7356 - val_loss: 0.4964 - val_accuracy: 0.7589\n",
      "Epoch 32/200\n",
      "9/9 [==============================] - 0s 2ms/step - loss: 0.5646 - accuracy: 0.7107 - val_loss: 0.4952 - val_accuracy: 0.7589\n",
      "Epoch 33/200\n",
      "9/9 [==============================] - 0s 2ms/step - loss: 0.5356 - accuracy: 0.7452 - val_loss: 0.4935 - val_accuracy: 0.7589\n",
      "Epoch 34/200\n",
      "9/9 [==============================] - 0s 2ms/step - loss: 0.5538 - accuracy: 0.7395 - val_loss: 0.4926 - val_accuracy: 0.7589\n",
      "Epoch 35/200\n",
      "9/9 [==============================] - 0s 2ms/step - loss: 0.5478 - accuracy: 0.7395 - val_loss: 0.4918 - val_accuracy: 0.7589\n",
      "Epoch 36/200\n",
      "9/9 [==============================] - 0s 2ms/step - loss: 0.5735 - accuracy: 0.7356 - val_loss: 0.4904 - val_accuracy: 0.7589\n",
      "Epoch 37/200\n",
      "9/9 [==============================] - 0s 2ms/step - loss: 0.5396 - accuracy: 0.7433 - val_loss: 0.4893 - val_accuracy: 0.7589\n",
      "Epoch 38/200\n",
      "9/9 [==============================] - 0s 2ms/step - loss: 0.5420 - accuracy: 0.7471 - val_loss: 0.4889 - val_accuracy: 0.7589\n",
      "Epoch 39/200\n",
      "9/9 [==============================] - 0s 2ms/step - loss: 0.5281 - accuracy: 0.7299 - val_loss: 0.4876 - val_accuracy: 0.7589\n",
      "Epoch 40/200\n",
      "9/9 [==============================] - 0s 2ms/step - loss: 0.5425 - accuracy: 0.7299 - val_loss: 0.4876 - val_accuracy: 0.7589\n",
      "Epoch 41/200\n",
      "9/9 [==============================] - 0s 2ms/step - loss: 0.5386 - accuracy: 0.7356 - val_loss: 0.4872 - val_accuracy: 0.7679\n",
      "Epoch 42/200\n",
      "9/9 [==============================] - 0s 2ms/step - loss: 0.5436 - accuracy: 0.7433 - val_loss: 0.4864 - val_accuracy: 0.7634\n",
      "Epoch 43/200\n",
      "9/9 [==============================] - 0s 2ms/step - loss: 0.5343 - accuracy: 0.7567 - val_loss: 0.4861 - val_accuracy: 0.7589\n",
      "Epoch 44/200\n",
      "9/9 [==============================] - 0s 2ms/step - loss: 0.5349 - accuracy: 0.7375 - val_loss: 0.4856 - val_accuracy: 0.7545\n",
      "Epoch 45/200\n",
      "9/9 [==============================] - 0s 2ms/step - loss: 0.5214 - accuracy: 0.7356 - val_loss: 0.4850 - val_accuracy: 0.7589\n",
      "Epoch 46/200\n",
      "9/9 [==============================] - 0s 2ms/step - loss: 0.5196 - accuracy: 0.7452 - val_loss: 0.4846 - val_accuracy: 0.7589\n",
      "Epoch 47/200\n",
      "9/9 [==============================] - 0s 2ms/step - loss: 0.5047 - accuracy: 0.7452 - val_loss: 0.4849 - val_accuracy: 0.7545\n",
      "Epoch 48/200\n",
      "9/9 [==============================] - 0s 2ms/step - loss: 0.5089 - accuracy: 0.7644 - val_loss: 0.4842 - val_accuracy: 0.7589\n",
      "Epoch 49/200\n",
      "9/9 [==============================] - 0s 2ms/step - loss: 0.5507 - accuracy: 0.7471 - val_loss: 0.4840 - val_accuracy: 0.7589\n",
      "Epoch 50/200\n",
      "9/9 [==============================] - 0s 2ms/step - loss: 0.5326 - accuracy: 0.7299 - val_loss: 0.4838 - val_accuracy: 0.7589\n",
      "Epoch 51/200\n",
      "9/9 [==============================] - 0s 2ms/step - loss: 0.5499 - accuracy: 0.7337 - val_loss: 0.4827 - val_accuracy: 0.7634\n",
      "Epoch 52/200\n",
      "9/9 [==============================] - 0s 2ms/step - loss: 0.5350 - accuracy: 0.7510 - val_loss: 0.4825 - val_accuracy: 0.7589\n",
      "Epoch 53/200\n",
      "9/9 [==============================] - 0s 2ms/step - loss: 0.5174 - accuracy: 0.7529 - val_loss: 0.4820 - val_accuracy: 0.7589\n",
      "Epoch 54/200\n",
      "9/9 [==============================] - 0s 2ms/step - loss: 0.5214 - accuracy: 0.7739 - val_loss: 0.4814 - val_accuracy: 0.7634\n",
      "Epoch 55/200\n",
      "9/9 [==============================] - 0s 2ms/step - loss: 0.5346 - accuracy: 0.7452 - val_loss: 0.4814 - val_accuracy: 0.7634\n",
      "Epoch 56/200\n",
      "9/9 [==============================] - 0s 2ms/step - loss: 0.5368 - accuracy: 0.7433 - val_loss: 0.4815 - val_accuracy: 0.7679\n",
      "Epoch 57/200\n",
      "9/9 [==============================] - 0s 2ms/step - loss: 0.5735 - accuracy: 0.7261 - val_loss: 0.4815 - val_accuracy: 0.7679\n",
      "Epoch 58/200\n",
      "9/9 [==============================] - 0s 2ms/step - loss: 0.5075 - accuracy: 0.7739 - val_loss: 0.4815 - val_accuracy: 0.7634\n",
      "Epoch 59/200\n",
      "9/9 [==============================] - 0s 2ms/step - loss: 0.5209 - accuracy: 0.7280 - val_loss: 0.4816 - val_accuracy: 0.7723\n",
      "Epoch 60/200\n",
      "9/9 [==============================] - 0s 2ms/step - loss: 0.4931 - accuracy: 0.7490 - val_loss: 0.4821 - val_accuracy: 0.7634\n",
      "Epoch 61/200\n",
      "9/9 [==============================] - 0s 2ms/step - loss: 0.4995 - accuracy: 0.7567 - val_loss: 0.4817 - val_accuracy: 0.7634\n",
      "Epoch 62/200\n",
      "9/9 [==============================] - 0s 2ms/step - loss: 0.5180 - accuracy: 0.7510 - val_loss: 0.4816 - val_accuracy: 0.7589\n",
      "Epoch 63/200\n",
      "9/9 [==============================] - 0s 2ms/step - loss: 0.5108 - accuracy: 0.7586 - val_loss: 0.4816 - val_accuracy: 0.7545\n",
      "Epoch 64/200\n",
      "9/9 [==============================] - 0s 2ms/step - loss: 0.4934 - accuracy: 0.7797 - val_loss: 0.4817 - val_accuracy: 0.7500\n",
      "Epoch 65/200\n",
      "9/9 [==============================] - 0s 2ms/step - loss: 0.5199 - accuracy: 0.7567 - val_loss: 0.4816 - val_accuracy: 0.7500\n",
      "Epoch 66/200\n",
      "9/9 [==============================] - 0s 2ms/step - loss: 0.5302 - accuracy: 0.7471 - val_loss: 0.4814 - val_accuracy: 0.7545\n",
      "Epoch 67/200\n",
      "9/9 [==============================] - 0s 2ms/step - loss: 0.5134 - accuracy: 0.7586 - val_loss: 0.4812 - val_accuracy: 0.7500\n",
      "Epoch 68/200\n",
      "9/9 [==============================] - 0s 2ms/step - loss: 0.5198 - accuracy: 0.7548 - val_loss: 0.4815 - val_accuracy: 0.7500\n",
      "Epoch 69/200\n",
      "9/9 [==============================] - 0s 2ms/step - loss: 0.5128 - accuracy: 0.7548 - val_loss: 0.4818 - val_accuracy: 0.7500\n",
      "Epoch 70/200\n",
      "9/9 [==============================] - 0s 2ms/step - loss: 0.4931 - accuracy: 0.7759 - val_loss: 0.4816 - val_accuracy: 0.7500\n",
      "Epoch 71/200\n",
      "9/9 [==============================] - 0s 2ms/step - loss: 0.5156 - accuracy: 0.7605 - val_loss: 0.4815 - val_accuracy: 0.7500\n",
      "Epoch 72/200\n",
      "9/9 [==============================] - 0s 2ms/step - loss: 0.4952 - accuracy: 0.7625 - val_loss: 0.4813 - val_accuracy: 0.7500\n",
      "Epoch 73/200\n",
      "9/9 [==============================] - 0s 2ms/step - loss: 0.5127 - accuracy: 0.7490 - val_loss: 0.4805 - val_accuracy: 0.7500\n",
      "Epoch 74/200\n",
      "9/9 [==============================] - 0s 2ms/step - loss: 0.5198 - accuracy: 0.7586 - val_loss: 0.4797 - val_accuracy: 0.7500\n",
      "Epoch 75/200\n",
      "9/9 [==============================] - 0s 2ms/step - loss: 0.4856 - accuracy: 0.7625 - val_loss: 0.4797 - val_accuracy: 0.7545\n",
      "Epoch 76/200\n",
      "9/9 [==============================] - 0s 2ms/step - loss: 0.5054 - accuracy: 0.7835 - val_loss: 0.4796 - val_accuracy: 0.7545\n",
      "Epoch 77/200\n",
      "9/9 [==============================] - 0s 2ms/step - loss: 0.4744 - accuracy: 0.7625 - val_loss: 0.4799 - val_accuracy: 0.7545\n",
      "Epoch 78/200\n",
      "9/9 [==============================] - 0s 2ms/step - loss: 0.5043 - accuracy: 0.7318 - val_loss: 0.4806 - val_accuracy: 0.7545\n",
      "Epoch 79/200\n",
      "9/9 [==============================] - 0s 2ms/step - loss: 0.4805 - accuracy: 0.7701 - val_loss: 0.4808 - val_accuracy: 0.7545\n",
      "Epoch 80/200\n",
      "9/9 [==============================] - 0s 2ms/step - loss: 0.5032 - accuracy: 0.7663 - val_loss: 0.4810 - val_accuracy: 0.7545\n",
      "Epoch 81/200\n",
      "9/9 [==============================] - 0s 2ms/step - loss: 0.5071 - accuracy: 0.7663 - val_loss: 0.4807 - val_accuracy: 0.7545\n",
      "Epoch 82/200\n",
      "9/9 [==============================] - 0s 2ms/step - loss: 0.5022 - accuracy: 0.7625 - val_loss: 0.4804 - val_accuracy: 0.7545\n",
      "Epoch 83/200\n",
      "9/9 [==============================] - 0s 2ms/step - loss: 0.4821 - accuracy: 0.7816 - val_loss: 0.4801 - val_accuracy: 0.7545\n",
      "Epoch 84/200\n",
      "9/9 [==============================] - 0s 2ms/step - loss: 0.4846 - accuracy: 0.7701 - val_loss: 0.4801 - val_accuracy: 0.7545\n",
      "Epoch 85/200\n",
      "9/9 [==============================] - 0s 2ms/step - loss: 0.4939 - accuracy: 0.7625 - val_loss: 0.4797 - val_accuracy: 0.7545\n",
      "Epoch 86/200\n",
      "9/9 [==============================] - 0s 2ms/step - loss: 0.4946 - accuracy: 0.7663 - val_loss: 0.4794 - val_accuracy: 0.7545\n",
      "Epoch 87/200\n",
      "9/9 [==============================] - 0s 2ms/step - loss: 0.5093 - accuracy: 0.7510 - val_loss: 0.4794 - val_accuracy: 0.7589\n",
      "Epoch 88/200\n",
      "9/9 [==============================] - 0s 2ms/step - loss: 0.4837 - accuracy: 0.7605 - val_loss: 0.4798 - val_accuracy: 0.7545\n",
      "Epoch 89/200\n",
      "9/9 [==============================] - 0s 2ms/step - loss: 0.5043 - accuracy: 0.7644 - val_loss: 0.4797 - val_accuracy: 0.7500\n",
      "Epoch 90/200\n",
      "9/9 [==============================] - 0s 2ms/step - loss: 0.4880 - accuracy: 0.7644 - val_loss: 0.4796 - val_accuracy: 0.7500\n",
      "Epoch 91/200\n",
      "9/9 [==============================] - 0s 2ms/step - loss: 0.5055 - accuracy: 0.7605 - val_loss: 0.4799 - val_accuracy: 0.7589\n",
      "Epoch 92/200\n",
      "9/9 [==============================] - 0s 2ms/step - loss: 0.4908 - accuracy: 0.7854 - val_loss: 0.4794 - val_accuracy: 0.7634\n",
      "Epoch 93/200\n",
      "9/9 [==============================] - 0s 2ms/step - loss: 0.4834 - accuracy: 0.7625 - val_loss: 0.4791 - val_accuracy: 0.7589\n",
      "Epoch 94/200\n",
      "9/9 [==============================] - 0s 2ms/step - loss: 0.4941 - accuracy: 0.7701 - val_loss: 0.4788 - val_accuracy: 0.7589\n",
      "Epoch 95/200\n",
      "9/9 [==============================] - 0s 2ms/step - loss: 0.4945 - accuracy: 0.7739 - val_loss: 0.4784 - val_accuracy: 0.7589\n",
      "Epoch 96/200\n",
      "9/9 [==============================] - 0s 2ms/step - loss: 0.4802 - accuracy: 0.7625 - val_loss: 0.4779 - val_accuracy: 0.7589\n",
      "Epoch 97/200\n",
      "9/9 [==============================] - 0s 2ms/step - loss: 0.5017 - accuracy: 0.7720 - val_loss: 0.4781 - val_accuracy: 0.7589\n",
      "Epoch 98/200\n",
      "9/9 [==============================] - 0s 2ms/step - loss: 0.5006 - accuracy: 0.7682 - val_loss: 0.4782 - val_accuracy: 0.7723\n",
      "Epoch 99/200\n",
      "9/9 [==============================] - 0s 2ms/step - loss: 0.4949 - accuracy: 0.7625 - val_loss: 0.4781 - val_accuracy: 0.7679\n",
      "Epoch 100/200\n",
      "9/9 [==============================] - 0s 2ms/step - loss: 0.4773 - accuracy: 0.7605 - val_loss: 0.4780 - val_accuracy: 0.7634\n",
      "Epoch 101/200\n",
      "9/9 [==============================] - 0s 2ms/step - loss: 0.5019 - accuracy: 0.7548 - val_loss: 0.4781 - val_accuracy: 0.7679\n",
      "Epoch 102/200\n",
      "9/9 [==============================] - 0s 2ms/step - loss: 0.4849 - accuracy: 0.7682 - val_loss: 0.4781 - val_accuracy: 0.7679\n",
      "Epoch 103/200\n",
      "9/9 [==============================] - 0s 2ms/step - loss: 0.5039 - accuracy: 0.7682 - val_loss: 0.4781 - val_accuracy: 0.7723\n",
      "Epoch 104/200\n",
      "9/9 [==============================] - 0s 2ms/step - loss: 0.4890 - accuracy: 0.7816 - val_loss: 0.4779 - val_accuracy: 0.7634\n",
      "Epoch 105/200\n",
      "9/9 [==============================] - 0s 2ms/step - loss: 0.4979 - accuracy: 0.7682 - val_loss: 0.4779 - val_accuracy: 0.7634\n",
      "Epoch 106/200\n",
      "9/9 [==============================] - 0s 2ms/step - loss: 0.4912 - accuracy: 0.7605 - val_loss: 0.4782 - val_accuracy: 0.7679\n",
      "Epoch 107/200\n",
      "9/9 [==============================] - 0s 2ms/step - loss: 0.4746 - accuracy: 0.7720 - val_loss: 0.4777 - val_accuracy: 0.7634\n",
      "Epoch 108/200\n",
      "9/9 [==============================] - 0s 2ms/step - loss: 0.5068 - accuracy: 0.7586 - val_loss: 0.4776 - val_accuracy: 0.7679\n",
      "Epoch 109/200\n",
      "1/9 [==>...........................] - ETA: 0s - loss: 0.5571 - accuracy: 0.7344Restoring model weights from the end of the best epoch: 59.\n",
      "9/9 [==============================] - 0s 2ms/step - loss: 0.4874 - accuracy: 0.7625 - val_loss: 0.4776 - val_accuracy: 0.7723\n",
      "Epoch 109: early stopping\n"
     ]
    }
   ],
   "source": [
    "history = model.fit(X_train, y_train, epochs=200, initial_epoch=5, batch_size=64 ,validation_data=(X_test, y_test), callbacks=callback)"
   ]
  },
  {
   "cell_type": "code",
   "execution_count": 26,
   "id": "396ef906-481a-4dd3-a78f-244228b3ce02",
   "metadata": {},
   "outputs": [
    {
     "data": {
      "text/plain": [
       "<matplotlib.legend.Legend at 0x2a731fe10>"
      ]
     },
     "execution_count": 26,
     "metadata": {},
     "output_type": "execute_result"
    },
    {
     "data": {
      "image/png": "[encoded data removed]",
      "text/plain": [
       "<Figure size 640x480 with 1 Axes>"
      ]
     },
     "metadata": {},
     "output_type": "display_data"
    }
   ],
   "source": [
    "import matplotlib.pyplot as plt\n",
    "import seaborn as sns\n",
    "\n",
    "plt.plot(history.history['accuracy'], label='train')\n",
    "plt.plot(history.history['val_accuracy'], label='test')\n",
    "plt.legend()"
   ]
  },
  {
   "cell_type": "code",
   "execution_count": 27,
   "id": "76a1f482-613a-4b8d-82b7-0aacaf0d3fbd",
   "metadata": {},
   "outputs": [
    {
     "data": {
      "text/plain": [
       "<matplotlib.legend.Legend at 0x2ab0fd6d0>"
      ]
     },
     "execution_count": 27,
     "metadata": {},
     "output_type": "execute_result"
    },
    {
     "data": {
      "image/png": "[encoded data removed]",
      "text/plain": [
       "<Figure size 640x480 with 1 Axes>"
      ]
     },
     "metadata": {},
     "output_type": "display_data"
    }
   ],
   "source": [
    "plt.plot(history.history['loss'], label='train')\n",
    "plt.plot(history.history['val_loss'], label='test')\n",
    "plt.legend()"
   ]
  },
  {
   "cell_type": "code",
   "execution_count": 32,
   "id": "5dbcb3cf-e186-4a3e-a921-5c5ef373be60",
   "metadata": {},
   "outputs": [
    {
     "name": "stdout",
     "output_type": "stream",
     "text": [
      "7/7 [==============================] - 0s 891us/step\n"
     ]
    }
   ],
   "source": [
    "predictions = model.predict(X_test)"
   ]
  },
  {
   "cell_type": "code",
   "execution_count": 33,
   "id": "af90d8cf-009b-4c05-ad85-0ed5c214dd1a",
   "metadata": {},
   "outputs": [],
   "source": [
    "# cut-off will be < 0.5 because it is more important for people how have diabetes to be diagnosed\n",
    "predictions = np.where(predictions > 0.45, 1,0)"
   ]
  },
  {
   "cell_type": "code",
   "execution_count": 34,
   "id": "5d35144d-f034-4fbb-9675-6731770a4943",
   "metadata": {},
   "outputs": [
    {
     "name": "stdout",
     "output_type": "stream",
     "text": [
      "Classification Report:\n",
      "               precision    recall  f1-score   support\n",
      "\n",
      "           0       0.79      0.83      0.81       148\n",
      "           1       0.64      0.58      0.61        76\n",
      "\n",
      "    accuracy                           0.75       224\n",
      "   macro avg       0.72      0.71      0.71       224\n",
      "weighted avg       0.74      0.75      0.74       224\n",
      "\n"
     ]
    },
    {
     "data": {
      "text/plain": [
       "Text(0.5, 1.0, 'Confusion Matrix')"
      ]
     },
     "execution_count": 34,
     "metadata": {},
     "output_type": "execute_result"
    },
    {
     "data": {
      "image/png": "[encoded data removed]",
      "text/plain": [
       "<Figure size 640x480 with 1 Axes>"
      ]
     },
     "metadata": {},
     "output_type": "display_data"
    }
   ],
   "source": [
    "from sklearn.metrics import classification_report, confusion_matrix\n",
    "\n",
    "print(\"Classification Report:\\n\", classification_report(y_test, predictions))\n",
    "\n",
    "conf_matrix = confusion_matrix(y_test, predictions)\n",
    "sns.heatmap(conf_matrix, annot=True, fmt='d', cmap='Blues', cbar=False)\n",
    "plt.xlabel('Predicted Labels')\n",
    "plt.ylabel('True Labels')\n",
    "plt.title('Confusion Matrix')"
   ]
  },
  {
   "cell_type": "code",
   "execution_count": 31,
   "id": "c25ac24e-a2ce-47ae-a404-b47f8e49254c",
   "metadata": {},
   "outputs": [
    {
     "data": {
      "text/plain": [
       "['scaler.joblib']"
      ]
     },
     "execution_count": 31,
     "metadata": {},
     "output_type": "execute_result"
    }
   ],
   "source": [
    "from joblib import dump, load\n",
    "dump(model, 'model.joblib') \n",
    "dump(scaler, 'scaler.joblib') "
   ]
  }
 ],
 "metadata": {
  "kernelspec": {
   "display_name": "Python 3 (ipykernel)",
   "language": "python",
   "name": "python3"
  },
  "language_info": {
   "codemirror_mode": {
    "name": "ipython",
    "version": 3
   },
   "file_extension": ".py",
   "mimetype": "text/x-python",
   "name": "python",
   "nbconvert_exporter": "python",
   "pygments_lexer": "ipython3",
   "version": "3.11.5"
  }
 },
 "nbformat": 4,
 "nbformat_minor": 5
}
