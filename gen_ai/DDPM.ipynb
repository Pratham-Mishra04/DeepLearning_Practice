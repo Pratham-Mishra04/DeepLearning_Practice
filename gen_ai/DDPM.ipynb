{
  "nbformat": 4,
  "nbformat_minor": 0,
  "metadata": {
    "colab": {
      "provenance": [],
      "gpuType": "T4"
    },
    "kernelspec": {
      "name": "python3",
      "display_name": "Python 3"
    },
    "language_info": {
      "name": "python"
    },
    "accelerator": "GPU"
  },
  "cells": [
    {
      "cell_type": "code",
      "source": [
        "! mkdir ~/.kaggle\n",
        "! cp kaggle.json ~/.kaggle/\n",
        "! chmod 600 ~/.kaggle/kaggle.json\n",
        "! kaggle datasets download oddrationale/mnist-in-csv\n",
        "! unzip mnist-in-csv.zip"
      ],
      "metadata": {
        "colab": {
          "base_uri": "https://localhost:8080/"
        },
        "id": "liORA_tWKHZP",
        "outputId": "3b2da5ce-4b6d-43e1-89e1-f4ab1a4074ed"
      },
      "execution_count": null,
      "outputs": [
        {
          "output_type": "stream",
          "name": "stdout",
          "text": [
            "Dataset URL: https://www.kaggle.com/datasets/oddrationale/mnist-in-csv\n",
            "License(s): CC0-1.0\n",
            "Downloading mnist-in-csv.zip to /content\n",
            " 72% 11.0M/15.2M [00:00<00:00, 56.4MB/s]\n",
            "100% 15.2M/15.2M [00:00<00:00, 72.8MB/s]\n",
            "Archive:  mnist-in-csv.zip\n",
            "  inflating: mnist_test.csv          \n",
            "  inflating: mnist_train.csv         \n"
          ]
        }
      ]
    },
    {
      "cell_type": "code",
      "source": [
        "from google.colab import drive\n",
        "drive.mount('/content/drive')"
      ],
      "metadata": {
        "colab": {
          "base_uri": "https://localhost:8080/"
        },
        "id": "DW2KxWK8YItv",
        "outputId": "20dba54f-1671-4882-e8f8-f57fe204824c"
      },
      "execution_count": null,
      "outputs": [
        {
          "output_type": "stream",
          "name": "stdout",
          "text": [
            "Mounted at /content/drive\n"
          ]
        }
      ]
    },
    {
      "cell_type": "markdown",
      "source": [
        "# Config"
      ],
      "metadata": {
        "id": "HqvuDVXgLXdI"
      }
    },
    {
      "cell_type": "code",
      "source": [
        "dataset_config = {\n",
        "  \"im_path\": 'mnist'\n",
        "}\n",
        "\n",
        "diffusion_config = {\n",
        "  \"num_timesteps\" : 1000,\n",
        "  \"beta_start\" : 0.0001,\n",
        "  \"beta_end\" : 0.02,\n",
        "}\n",
        "\n",
        "model_config = {\n",
        "  \"im_channels\" : 1,\n",
        "  \"im_size\" : 28,\n",
        "  \"down_channels\" : [32, 64, 128, 256],\n",
        "  \"mid_channels\" : [256, 256, 128],\n",
        "  \"down_sample\" : [True, True, False],\n",
        "  \"time_emb_dim\" : 128,\n",
        "  \"num_down_layers\" : 2,\n",
        "  \"num_mid_layers\" : 2,\n",
        "  \"num_up_layers\" : 2,\n",
        "  \"num_heads\" : 4,\n",
        "}\n",
        "\n",
        "train_config = {\n",
        "  \"ckpt_path\": 'drive/MyDrive/ddpm/model_checkpoints',\n",
        "  \"imgs_path\": 'drive/MyDrive/ddpm/learning_images',\n",
        "  \"batch_size\": 64,\n",
        "  \"num_epochs\": 40,\n",
        "  \"num_samples\" : 10,\n",
        "  \"num_grid_rows\" : 10,\n",
        "  \"lr\": 0.0001,\n",
        "  \"ckpt_name\": 'ddpm_ckpt.pth',\n",
        "}"
      ],
      "metadata": {
        "id": "RldysCb-LYkf"
      },
      "execution_count": null,
      "outputs": []
    },
    {
      "cell_type": "code",
      "source": [
        "import os\n",
        "\n",
        "# Create image directory\n",
        "if not os.path.exists(dataset_config['im_path']):\n",
        "  os.mkdir(dataset_config['im_path'])"
      ],
      "metadata": {
        "id": "qz-8HSOCPYUE"
      },
      "execution_count": null,
      "outputs": []
    },
    {
      "cell_type": "code",
      "source": [
        "import torch\n",
        "\n",
        "device = torch.device(\"cuda\" if torch.cuda.is_available() else \"cpu\")"
      ],
      "metadata": {
        "id": "dOvPk5ffkJwF"
      },
      "execution_count": null,
      "outputs": []
    },
    {
      "cell_type": "markdown",
      "source": [
        "#Loading the Dataset"
      ],
      "metadata": {
        "id": "yHexguv5IkG9"
      }
    },
    {
      "cell_type": "code",
      "source": [
        "import os\n",
        "import cv2\n",
        "from tqdm import tqdm\n",
        "import numpy as np\n",
        "import _csv as csv\n",
        "\n",
        "def extract_images(save_dir, csv_fname):\n",
        "    assert os.path.exists(save_dir), \"Directory {} to save images does not exist\".format(save_dir)\n",
        "    assert os.path.exists(csv_fname), \"Csv file {} does not exist\".format(csv_fname)\n",
        "    with open(csv_fname) as f:\n",
        "        reader = csv.reader(f)\n",
        "        for idx, row in enumerate(reader):\n",
        "            if idx == 0:\n",
        "                continue\n",
        "            im = np.zeros((784))\n",
        "            im[:] = list(map(int, row[1:]))\n",
        "            im = im.reshape((28,28))\n",
        "            if not os.path.exists(os.path.join(save_dir, row[0])):\n",
        "                os.mkdir(os.path.join(save_dir, row[0]))\n",
        "            cv2.imwrite(os.path.join(save_dir, row[0], '{}.png'.format(idx)), im)\n",
        "            if idx % 10000 == 0:\n",
        "                print('Finished creating {} images in {}'.format(idx+1, save_dir))\n",
        "\n",
        "extract_images(dataset_config['im_path'], 'mnist_train.csv')"
      ],
      "metadata": {
        "colab": {
          "base_uri": "https://localhost:8080/"
        },
        "id": "wnheAA7bKLS-",
        "outputId": "a84fb2b3-402f-4696-b0f9-31402feb843e"
      },
      "execution_count": null,
      "outputs": [
        {
          "output_type": "stream",
          "name": "stdout",
          "text": [
            "Finished creating 10001 images in mnist\n",
            "Finished creating 20001 images in mnist\n",
            "Finished creating 30001 images in mnist\n",
            "Finished creating 40001 images in mnist\n",
            "Finished creating 50001 images in mnist\n",
            "Finished creating 60001 images in mnist\n"
          ]
        }
      ]
    },
    {
      "cell_type": "code",
      "execution_count": null,
      "metadata": {
        "id": "LiGNQ7jbIUp8"
      },
      "outputs": [],
      "source": [
        "import glob\n",
        "import os\n",
        "\n",
        "import torchvision\n",
        "from PIL import Image\n",
        "from tqdm import tqdm\n",
        "from torch.utils.data.dataloader import DataLoader\n",
        "from torch.utils.data.dataset import Dataset\n",
        "\n",
        "\n",
        "class MnistDataset(Dataset):\n",
        "    r\"\"\"\n",
        "    Nothing special here. Just a simple dataset class for mnist images.\n",
        "    Created a dataset class rather using torchvision to allow\n",
        "    replacement with any other image dataset\n",
        "    \"\"\"\n",
        "    def __init__(self, split, im_path, im_ext='png'):\n",
        "        r\"\"\"\n",
        "        Init method for initializing the dataset properties\n",
        "        :param split: train/test to locate the image files\n",
        "        :param im_path: root folder of images\n",
        "        :param im_ext: image extension. assumes all\n",
        "        images would be this type.\n",
        "        \"\"\"\n",
        "        self.split = split\n",
        "        self.im_ext = im_ext\n",
        "        self.images, self.labels = self.load_images(im_path)\n",
        "\n",
        "    def load_images(self, im_path):\n",
        "        r\"\"\"\n",
        "        Gets all images from the path specified\n",
        "        and stacks them all up\n",
        "        :param im_path:\n",
        "        :return:\n",
        "        \"\"\"\n",
        "        assert os.path.exists(im_path), \"images path {} does not exist\".format(im_path)\n",
        "        ims = []\n",
        "        labels = []\n",
        "        for d_name in tqdm(os.listdir(im_path)):\n",
        "            for fname in glob.glob(os.path.join(im_path, d_name, '*.{}'.format(self.im_ext))):\n",
        "                ims.append(fname)\n",
        "                labels.append(int(d_name))\n",
        "        print('Found {} images for split {}'.format(len(ims), self.split))\n",
        "        return ims, labels\n",
        "\n",
        "    def __len__(self):\n",
        "        return len(self.images)\n",
        "\n",
        "    def __getitem__(self, index):\n",
        "        im = Image.open(self.images[index])\n",
        "        im_tensor = torchvision.transforms.ToTensor()(im)\n",
        "\n",
        "        # Convert input to -1 to 1 range.\n",
        "        im_tensor = (2 * im_tensor) - 1\n",
        "        return im_tensor"
      ]
    },
    {
      "cell_type": "code",
      "source": [
        "mnist = MnistDataset('', im_path=dataset_config['im_path'])\n",
        "mnist_loader = DataLoader(mnist, batch_size=train_config['batch_size'], shuffle=True, num_workers=4)"
      ],
      "metadata": {
        "colab": {
          "base_uri": "https://localhost:8080/"
        },
        "id": "IzEqWQbiMYeA",
        "outputId": "459cde18-3cba-4b98-b375-674693a22c88"
      },
      "execution_count": null,
      "outputs": [
        {
          "output_type": "stream",
          "name": "stderr",
          "text": [
            "100%|██████████| 10/10 [00:00<00:00, 75.16it/s]"
          ]
        },
        {
          "output_type": "stream",
          "name": "stdout",
          "text": [
            "Found 60000 images for split \n"
          ]
        },
        {
          "output_type": "stream",
          "name": "stderr",
          "text": [
            "\n",
            "/usr/local/lib/python3.10/dist-packages/torch/utils/data/dataloader.py:617: UserWarning: This DataLoader will create 4 worker processes in total. Our suggested max number of worker in current system is 2, which is smaller than what this DataLoader is going to create. Please be aware that excessive worker creation might get DataLoader running slow or even freeze, lower the worker number to avoid potential slowness/freeze if necessary.\n",
            "  warnings.warn(\n"
          ]
        }
      ]
    },
    {
      "cell_type": "markdown",
      "source": [
        "# Building the Model"
      ],
      "metadata": {
        "id": "jyR1BJFxNHYu"
      }
    },
    {
      "cell_type": "markdown",
      "source": [
        "## Building the Noise Scheduler"
      ],
      "metadata": {
        "id": "FmwqaiJCNJDZ"
      }
    },
    {
      "cell_type": "code",
      "source": [
        "import torch\n",
        "\n",
        "\n",
        "class LinearNoiseScheduler:\n",
        "    r\"\"\"\n",
        "    Class for the linear noise scheduler that is used in DDPM.\n",
        "    \"\"\"\n",
        "    def __init__(self, num_timesteps, beta_start, beta_end):\n",
        "        self.num_timesteps = num_timesteps\n",
        "        self.beta_start = beta_start\n",
        "        self.beta_end = beta_end\n",
        "\n",
        "        self.betas = torch.linspace(beta_start, beta_end, num_timesteps)\n",
        "        self.alphas = 1. - self.betas\n",
        "        self.alpha_cum_prod = torch.cumprod(self.alphas, dim=0)\n",
        "        self.sqrt_alpha_cum_prod = torch.sqrt(self.alpha_cum_prod)\n",
        "        self.sqrt_one_minus_alpha_cum_prod = torch.sqrt(1 - self.alpha_cum_prod)\n",
        "\n",
        "    def add_noise(self, original, noise, t):\n",
        "        r\"\"\"\n",
        "        Forward method for diffusion\n",
        "        :param original: Image on which noise is to be applied\n",
        "        :param noise: Random Noise Tensor (from normal dist)\n",
        "        :param t: timestep of the forward process of shape -> (B,)\n",
        "        :return:\n",
        "        \"\"\"\n",
        "        original_shape = original.shape\n",
        "        batch_size = original_shape[0]\n",
        "\n",
        "        sqrt_alpha_cum_prod = self.sqrt_alpha_cum_prod.to(original.device)[t].reshape(batch_size)\n",
        "        sqrt_one_minus_alpha_cum_prod = self.sqrt_one_minus_alpha_cum_prod.to(original.device)[t].reshape(batch_size)\n",
        "\n",
        "        # Reshape till (B,) becomes (B,1,1,1) if image is (B,C,H,W)\n",
        "        for _ in range(len(original_shape) - 1):\n",
        "            sqrt_alpha_cum_prod = sqrt_alpha_cum_prod.unsqueeze(-1)\n",
        "        for _ in range(len(original_shape) - 1):\n",
        "            sqrt_one_minus_alpha_cum_prod = sqrt_one_minus_alpha_cum_prod.unsqueeze(-1)\n",
        "\n",
        "        # Apply and Return Forward process equation\n",
        "        return (sqrt_alpha_cum_prod.to(original.device) * original\n",
        "                + sqrt_one_minus_alpha_cum_prod.to(original.device) * noise)\n",
        "\n",
        "    def sample_prev_timestep(self, xt, noise_pred, t):\n",
        "        r\"\"\"\n",
        "            Use the noise prediction by model to get\n",
        "            xt-1 using xt and the noise predicted\n",
        "        :param xt: current timestep sample\n",
        "        :param noise_pred: model noise prediction\n",
        "        :param t: current timestep we are at\n",
        "        :return:\n",
        "        \"\"\"\n",
        "        x0 = ((xt - (self.sqrt_one_minus_alpha_cum_prod.to(xt.device)[t] * noise_pred)) /\n",
        "              torch.sqrt(self.alpha_cum_prod.to(xt.device)[t]))\n",
        "        x0 = torch.clamp(x0, -1., 1.)\n",
        "\n",
        "        mean = xt - ((self.betas.to(xt.device)[t]) * noise_pred) / (self.sqrt_one_minus_alpha_cum_prod.to(xt.device)[t])\n",
        "        mean = mean / torch.sqrt(self.alphas.to(xt.device)[t])\n",
        "\n",
        "        if t == 0:\n",
        "            return mean, x0\n",
        "        else:\n",
        "            variance = (1 - self.alpha_cum_prod.to(xt.device)[t - 1]) / (1.0 - self.alpha_cum_prod.to(xt.device)[t])\n",
        "            variance = variance * self.betas.to(xt.device)[t]\n",
        "            sigma = variance ** 0.5\n",
        "            z = torch.randn(xt.shape).to(xt.device)\n",
        "\n",
        "            # OR\n",
        "            # variance = self.betas[t]\n",
        "            # sigma = variance ** 0.5\n",
        "            # z = torch.randn(xt.shape).to(xt.device)\n",
        "            return mean + sigma * z, x0"
      ],
      "metadata": {
        "id": "lHHn_Gs_Mtok"
      },
      "execution_count": null,
      "outputs": []
    },
    {
      "cell_type": "code",
      "source": [
        "scheduler = LinearNoiseScheduler(num_timesteps=diffusion_config['num_timesteps'],\n",
        "                                     beta_start=diffusion_config['beta_start'],\n",
        "                                     beta_end=diffusion_config['beta_end'])"
      ],
      "metadata": {
        "id": "Cp3Hbf9dN7so"
      },
      "execution_count": null,
      "outputs": []
    },
    {
      "cell_type": "code",
      "source": [
        "import matplotlib.pyplot as plt\n",
        "import torch\n",
        "from torchvision.utils import make_grid\n",
        "\n",
        "def visualize_forward_process(dataset_loader, noise_scheduler, image_index=0, num_steps=100, step_interval=50):\n",
        "    # Get a sample image from the dataset\n",
        "    dataset_iter = iter(dataset_loader)\n",
        "    images = next(dataset_iter)  # We only get one value: the images\n",
        "\n",
        "    image = images[image_index].unsqueeze(0)  # Add batch dimension\n",
        "\n",
        "    # Create a random noise tensor with the same shape as the image\n",
        "    noise = torch.randn_like(image)\n",
        "\n",
        "    # Set up the figure for visualization, calculating how many rows and columns for the grid\n",
        "    timesteps_to_show = range(0, num_steps, step_interval)\n",
        "    num_images = len(timesteps_to_show)\n",
        "    grid_cols = 5\n",
        "    grid_rows = (num_images + grid_cols - 1) // grid_cols  # Calculate the number of rows needed\n",
        "\n",
        "    # Create a list to hold the images\n",
        "    grid_images = []\n",
        "\n",
        "    # Add the original image as the first image in the grid\n",
        "    grid_images.append(image.squeeze(0))\n",
        "\n",
        "    # Add noisy images at each selected timestep\n",
        "    for t in timesteps_to_show:\n",
        "        noisy_image = noise_scheduler.add_noise(image, noise, t)\n",
        "        grid_images.append(noisy_image.squeeze(0))\n",
        "\n",
        "    # Make the grid of images\n",
        "    grid_image = make_grid(grid_images, nrow=grid_cols, padding=5)\n",
        "\n",
        "    # Plot the grid of images\n",
        "    plt.figure(figsize=(12, grid_rows * 2))\n",
        "    plt.imshow(grid_image.permute(1, 2, 0).cpu().numpy(), cmap='gray')\n",
        "    plt.axis('off')\n",
        "    plt.title(f'Forward Process: Noising at {num_steps} Steps')\n",
        "    plt.show()"
      ],
      "metadata": {
        "id": "RuVwv1y7Rm74"
      },
      "execution_count": null,
      "outputs": []
    },
    {
      "cell_type": "code",
      "source": [
        "image_index = 0  # Index of the image you want to visualize\n",
        "num_steps = 450\n",
        "\n",
        "visualize_forward_process(mnist_loader, scheduler, image_index=image_index, num_steps=num_steps)"
      ],
      "metadata": {
        "colab": {
          "base_uri": "https://localhost:8080/",
          "height": 364
        },
        "id": "lvoAJ4lpRrrG",
        "outputId": "55c56a90-8e4e-4e7c-c75d-46fa46b650a8"
      },
      "execution_count": null,
      "outputs": [
        {
          "output_type": "stream",
          "name": "stderr",
          "text": [
            "WARNING:matplotlib.image:Clipping input data to the valid range for imshow with RGB data ([0..1] for floats or [0..255] for integers).\n"
          ]
        },
        {
          "output_type": "display_data",
          "data": {
            "text/plain": [
              "<Figure size 1200x400 with 1 Axes>"
            ],
            "image/png": "[encoded data removed]"
          },
          "metadata": {}
        }
      ]
    },
    {
      "cell_type": "markdown",
      "source": [
        "## Building the U-NET Model"
      ],
      "metadata": {
        "id": "9fV10wAnNdWL"
      }
    },
    {
      "cell_type": "code",
      "source": [
        "import torch\n",
        "import torch.nn as nn\n",
        "\n",
        "\n",
        "def get_time_embedding(time_steps, temb_dim):\n",
        "    r\"\"\"\n",
        "    Convert time steps tensor into an embedding using the\n",
        "    sinusoidal time embedding formula\n",
        "    :param time_steps: 1D tensor of length batch size\n",
        "    :param temb_dim: Dimension of the embedding\n",
        "    :return: BxD embedding representation of B time steps\n",
        "    \"\"\"\n",
        "    assert temb_dim % 2 == 0, \"time embedding dimension must be divisible by 2\"\n",
        "\n",
        "    # factor = 10000^(2i/d_model)\n",
        "    factor = 10000 ** ((torch.arange(\n",
        "        start=0, end=temb_dim // 2, dtype=torch.float32, device=time_steps.device) / (temb_dim // 2))\n",
        "    )\n",
        "\n",
        "    # pos / factor\n",
        "    # timesteps B -> B, 1 -> B, temb_dim\n",
        "    t_emb = time_steps[:, None].repeat(1, temb_dim // 2) / factor\n",
        "    t_emb = torch.cat([torch.sin(t_emb), torch.cos(t_emb)], dim=-1)\n",
        "    return t_emb"
      ],
      "metadata": {
        "id": "mWesuqBdNVvM"
      },
      "execution_count": null,
      "outputs": []
    },
    {
      "cell_type": "code",
      "source": [
        "class DownBlock(nn.Module):\n",
        "    r\"\"\"\n",
        "    Down conv block with attention.\n",
        "    Sequence of following block\n",
        "    1. Resnet block with time embedding\n",
        "    2. Attention block\n",
        "    3. Downsample using 2x2 average pooling\n",
        "    \"\"\"\n",
        "    def __init__(self, in_channels, out_channels, t_emb_dim,\n",
        "                 down_sample=True, num_heads=4, num_layers=1):\n",
        "        super().__init__()\n",
        "        self.num_layers = num_layers\n",
        "        self.down_sample = down_sample\n",
        "        self.resnet_conv_first = nn.ModuleList(\n",
        "            [\n",
        "                nn.Sequential(\n",
        "                    nn.GroupNorm(8, in_channels if i == 0 else out_channels),\n",
        "                    nn.SiLU(),\n",
        "                    nn.Conv2d(in_channels if i == 0 else out_channels, out_channels,\n",
        "                              kernel_size=3, stride=1, padding=1),\n",
        "                )\n",
        "                for i in range(num_layers)\n",
        "            ]\n",
        "        )\n",
        "        self.t_emb_layers = nn.ModuleList([\n",
        "            nn.Sequential(\n",
        "                nn.SiLU(),\n",
        "                nn.Linear(t_emb_dim, out_channels)\n",
        "            )\n",
        "            for _ in range(num_layers)\n",
        "        ])\n",
        "        self.resnet_conv_second = nn.ModuleList(\n",
        "            [\n",
        "                nn.Sequential(\n",
        "                    nn.GroupNorm(8, out_channels),\n",
        "                    nn.SiLU(),\n",
        "                    nn.Conv2d(out_channels, out_channels,\n",
        "                              kernel_size=3, stride=1, padding=1),\n",
        "                )\n",
        "                for _ in range(num_layers)\n",
        "            ]\n",
        "        )\n",
        "        self.attention_norms = nn.ModuleList(\n",
        "            [nn.GroupNorm(8, out_channels)\n",
        "             for _ in range(num_layers)]\n",
        "        )\n",
        "\n",
        "        self.attentions = nn.ModuleList(\n",
        "            [nn.MultiheadAttention(out_channels, num_heads, batch_first=True)\n",
        "             for _ in range(num_layers)]\n",
        "        )\n",
        "        self.residual_input_conv = nn.ModuleList(\n",
        "            [\n",
        "                nn.Conv2d(in_channels if i == 0 else out_channels, out_channels, kernel_size=1)\n",
        "                for i in range(num_layers)\n",
        "            ]\n",
        "        )\n",
        "        self.down_sample_conv = nn.Conv2d(out_channels, out_channels,\n",
        "                                          4, 2, 1) if self.down_sample else nn.Identity()\n",
        "\n",
        "    def forward(self, x, t_emb):\n",
        "        out = x\n",
        "        for i in range(self.num_layers):\n",
        "\n",
        "            # Resnet block of Unet\n",
        "            resnet_input = out\n",
        "            out = self.resnet_conv_first[i](out)\n",
        "            out = out + self.t_emb_layers[i](t_emb)[:, :, None, None]\n",
        "            out = self.resnet_conv_second[i](out)\n",
        "            out = out + self.residual_input_conv[i](resnet_input)\n",
        "\n",
        "            # Attention block of Unet\n",
        "            batch_size, channels, h, w = out.shape\n",
        "            in_attn = out.reshape(batch_size, channels, h * w)\n",
        "            in_attn = self.attention_norms[i](in_attn)\n",
        "            in_attn = in_attn.transpose(1, 2)\n",
        "            out_attn, _ = self.attentions[i](in_attn, in_attn, in_attn)\n",
        "            out_attn = out_attn.transpose(1, 2).reshape(batch_size, channels, h, w)\n",
        "            out = out + out_attn\n",
        "\n",
        "        out = self.down_sample_conv(out)\n",
        "        return out"
      ],
      "metadata": {
        "id": "JdhGdISSNsuP"
      },
      "execution_count": null,
      "outputs": []
    },
    {
      "cell_type": "code",
      "source": [
        "class MidBlock(nn.Module):\n",
        "    r\"\"\"\n",
        "    Mid conv block with attention.\n",
        "    Sequence of following blocks\n",
        "    1. Resnet block with time embedding\n",
        "    2. Attention block\n",
        "    3. Resnet block with time embedding\n",
        "    \"\"\"\n",
        "    def __init__(self, in_channels, out_channels, t_emb_dim, num_heads=4, num_layers=1):\n",
        "        super().__init__()\n",
        "        self.num_layers = num_layers\n",
        "        self.resnet_conv_first = nn.ModuleList(\n",
        "            [\n",
        "                nn.Sequential(\n",
        "                    nn.GroupNorm(8, in_channels if i == 0 else out_channels),\n",
        "                    nn.SiLU(),\n",
        "                    nn.Conv2d(in_channels if i == 0 else out_channels, out_channels, kernel_size=3, stride=1,\n",
        "                              padding=1),\n",
        "                )\n",
        "                for i in range(num_layers+1)\n",
        "            ]\n",
        "        )\n",
        "        self.t_emb_layers = nn.ModuleList([\n",
        "            nn.Sequential(\n",
        "                nn.SiLU(),\n",
        "                nn.Linear(t_emb_dim, out_channels)\n",
        "            )\n",
        "            for _ in range(num_layers + 1)\n",
        "        ])\n",
        "        self.resnet_conv_second = nn.ModuleList(\n",
        "            [\n",
        "                nn.Sequential(\n",
        "                    nn.GroupNorm(8, out_channels),\n",
        "                    nn.SiLU(),\n",
        "                    nn.Conv2d(out_channels, out_channels, kernel_size=3, stride=1, padding=1),\n",
        "                )\n",
        "                for _ in range(num_layers+1)\n",
        "            ]\n",
        "        )\n",
        "\n",
        "        self.attention_norms = nn.ModuleList(\n",
        "            [nn.GroupNorm(8, out_channels)\n",
        "                for _ in range(num_layers)]\n",
        "        )\n",
        "\n",
        "        self.attentions = nn.ModuleList(\n",
        "            [nn.MultiheadAttention(out_channels, num_heads, batch_first=True)\n",
        "                for _ in range(num_layers)]\n",
        "        )\n",
        "        self.residual_input_conv = nn.ModuleList(\n",
        "            [\n",
        "                nn.Conv2d(in_channels if i == 0 else out_channels, out_channels, kernel_size=1)\n",
        "                for i in range(num_layers+1)\n",
        "            ]\n",
        "        )\n",
        "\n",
        "    def forward(self, x, t_emb):\n",
        "        out = x\n",
        "\n",
        "        # First resnet block\n",
        "        resnet_input = out\n",
        "        out = self.resnet_conv_first[0](out)\n",
        "        out = out + self.t_emb_layers[0](t_emb)[:, :, None, None]\n",
        "        out = self.resnet_conv_second[0](out)\n",
        "        out = out + self.residual_input_conv[0](resnet_input)\n",
        "\n",
        "        for i in range(self.num_layers):\n",
        "\n",
        "            # Attention Block\n",
        "            batch_size, channels, h, w = out.shape\n",
        "            in_attn = out.reshape(batch_size, channels, h * w)\n",
        "            in_attn = self.attention_norms[i](in_attn)\n",
        "            in_attn = in_attn.transpose(1, 2)\n",
        "            out_attn, _ = self.attentions[i](in_attn, in_attn, in_attn)\n",
        "            out_attn = out_attn.transpose(1, 2).reshape(batch_size, channels, h, w)\n",
        "            out = out + out_attn\n",
        "\n",
        "            # Resnet Block\n",
        "            resnet_input = out\n",
        "            out = self.resnet_conv_first[i+1](out)\n",
        "            out = out + self.t_emb_layers[i+1](t_emb)[:, :, None, None]\n",
        "            out = self.resnet_conv_second[i+1](out)\n",
        "            out = out + self.residual_input_conv[i+1](resnet_input)\n",
        "\n",
        "        return out"
      ],
      "metadata": {
        "id": "115Aq_cRNx4K"
      },
      "execution_count": null,
      "outputs": []
    },
    {
      "cell_type": "code",
      "source": [
        "class UpBlock(nn.Module):\n",
        "    r\"\"\"\n",
        "    Up conv block with attention.\n",
        "    Sequence of following blocks\n",
        "    1. Upsample\n",
        "    1. Concatenate Down block output\n",
        "    2. Resnet block with time embedding\n",
        "    3. Attention Block\n",
        "    \"\"\"\n",
        "    def __init__(self, in_channels, out_channels, t_emb_dim, up_sample=True, num_heads=4, num_layers=1):\n",
        "        super().__init__()\n",
        "        self.num_layers = num_layers\n",
        "        self.up_sample = up_sample\n",
        "        self.resnet_conv_first = nn.ModuleList(\n",
        "            [\n",
        "                nn.Sequential(\n",
        "                    nn.GroupNorm(8, in_channels if i == 0 else out_channels),\n",
        "                    nn.SiLU(),\n",
        "                    nn.Conv2d(in_channels if i == 0 else out_channels, out_channels, kernel_size=3, stride=1,\n",
        "                              padding=1),\n",
        "                )\n",
        "                for i in range(num_layers)\n",
        "            ]\n",
        "        )\n",
        "        self.t_emb_layers = nn.ModuleList([\n",
        "            nn.Sequential(\n",
        "                nn.SiLU(),\n",
        "                nn.Linear(t_emb_dim, out_channels)\n",
        "            )\n",
        "            for _ in range(num_layers)\n",
        "        ])\n",
        "        self.resnet_conv_second = nn.ModuleList(\n",
        "            [\n",
        "                nn.Sequential(\n",
        "                    nn.GroupNorm(8, out_channels),\n",
        "                    nn.SiLU(),\n",
        "                    nn.Conv2d(out_channels, out_channels, kernel_size=3, stride=1, padding=1),\n",
        "                )\n",
        "                for _ in range(num_layers)\n",
        "            ]\n",
        "        )\n",
        "\n",
        "        self.attention_norms = nn.ModuleList(\n",
        "            [\n",
        "                nn.GroupNorm(8, out_channels)\n",
        "                for _ in range(num_layers)\n",
        "            ]\n",
        "        )\n",
        "\n",
        "        self.attentions = nn.ModuleList(\n",
        "            [\n",
        "                nn.MultiheadAttention(out_channels, num_heads, batch_first=True)\n",
        "                for _ in range(num_layers)\n",
        "            ]\n",
        "        )\n",
        "        self.residual_input_conv = nn.ModuleList(\n",
        "            [\n",
        "                nn.Conv2d(in_channels if i == 0 else out_channels, out_channels, kernel_size=1)\n",
        "                for i in range(num_layers)\n",
        "            ]\n",
        "        )\n",
        "        self.up_sample_conv = nn.ConvTranspose2d(in_channels // 2, in_channels // 2,\n",
        "                                                 4, 2, 1) \\\n",
        "            if self.up_sample else nn.Identity()\n",
        "\n",
        "    def forward(self, x, out_down, t_emb):\n",
        "        x = self.up_sample_conv(x)\n",
        "        x = torch.cat([x, out_down], dim=1)\n",
        "\n",
        "        out = x\n",
        "        for i in range(self.num_layers):\n",
        "            resnet_input = out\n",
        "            out = self.resnet_conv_first[i](out)\n",
        "            out = out + self.t_emb_layers[i](t_emb)[:, :, None, None]\n",
        "            out = self.resnet_conv_second[i](out)\n",
        "            out = out + self.residual_input_conv[i](resnet_input)\n",
        "\n",
        "            batch_size, channels, h, w = out.shape\n",
        "            in_attn = out.reshape(batch_size, channels, h * w)\n",
        "            in_attn = self.attention_norms[i](in_attn)\n",
        "            in_attn = in_attn.transpose(1, 2)\n",
        "            out_attn, _ = self.attentions[i](in_attn, in_attn, in_attn)\n",
        "            out_attn = out_attn.transpose(1, 2).reshape(batch_size, channels, h, w)\n",
        "            out = out + out_attn\n",
        "\n",
        "        return out"
      ],
      "metadata": {
        "id": "mJcZRllUN3WF"
      },
      "execution_count": null,
      "outputs": []
    },
    {
      "cell_type": "code",
      "source": [
        "class Unet(nn.Module):\n",
        "    r\"\"\"\n",
        "    Unet model comprising\n",
        "    Down blocks, Midblocks and Uplocks\n",
        "    \"\"\"\n",
        "    def __init__(self, model_config):\n",
        "        super().__init__()\n",
        "        im_channels = model_config['im_channels']\n",
        "        self.down_channels = model_config['down_channels']\n",
        "        self.mid_channels = model_config['mid_channels']\n",
        "        self.t_emb_dim = model_config['time_emb_dim']\n",
        "        self.down_sample = model_config['down_sample']\n",
        "        self.num_down_layers = model_config['num_down_layers']\n",
        "        self.num_mid_layers = model_config['num_mid_layers']\n",
        "        self.num_up_layers = model_config['num_up_layers']\n",
        "\n",
        "        assert self.mid_channels[0] == self.down_channels[-1]\n",
        "        assert self.mid_channels[-1] == self.down_channels[-2]\n",
        "        assert len(self.down_sample) == len(self.down_channels) - 1\n",
        "\n",
        "        # Initial projection from sinusoidal time embedding\n",
        "        self.t_proj = nn.Sequential(\n",
        "            nn.Linear(self.t_emb_dim, self.t_emb_dim),\n",
        "            nn.SiLU(),\n",
        "            nn.Linear(self.t_emb_dim, self.t_emb_dim)\n",
        "        )\n",
        "\n",
        "        self.up_sample = list(reversed(self.down_sample))\n",
        "        self.conv_in = nn.Conv2d(im_channels, self.down_channels[0], kernel_size=3, padding=(1, 1))\n",
        "\n",
        "        self.downs = nn.ModuleList([])\n",
        "        for i in range(len(self.down_channels)-1):\n",
        "            self.downs.append(DownBlock(self.down_channels[i], self.down_channels[i+1], self.t_emb_dim,\n",
        "                                        down_sample=self.down_sample[i], num_layers=self.num_down_layers))\n",
        "\n",
        "        self.mids = nn.ModuleList([])\n",
        "        for i in range(len(self.mid_channels)-1):\n",
        "            self.mids.append(MidBlock(self.mid_channels[i], self.mid_channels[i+1], self.t_emb_dim,\n",
        "                                      num_layers=self.num_mid_layers))\n",
        "\n",
        "        self.ups = nn.ModuleList([])\n",
        "        for i in reversed(range(len(self.down_channels)-1)):\n",
        "            self.ups.append(UpBlock(self.down_channels[i] * 2, self.down_channels[i-1] if i != 0 else 16,\n",
        "                                    self.t_emb_dim, up_sample=self.down_sample[i], num_layers=self.num_up_layers))\n",
        "\n",
        "        self.norm_out = nn.GroupNorm(8, 16)\n",
        "        self.conv_out = nn.Conv2d(16, im_channels, kernel_size=3, padding=1)\n",
        "\n",
        "    def forward(self, x, t):\n",
        "        # Shapes assuming downblocks are [C1, C2, C3, C4]\n",
        "        # Shapes assuming midblocks are [C4, C4, C3]\n",
        "        # Shapes assuming downsamples are [True, True, False]\n",
        "        # B x C x H x W\n",
        "        out = self.conv_in(x)\n",
        "        # B x C1 x H x W\n",
        "\n",
        "        # t_emb -> B x t_emb_dim\n",
        "        t_emb = get_time_embedding(torch.as_tensor(t).long(), self.t_emb_dim)\n",
        "        t_emb = self.t_proj(t_emb)\n",
        "\n",
        "        down_outs = []\n",
        "\n",
        "        for idx, down in enumerate(self.downs):\n",
        "            down_outs.append(out)\n",
        "            out = down(out, t_emb)\n",
        "        # down_outs  [B x C1 x H x W, B x C2 x H/2 x W/2, B x C3 x H/4 x W/4]\n",
        "        # out B x C4 x H/4 x W/4\n",
        "\n",
        "        for mid in self.mids:\n",
        "            out = mid(out, t_emb)\n",
        "        # out B x C3 x H/4 x W/4\n",
        "\n",
        "        for up in self.ups:\n",
        "            down_out = down_outs.pop()\n",
        "            out = up(out, down_out, t_emb)\n",
        "            # out [B x C2 x H/4 x W/4, B x C1 x H/2 x W/2, B x 16 x H x W]\n",
        "        out = self.norm_out(out)\n",
        "        out = nn.SiLU()(out)\n",
        "        out = self.conv_out(out)\n",
        "        # out B x C x H x W\n",
        "        return out"
      ],
      "metadata": {
        "id": "vOC48W_YN5ez"
      },
      "execution_count": null,
      "outputs": []
    },
    {
      "cell_type": "markdown",
      "source": [
        "# Training the Model"
      ],
      "metadata": {
        "id": "KcmTUV-7OF7B"
      }
    },
    {
      "cell_type": "code",
      "source": [
        "device = torch.device('cuda' if torch.cuda.is_available() else 'cpu')"
      ],
      "metadata": {
        "id": "1cgQiBVVOOZA"
      },
      "execution_count": null,
      "outputs": []
    },
    {
      "cell_type": "code",
      "source": [
        "model = Unet(model_config).to(device)"
      ],
      "metadata": {
        "id": "kVuNtsP1OI7h"
      },
      "execution_count": null,
      "outputs": []
    },
    {
      "cell_type": "code",
      "source": [
        "model.train()"
      ],
      "metadata": {
        "colab": {
          "base_uri": "https://localhost:8080/"
        },
        "id": "TyZySDS-Ol3T",
        "outputId": "70a55687-b509-4a3d-845b-aca3921ded0a"
      },
      "execution_count": null,
      "outputs": [
        {
          "output_type": "execute_result",
          "data": {
            "text/plain": [
              "Unet(\n",
              "  (t_proj): Sequential(\n",
              "    (0): Linear(in_features=128, out_features=128, bias=True)\n",
              "    (1): SiLU()\n",
              "    (2): Linear(in_features=128, out_features=128, bias=True)\n",
              "  )\n",
              "  (conv_in): Conv2d(1, 32, kernel_size=(3, 3), stride=(1, 1), padding=(1, 1))\n",
              "  (downs): ModuleList(\n",
              "    (0): DownBlock(\n",
              "      (resnet_conv_first): ModuleList(\n",
              "        (0): Sequential(\n",
              "          (0): GroupNorm(8, 32, eps=1e-05, affine=True)\n",
              "          (1): SiLU()\n",
              "          (2): Conv2d(32, 64, kernel_size=(3, 3), stride=(1, 1), padding=(1, 1))\n",
              "        )\n",
              "        (1): Sequential(\n",
              "          (0): GroupNorm(8, 64, eps=1e-05, affine=True)\n",
              "          (1): SiLU()\n",
              "          (2): Conv2d(64, 64, kernel_size=(3, 3), stride=(1, 1), padding=(1, 1))\n",
              "        )\n",
              "      )\n",
              "      (t_emb_layers): ModuleList(\n",
              "        (0-1): 2 x Sequential(\n",
              "          (0): SiLU()\n",
              "          (1): Linear(in_features=128, out_features=64, bias=True)\n",
              "        )\n",
              "      )\n",
              "      (resnet_conv_second): ModuleList(\n",
              "        (0-1): 2 x Sequential(\n",
              "          (0): GroupNorm(8, 64, eps=1e-05, affine=True)\n",
              "          (1): SiLU()\n",
              "          (2): Conv2d(64, 64, kernel_size=(3, 3), stride=(1, 1), padding=(1, 1))\n",
              "        )\n",
              "      )\n",
              "      (attention_norms): ModuleList(\n",
              "        (0-1): 2 x GroupNorm(8, 64, eps=1e-05, affine=True)\n",
              "      )\n",
              "      (attentions): ModuleList(\n",
              "        (0-1): 2 x MultiheadAttention(\n",
              "          (out_proj): NonDynamicallyQuantizableLinear(in_features=64, out_features=64, bias=True)\n",
              "        )\n",
              "      )\n",
              "      (residual_input_conv): ModuleList(\n",
              "        (0): Conv2d(32, 64, kernel_size=(1, 1), stride=(1, 1))\n",
              "        (1): Conv2d(64, 64, kernel_size=(1, 1), stride=(1, 1))\n",
              "      )\n",
              "      (down_sample_conv): Conv2d(64, 64, kernel_size=(4, 4), stride=(2, 2), padding=(1, 1))\n",
              "    )\n",
              "    (1): DownBlock(\n",
              "      (resnet_conv_first): ModuleList(\n",
              "        (0): Sequential(\n",
              "          (0): GroupNorm(8, 64, eps=1e-05, affine=True)\n",
              "          (1): SiLU()\n",
              "          (2): Conv2d(64, 128, kernel_size=(3, 3), stride=(1, 1), padding=(1, 1))\n",
              "        )\n",
              "        (1): Sequential(\n",
              "          (0): GroupNorm(8, 128, eps=1e-05, affine=True)\n",
              "          (1): SiLU()\n",
              "          (2): Conv2d(128, 128, kernel_size=(3, 3), stride=(1, 1), padding=(1, 1))\n",
              "        )\n",
              "      )\n",
              "      (t_emb_layers): ModuleList(\n",
              "        (0-1): 2 x Sequential(\n",
              "          (0): SiLU()\n",
              "          (1): Linear(in_features=128, out_features=128, bias=True)\n",
              "        )\n",
              "      )\n",
              "      (resnet_conv_second): ModuleList(\n",
              "        (0-1): 2 x Sequential(\n",
              "          (0): GroupNorm(8, 128, eps=1e-05, affine=True)\n",
              "          (1): SiLU()\n",
              "          (2): Conv2d(128, 128, kernel_size=(3, 3), stride=(1, 1), padding=(1, 1))\n",
              "        )\n",
              "      )\n",
              "      (attention_norms): ModuleList(\n",
              "        (0-1): 2 x GroupNorm(8, 128, eps=1e-05, affine=True)\n",
              "      )\n",
              "      (attentions): ModuleList(\n",
              "        (0-1): 2 x MultiheadAttention(\n",
              "          (out_proj): NonDynamicallyQuantizableLinear(in_features=128, out_features=128, bias=True)\n",
              "        )\n",
              "      )\n",
              "      (residual_input_conv): ModuleList(\n",
              "        (0): Conv2d(64, 128, kernel_size=(1, 1), stride=(1, 1))\n",
              "        (1): Conv2d(128, 128, kernel_size=(1, 1), stride=(1, 1))\n",
              "      )\n",
              "      (down_sample_conv): Conv2d(128, 128, kernel_size=(4, 4), stride=(2, 2), padding=(1, 1))\n",
              "    )\n",
              "    (2): DownBlock(\n",
              "      (resnet_conv_first): ModuleList(\n",
              "        (0): Sequential(\n",
              "          (0): GroupNorm(8, 128, eps=1e-05, affine=True)\n",
              "          (1): SiLU()\n",
              "          (2): Conv2d(128, 256, kernel_size=(3, 3), stride=(1, 1), padding=(1, 1))\n",
              "        )\n",
              "        (1): Sequential(\n",
              "          (0): GroupNorm(8, 256, eps=1e-05, affine=True)\n",
              "          (1): SiLU()\n",
              "          (2): Conv2d(256, 256, kernel_size=(3, 3), stride=(1, 1), padding=(1, 1))\n",
              "        )\n",
              "      )\n",
              "      (t_emb_layers): ModuleList(\n",
              "        (0-1): 2 x Sequential(\n",
              "          (0): SiLU()\n",
              "          (1): Linear(in_features=128, out_features=256, bias=True)\n",
              "        )\n",
              "      )\n",
              "      (resnet_conv_second): ModuleList(\n",
              "        (0-1): 2 x Sequential(\n",
              "          (0): GroupNorm(8, 256, eps=1e-05, affine=True)\n",
              "          (1): SiLU()\n",
              "          (2): Conv2d(256, 256, kernel_size=(3, 3), stride=(1, 1), padding=(1, 1))\n",
              "        )\n",
              "      )\n",
              "      (attention_norms): ModuleList(\n",
              "        (0-1): 2 x GroupNorm(8, 256, eps=1e-05, affine=True)\n",
              "      )\n",
              "      (attentions): ModuleList(\n",
              "        (0-1): 2 x MultiheadAttention(\n",
              "          (out_proj): NonDynamicallyQuantizableLinear(in_features=256, out_features=256, bias=True)\n",
              "        )\n",
              "      )\n",
              "      (residual_input_conv): ModuleList(\n",
              "        (0): Conv2d(128, 256, kernel_size=(1, 1), stride=(1, 1))\n",
              "        (1): Conv2d(256, 256, kernel_size=(1, 1), stride=(1, 1))\n",
              "      )\n",
              "      (down_sample_conv): Identity()\n",
              "    )\n",
              "  )\n",
              "  (mids): ModuleList(\n",
              "    (0): MidBlock(\n",
              "      (resnet_conv_first): ModuleList(\n",
              "        (0-2): 3 x Sequential(\n",
              "          (0): GroupNorm(8, 256, eps=1e-05, affine=True)\n",
              "          (1): SiLU()\n",
              "          (2): Conv2d(256, 256, kernel_size=(3, 3), stride=(1, 1), padding=(1, 1))\n",
              "        )\n",
              "      )\n",
              "      (t_emb_layers): ModuleList(\n",
              "        (0-2): 3 x Sequential(\n",
              "          (0): SiLU()\n",
              "          (1): Linear(in_features=128, out_features=256, bias=True)\n",
              "        )\n",
              "      )\n",
              "      (resnet_conv_second): ModuleList(\n",
              "        (0-2): 3 x Sequential(\n",
              "          (0): GroupNorm(8, 256, eps=1e-05, affine=True)\n",
              "          (1): SiLU()\n",
              "          (2): Conv2d(256, 256, kernel_size=(3, 3), stride=(1, 1), padding=(1, 1))\n",
              "        )\n",
              "      )\n",
              "      (attention_norms): ModuleList(\n",
              "        (0-1): 2 x GroupNorm(8, 256, eps=1e-05, affine=True)\n",
              "      )\n",
              "      (attentions): ModuleList(\n",
              "        (0-1): 2 x MultiheadAttention(\n",
              "          (out_proj): NonDynamicallyQuantizableLinear(in_features=256, out_features=256, bias=True)\n",
              "        )\n",
              "      )\n",
              "      (residual_input_conv): ModuleList(\n",
              "        (0-2): 3 x Conv2d(256, 256, kernel_size=(1, 1), stride=(1, 1))\n",
              "      )\n",
              "    )\n",
              "    (1): MidBlock(\n",
              "      (resnet_conv_first): ModuleList(\n",
              "        (0): Sequential(\n",
              "          (0): GroupNorm(8, 256, eps=1e-05, affine=True)\n",
              "          (1): SiLU()\n",
              "          (2): Conv2d(256, 128, kernel_size=(3, 3), stride=(1, 1), padding=(1, 1))\n",
              "        )\n",
              "        (1-2): 2 x Sequential(\n",
              "          (0): GroupNorm(8, 128, eps=1e-05, affine=True)\n",
              "          (1): SiLU()\n",
              "          (2): Conv2d(128, 128, kernel_size=(3, 3), stride=(1, 1), padding=(1, 1))\n",
              "        )\n",
              "      )\n",
              "      (t_emb_layers): ModuleList(\n",
              "        (0-2): 3 x Sequential(\n",
              "          (0): SiLU()\n",
              "          (1): Linear(in_features=128, out_features=128, bias=True)\n",
              "        )\n",
              "      )\n",
              "      (resnet_conv_second): ModuleList(\n",
              "        (0-2): 3 x Sequential(\n",
              "          (0): GroupNorm(8, 128, eps=1e-05, affine=True)\n",
              "          (1): SiLU()\n",
              "          (2): Conv2d(128, 128, kernel_size=(3, 3), stride=(1, 1), padding=(1, 1))\n",
              "        )\n",
              "      )\n",
              "      (attention_norms): ModuleList(\n",
              "        (0-1): 2 x GroupNorm(8, 128, eps=1e-05, affine=True)\n",
              "      )\n",
              "      (attentions): ModuleList(\n",
              "        (0-1): 2 x MultiheadAttention(\n",
              "          (out_proj): NonDynamicallyQuantizableLinear(in_features=128, out_features=128, bias=True)\n",
              "        )\n",
              "      )\n",
              "      (residual_input_conv): ModuleList(\n",
              "        (0): Conv2d(256, 128, kernel_size=(1, 1), stride=(1, 1))\n",
              "        (1-2): 2 x Conv2d(128, 128, kernel_size=(1, 1), stride=(1, 1))\n",
              "      )\n",
              "    )\n",
              "  )\n",
              "  (ups): ModuleList(\n",
              "    (0): UpBlock(\n",
              "      (resnet_conv_first): ModuleList(\n",
              "        (0): Sequential(\n",
              "          (0): GroupNorm(8, 256, eps=1e-05, affine=True)\n",
              "          (1): SiLU()\n",
              "          (2): Conv2d(256, 64, kernel_size=(3, 3), stride=(1, 1), padding=(1, 1))\n",
              "        )\n",
              "        (1): Sequential(\n",
              "          (0): GroupNorm(8, 64, eps=1e-05, affine=True)\n",
              "          (1): SiLU()\n",
              "          (2): Conv2d(64, 64, kernel_size=(3, 3), stride=(1, 1), padding=(1, 1))\n",
              "        )\n",
              "      )\n",
              "      (t_emb_layers): ModuleList(\n",
              "        (0-1): 2 x Sequential(\n",
              "          (0): SiLU()\n",
              "          (1): Linear(in_features=128, out_features=64, bias=True)\n",
              "        )\n",
              "      )\n",
              "      (resnet_conv_second): ModuleList(\n",
              "        (0-1): 2 x Sequential(\n",
              "          (0): GroupNorm(8, 64, eps=1e-05, affine=True)\n",
              "          (1): SiLU()\n",
              "          (2): Conv2d(64, 64, kernel_size=(3, 3), stride=(1, 1), padding=(1, 1))\n",
              "        )\n",
              "      )\n",
              "      (attention_norms): ModuleList(\n",
              "        (0-1): 2 x GroupNorm(8, 64, eps=1e-05, affine=True)\n",
              "      )\n",
              "      (attentions): ModuleList(\n",
              "        (0-1): 2 x MultiheadAttention(\n",
              "          (out_proj): NonDynamicallyQuantizableLinear(in_features=64, out_features=64, bias=True)\n",
              "        )\n",
              "      )\n",
              "      (residual_input_conv): ModuleList(\n",
              "        (0): Conv2d(256, 64, kernel_size=(1, 1), stride=(1, 1))\n",
              "        (1): Conv2d(64, 64, kernel_size=(1, 1), stride=(1, 1))\n",
              "      )\n",
              "      (up_sample_conv): Identity()\n",
              "    )\n",
              "    (1): UpBlock(\n",
              "      (resnet_conv_first): ModuleList(\n",
              "        (0): Sequential(\n",
              "          (0): GroupNorm(8, 128, eps=1e-05, affine=True)\n",
              "          (1): SiLU()\n",
              "          (2): Conv2d(128, 32, kernel_size=(3, 3), stride=(1, 1), padding=(1, 1))\n",
              "        )\n",
              "        (1): Sequential(\n",
              "          (0): GroupNorm(8, 32, eps=1e-05, affine=True)\n",
              "          (1): SiLU()\n",
              "          (2): Conv2d(32, 32, kernel_size=(3, 3), stride=(1, 1), padding=(1, 1))\n",
              "        )\n",
              "      )\n",
              "      (t_emb_layers): ModuleList(\n",
              "        (0-1): 2 x Sequential(\n",
              "          (0): SiLU()\n",
              "          (1): Linear(in_features=128, out_features=32, bias=True)\n",
              "        )\n",
              "      )\n",
              "      (resnet_conv_second): ModuleList(\n",
              "        (0-1): 2 x Sequential(\n",
              "          (0): GroupNorm(8, 32, eps=1e-05, affine=True)\n",
              "          (1): SiLU()\n",
              "          (2): Conv2d(32, 32, kernel_size=(3, 3), stride=(1, 1), padding=(1, 1))\n",
              "        )\n",
              "      )\n",
              "      (attention_norms): ModuleList(\n",
              "        (0-1): 2 x GroupNorm(8, 32, eps=1e-05, affine=True)\n",
              "      )\n",
              "      (attentions): ModuleList(\n",
              "        (0-1): 2 x MultiheadAttention(\n",
              "          (out_proj): NonDynamicallyQuantizableLinear(in_features=32, out_features=32, bias=True)\n",
              "        )\n",
              "      )\n",
              "      (residual_input_conv): ModuleList(\n",
              "        (0): Conv2d(128, 32, kernel_size=(1, 1), stride=(1, 1))\n",
              "        (1): Conv2d(32, 32, kernel_size=(1, 1), stride=(1, 1))\n",
              "      )\n",
              "      (up_sample_conv): ConvTranspose2d(64, 64, kernel_size=(4, 4), stride=(2, 2), padding=(1, 1))\n",
              "    )\n",
              "    (2): UpBlock(\n",
              "      (resnet_conv_first): ModuleList(\n",
              "        (0): Sequential(\n",
              "          (0): GroupNorm(8, 64, eps=1e-05, affine=True)\n",
              "          (1): SiLU()\n",
              "          (2): Conv2d(64, 16, kernel_size=(3, 3), stride=(1, 1), padding=(1, 1))\n",
              "        )\n",
              "        (1): Sequential(\n",
              "          (0): GroupNorm(8, 16, eps=1e-05, affine=True)\n",
              "          (1): SiLU()\n",
              "          (2): Conv2d(16, 16, kernel_size=(3, 3), stride=(1, 1), padding=(1, 1))\n",
              "        )\n",
              "      )\n",
              "      (t_emb_layers): ModuleList(\n",
              "        (0-1): 2 x Sequential(\n",
              "          (0): SiLU()\n",
              "          (1): Linear(in_features=128, out_features=16, bias=True)\n",
              "        )\n",
              "      )\n",
              "      (resnet_conv_second): ModuleList(\n",
              "        (0-1): 2 x Sequential(\n",
              "          (0): GroupNorm(8, 16, eps=1e-05, affine=True)\n",
              "          (1): SiLU()\n",
              "          (2): Conv2d(16, 16, kernel_size=(3, 3), stride=(1, 1), padding=(1, 1))\n",
              "        )\n",
              "      )\n",
              "      (attention_norms): ModuleList(\n",
              "        (0-1): 2 x GroupNorm(8, 16, eps=1e-05, affine=True)\n",
              "      )\n",
              "      (attentions): ModuleList(\n",
              "        (0-1): 2 x MultiheadAttention(\n",
              "          (out_proj): NonDynamicallyQuantizableLinear(in_features=16, out_features=16, bias=True)\n",
              "        )\n",
              "      )\n",
              "      (residual_input_conv): ModuleList(\n",
              "        (0): Conv2d(64, 16, kernel_size=(1, 1), stride=(1, 1))\n",
              "        (1): Conv2d(16, 16, kernel_size=(1, 1), stride=(1, 1))\n",
              "      )\n",
              "      (up_sample_conv): ConvTranspose2d(32, 32, kernel_size=(4, 4), stride=(2, 2), padding=(1, 1))\n",
              "    )\n",
              "  )\n",
              "  (norm_out): GroupNorm(8, 16, eps=1e-05, affine=True)\n",
              "  (conv_out): Conv2d(16, 1, kernel_size=(3, 3), stride=(1, 1), padding=(1, 1))\n",
              ")"
            ]
          },
          "metadata": {},
          "execution_count": 39
        }
      ]
    },
    {
      "cell_type": "code",
      "source": [
        "# Create output directories\n",
        "if not os.path.exists(train_config['ckpt_path']):\n",
        "  os.mkdir(train_config['ckpt_path'])\n",
        "\n",
        "# Load checkpoint if found\n",
        "if os.path.exists(os.path.join(train_config['ckpt_path'],train_config['ckpt_name'])):\n",
        "  print('Loading checkpoint as found one')\n",
        "  model.load_state_dict(torch.load(os.path.join(train_config['ckpt_path'],\n",
        "                                                 train_config['ckpt_name']), map_location=device))"
      ],
      "metadata": {
        "id": "YOtZMmglOnyx",
        "colab": {
          "base_uri": "https://localhost:8080/"
        },
        "outputId": "04779995-1319-44f2-e641-6e461d082b98"
      },
      "execution_count": null,
      "outputs": [
        {
          "output_type": "stream",
          "name": "stdout",
          "text": [
            "Loading checkpoint as found one\n"
          ]
        },
        {
          "output_type": "stream",
          "name": "stderr",
          "text": [
            "<ipython-input-40-b149f0767d11>:8: FutureWarning: You are using `torch.load` with `weights_only=False` (the current default value), which uses the default pickle module implicitly. It is possible to construct malicious pickle data which will execute arbitrary code during unpickling (See https://github.com/pytorch/pytorch/blob/main/SECURITY.md#untrusted-models for more details). In a future release, the default value for `weights_only` will be flipped to `True`. This limits the functions that could be executed during unpickling. Arbitrary objects will no longer be allowed to be loaded via this mode unless they are explicitly allowlisted by the user via `torch.serialization.add_safe_globals`. We recommend you start setting `weights_only=True` for any use case where you don't have full control of the loaded file. Please open an issue on GitHub for any issues related to this experimental feature.\n",
            "  model.load_state_dict(torch.load(os.path.join(train_config['ckpt_path'],\n"
          ]
        }
      ]
    },
    {
      "cell_type": "code",
      "source": [
        "from torch.optim import Adam\n",
        "\n",
        "# Specify training parameters\n",
        "num_epochs = train_config['num_epochs']\n",
        "optimizer = Adam(model.parameters(), lr=train_config['lr'])\n",
        "criterion = torch.nn.MSELoss()"
      ],
      "metadata": {
        "id": "cOOpaXgcOq3w"
      },
      "execution_count": null,
      "outputs": []
    },
    {
      "cell_type": "code",
      "source": [
        "import os\n",
        "from torchvision.utils import make_grid\n",
        "from PIL import Image\n",
        "import torch\n",
        "import numpy as np\n",
        "from tqdm import tqdm\n",
        "\n",
        "def save_sample(model, scheduler, epoch_idx):\n",
        "    r\"\"\"\n",
        "    Sample stepwise by going backward one timestep at a time.\n",
        "    We save the final x0 predictions (after the last timestep).\n",
        "    \"\"\"\n",
        "    model.eval()  # Set model to evaluation mode for sampling\n",
        "\n",
        "    with torch.no_grad():  # Disable gradient calculations for sampling\n",
        "        xt = torch.randn((train_config['num_samples'],\n",
        "                          model_config['im_channels'],\n",
        "                          model_config['im_size'],\n",
        "                          model_config['im_size'])).to(device)\n",
        "\n",
        "        for i in tqdm(reversed(range(diffusion_config['num_timesteps']))):\n",
        "            # Predict noise at this timestep\n",
        "            noise_pred = model(xt, torch.tensor([i], device=device))\n",
        "\n",
        "            # Get xt-1 and predicted x0\n",
        "            xt, x0_pred = scheduler.sample_prev_timestep(xt, noise_pred, torch.tensor(i).to(device))\n",
        "\n",
        "            # Save the predicted x0 only at the final step (timestep i == 0)\n",
        "            if i == 0:\n",
        "                ims = torch.clamp(x0_pred, -1., 1.).cpu()  # Clamp to valid range\n",
        "                ims = (ims + 1) / 2  # Normalize to [0, 1]\n",
        "                grid = make_grid(ims, nrow=train_config['num_grid_rows'])\n",
        "                img = torchvision.transforms.ToPILImage()(grid)\n",
        "\n",
        "                # Create samples directory if it doesn't exist\n",
        "                sample_dir = train_config['imgs_path']\n",
        "                os.makedirs(sample_dir, exist_ok=True)\n",
        "\n",
        "                img.save(os.path.join(sample_dir, f'x0_epoch{epoch_idx+1}_final.png'))\n",
        "                img.close()\n",
        "\n",
        "    model.train()  # Set model back to training mode after sampling"
      ],
      "metadata": {
        "id": "Zo0o6FG5Y6HQ"
      },
      "execution_count": null,
      "outputs": []
    },
    {
      "cell_type": "code",
      "source": [
        "# Training loop\n",
        "for epoch_idx in range(7, num_epochs):\n",
        "    losses = []\n",
        "\n",
        "    for im in tqdm(mnist_loader):\n",
        "        optimizer.zero_grad()\n",
        "        im = im.float().to(device)\n",
        "\n",
        "        # Sample random noise\n",
        "        noise = torch.randn_like(im).to(device)\n",
        "\n",
        "        # Sample timestep\n",
        "        t = torch.randint(0, diffusion_config['num_timesteps'], (im.shape[0],)).to(device)\n",
        "\n",
        "        # Add noise to images according to timestep\n",
        "        noisy_im = scheduler.add_noise(im, noise, t)\n",
        "        noise_pred = model(noisy_im, t)\n",
        "\n",
        "        loss = criterion(noise_pred, noise)\n",
        "        losses.append(loss.item())\n",
        "        loss.backward()\n",
        "        optimizer.step()\n",
        "\n",
        "    # Print epoch loss\n",
        "    print('Finished epoch:{} | Loss : {:.4f}'.format(\n",
        "        epoch_idx + 1,\n",
        "        np.mean(losses),\n",
        "    ))\n",
        "\n",
        "    # Save model checkpoint\n",
        "    torch.save(model.state_dict(), os.path.join(train_config['ckpt_path'],\n",
        "                                                train_config['ckpt_name']))\n",
        "\n",
        "    # Generate and save sample images every 5 epochs\n",
        "    if (epoch_idx + 1) % 5 == 0:\n",
        "        save_sample(model, scheduler, epoch_idx)\n"
      ],
      "metadata": {
        "colab": {
          "base_uri": "https://localhost:8080/",
          "height": 879
        },
        "id": "wegGDqokO4kq",
        "outputId": "61ce2889-7b8e-49ef-dc1d-89b601bfb509"
      },
      "execution_count": null,
      "outputs": [
        {
          "metadata": {
            "tags": null
          },
          "name": "stderr",
          "output_type": "stream",
          "text": [
            "  0%|          | 0/938 [00:00<?, ?it/s]/usr/local/lib/python3.10/dist-packages/torch/utils/data/dataloader.py:617: UserWarning: This DataLoader will create 4 worker processes in total. Our suggested max number of worker in current system is 2, which is smaller than what this DataLoader is going to create. Please be aware that excessive worker creation might get DataLoader running slow or even freeze, lower the worker number to avoid potential slowness/freeze if necessary.\n",
            "  warnings.warn(\n",
            "100%|██████████| 938/938 [05:34<00:00,  2.81it/s]\n"
          ]
        },
        {
          "metadata": {
            "tags": null
          },
          "name": "stdout",
          "output_type": "stream",
          "text": [
            "Finished epoch:8 | Loss : 0.0246\n"
          ]
        },
        {
          "metadata": {
            "tags": null
          },
          "name": "stderr",
          "output_type": "stream",
          "text": [
            "100%|██████████| 938/938 [05:32<00:00,  2.82it/s]\n"
          ]
        },
        {
          "metadata": {
            "tags": null
          },
          "name": "stdout",
          "output_type": "stream",
          "text": [
            "Finished epoch:9 | Loss : 0.0249\n"
          ]
        },
        {
          "metadata": {
            "tags": null
          },
          "name": "stderr",
          "output_type": "stream",
          "text": [
            "100%|██████████| 938/938 [05:32<00:00,  2.82it/s]\n"
          ]
        },
        {
          "metadata": {
            "tags": null
          },
          "name": "stdout",
          "output_type": "stream",
          "text": [
            "Finished epoch:10 | Loss : 0.0248\n"
          ]
        },
        {
          "metadata": {
            "tags": null
          },
          "name": "stderr",
          "output_type": "stream",
          "text": [
            "1000it [00:26, 38.01it/s]\n",
            "100%|██████████| 938/938 [05:32<00:00,  2.82it/s]\n"
          ]
        },
        {
          "metadata": {
            "tags": null
          },
          "name": "stdout",
          "output_type": "stream",
          "text": [
            "Finished epoch:11 | Loss : 0.0249\n"
          ]
        },
        {
          "metadata": {
            "tags": null
          },
          "name": "stderr",
          "output_type": "stream",
          "text": [
            "100%|██████████| 938/938 [05:33<00:00,  2.82it/s]\n"
          ]
        },
        {
          "metadata": {
            "tags": null
          },
          "name": "stdout",
          "output_type": "stream",
          "text": [
            "Finished epoch:12 | Loss : 0.0246\n"
          ]
        },
        {
          "metadata": {
            "tags": null
          },
          "name": "stderr",
          "output_type": "stream",
          "text": [
            "100%|██████████| 938/938 [05:32<00:00,  2.82it/s]\n"
          ]
        },
        {
          "metadata": {
            "tags": null
          },
          "name": "stdout",
          "output_type": "stream",
          "text": [
            "Finished epoch:13 | Loss : 0.0248\n"
          ]
        },
        {
          "metadata": {
            "tags": null
          },
          "name": "stderr",
          "output_type": "stream",
          "text": [
            "100%|██████████| 938/938 [05:32<00:00,  2.82it/s]\n"
          ]
        },
        {
          "metadata": {
            "tags": null
          },
          "name": "stdout",
          "output_type": "stream",
          "text": [
            "Finished epoch:14 | Loss : 0.0248\n"
          ]
        },
        {
          "metadata": {
            "tags": null
          },
          "name": "stderr",
          "output_type": "stream",
          "text": [
            "100%|██████████| 938/938 [05:32<00:00,  2.82it/s]\n"
          ]
        },
        {
          "metadata": {
            "tags": null
          },
          "name": "stdout",
          "output_type": "stream",
          "text": [
            "Finished epoch:15 | Loss : 0.0247\n"
          ]
        },
        {
          "metadata": {
            "tags": null
          },
          "name": "stderr",
          "output_type": "stream",
          "text": [
            "1000it [00:25, 39.20it/s]\n",
            "100%|██████████| 938/938 [05:31<00:00,  2.83it/s]\n"
          ]
        },
        {
          "metadata": {
            "tags": null
          },
          "name": "stdout",
          "output_type": "stream",
          "text": [
            "Finished epoch:16 | Loss : 0.0249\n"
          ]
        },
        {
          "metadata": {
            "tags": null
          },
          "name": "stderr",
          "output_type": "stream",
          "text": [
            "100%|██████████| 938/938 [05:31<00:00,  2.83it/s]\n"
          ]
        },
        {
          "metadata": {
            "tags": null
          },
          "name": "stdout",
          "output_type": "stream",
          "text": [
            "Finished epoch:17 | Loss : 0.0248\n"
          ]
        },
        {
          "metadata": {
            "tags": null
          },
          "name": "stderr",
          "output_type": "stream",
          "text": [
            "100%|██████████| 938/938 [05:32<00:00,  2.82it/s]\n"
          ]
        },
        {
          "metadata": {
            "tags": null
          },
          "name": "stdout",
          "output_type": "stream",
          "text": [
            "Finished epoch:18 | Loss : 0.0248\n"
          ]
        },
        {
          "metadata": {
            "tags": null
          },
          "name": "stderr",
          "output_type": "stream",
          "text": [
            "100%|██████████| 938/938 [05:32<00:00,  2.82it/s]\n"
          ]
        },
        {
          "metadata": {
            "tags": null
          },
          "name": "stdout",
          "output_type": "stream",
          "text": [
            "Finished epoch:19 | Loss : 0.0247\n"
          ]
        },
        {
          "metadata": {
            "tags": null
          },
          "name": "stderr",
          "output_type": "stream",
          "text": [
            "100%|██████████| 938/938 [05:32<00:00,  2.82it/s]\n"
          ]
        },
        {
          "metadata": {
            "tags": null
          },
          "name": "stdout",
          "output_type": "stream",
          "text": [
            "Finished epoch:20 | Loss : 0.0248\n"
          ]
        },
        {
          "metadata": {
            "tags": null
          },
          "name": "stderr",
          "output_type": "stream",
          "text": [
            "1000it [00:25, 39.35it/s]\n",
            "100%|██████████| 938/938 [05:32<00:00,  2.82it/s]\n"
          ]
        },
        {
          "metadata": {
            "tags": null
          },
          "name": "stdout",
          "output_type": "stream",
          "text": [
            "Finished epoch:21 | Loss : 0.0250\n"
          ]
        },
        {
          "metadata": {
            "tags": null
          },
          "name": "stderr",
          "output_type": "stream",
          "text": [
            "100%|██████████| 938/938 [05:32<00:00,  2.82it/s]\n"
          ]
        },
        {
          "metadata": {
            "tags": null
          },
          "name": "stdout",
          "output_type": "stream",
          "text": [
            "Finished epoch:22 | Loss : 0.0248\n"
          ]
        },
        {
          "output_type": "stream",
          "name": "stderr",
          "text": [
            " 30%|██▉       | 281/938 [01:40<03:54,  2.80it/s]\n"
          ]
        },
        {
          "output_type": "error",
          "ename": "KeyboardInterrupt",
          "evalue": "",
          "traceback": [
            "\u001b[0;31m---------------------------------------------------------------------------\u001b[0m",
            "\u001b[0;31mKeyboardInterrupt\u001b[0m                         Traceback (most recent call last)",
            "\u001b[0;32m<ipython-input-41-721ee7fc3d95>\u001b[0m in \u001b[0;36m<cell line: 2>\u001b[0;34m()\u001b[0m\n\u001b[1;32m      5\u001b[0m     \u001b[0;32mfor\u001b[0m \u001b[0mim\u001b[0m \u001b[0;32min\u001b[0m \u001b[0mtqdm\u001b[0m\u001b[0;34m(\u001b[0m\u001b[0mmnist_loader\u001b[0m\u001b[0;34m)\u001b[0m\u001b[0;34m:\u001b[0m\u001b[0;34m\u001b[0m\u001b[0;34m\u001b[0m\u001b[0m\n\u001b[1;32m      6\u001b[0m         \u001b[0moptimizer\u001b[0m\u001b[0;34m.\u001b[0m\u001b[0mzero_grad\u001b[0m\u001b[0;34m(\u001b[0m\u001b[0;34m)\u001b[0m\u001b[0;34m\u001b[0m\u001b[0;34m\u001b[0m\u001b[0m\n\u001b[0;32m----> 7\u001b[0;31m         \u001b[0mim\u001b[0m \u001b[0;34m=\u001b[0m \u001b[0mim\u001b[0m\u001b[0;34m.\u001b[0m\u001b[0mfloat\u001b[0m\u001b[0;34m(\u001b[0m\u001b[0;34m)\u001b[0m\u001b[0;34m.\u001b[0m\u001b[0mto\u001b[0m\u001b[0;34m(\u001b[0m\u001b[0mdevice\u001b[0m\u001b[0;34m)\u001b[0m\u001b[0;34m\u001b[0m\u001b[0;34m\u001b[0m\u001b[0m\n\u001b[0m\u001b[1;32m      8\u001b[0m \u001b[0;34m\u001b[0m\u001b[0m\n\u001b[1;32m      9\u001b[0m         \u001b[0;31m# Sample random noise\u001b[0m\u001b[0;34m\u001b[0m\u001b[0;34m\u001b[0m\u001b[0m\n",
            "\u001b[0;31mKeyboardInterrupt\u001b[0m: "
          ]
        }
      ]
    },
    {
      "cell_type": "markdown",
      "source": [
        "# Model Usage"
      ],
      "metadata": {
        "id": "bjnztB61O_Ic"
      }
    }
  ]
}